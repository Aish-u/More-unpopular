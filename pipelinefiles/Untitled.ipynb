{
 "cells": [
  {
   "cell_type": "code",
   "execution_count": 1,
   "id": "6cb710d3",
   "metadata": {},
   "outputs": [
    {
     "name": "stdout",
     "output_type": "stream",
     "text": [
      "2020aauu.snana.dat\n"
     ]
    }
   ],
   "source": [
    "import os\n",
    "  \n",
    "# Folder Path\n",
    "path = 'C:/Users/araai/OneDrive/Desktop/TESS/More-unpopular/pipelinefiles/'\n",
    "  \n",
    "# Change the directory\n",
    "#os.chdir(path)\n",
    "  \n",
    "# Read text File\n",
    "  \n",
    "  \n",
    "def read_text_file(file_path):\n",
    "    str = []\n",
    "    count = 0 \n",
    "    with open(file_path, 'r') as f:\n",
    "        Lines = f.readlines()\n",
    "        str.append(Lines[13])\n",
    "        str.append(Lines[14])\n",
    "        str.append(Lines[15])\n",
    "    return str\n",
    "    \n",
    "  \n",
    "  \n",
    "# iterate through all file\n",
    "for file in os.listdir():\n",
    "        # Check whether file is in text format or not\n",
    "    if file.endswith(\".dat\"):\n",
    "        file_path = f\"{path}{file}\"\n",
    "        print(file)\n",
    "\n",
    "    # call read text file function\n",
    "f = read_text_file(file_path) \n",
    "\n",
    " \n",
    "        "
   ]
  },
  {
   "cell_type": "code",
   "execution_count": 2,
   "id": "6823d679",
   "metadata": {},
   "outputs": [
    {
     "name": "stdout",
     "output_type": "stream",
     "text": [
      "['VETTED_HOST_GALAXY_COORDS(RA, DECL)[deg]: (187.660302, 2.580352) \\n', 'VETTED_HOST_GALAXY_NAME: None (SIMBAD,SDSS)\\n', 'VETTED_HOST_GALAXY_REDSHIFT: -99.0000 +- 0.005 (HOST_Z, HELIO)\\n']\n"
     ]
    }
   ],
   "source": [
    "print(f)\n",
    "#create a df/ array \n"
   ]
  },
  {
   "cell_type": "code",
   "execution_count": 3,
   "id": "568dbfe0",
   "metadata": {},
   "outputs": [],
   "source": [
    "#use regex lol \n",
    "#pull substrings out -inlcude redshift cutoff in the substring statement.\n",
    "# if there is no redhsift leave it out or if redhsift >0.06\n"
   ]
  }
 ],
 "metadata": {
  "kernelspec": {
   "display_name": "Python 3 (ipykernel)",
   "language": "python",
   "name": "python3"
  },
  "language_info": {
   "codemirror_mode": {
    "name": "ipython",
    "version": 3
   },
   "file_extension": ".py",
   "mimetype": "text/x-python",
   "name": "python",
   "nbconvert_exporter": "python",
   "pygments_lexer": "ipython3",
   "version": "3.9.7"
  }
 },
 "nbformat": 4,
 "nbformat_minor": 5
}
