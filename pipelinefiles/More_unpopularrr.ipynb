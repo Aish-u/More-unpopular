{
 "cells": [
  {
   "cell_type": "code",
   "execution_count": 1,
   "metadata": {
    "colab": {
     "base_uri": "https://localhost:8080/"
    },
    "id": "tmIgK1YBm-ZH",
    "outputId": "0550343c-ae9d-4baf-b9be-737317ea7be9"
   },
   "outputs": [
    {
     "name": "stdout",
     "output_type": "stream",
     "text": [
      "Collecting git+https://github.com/soichiro-hattori/tess_cpm"
     ]
    },
    {
     "name": "stderr",
     "output_type": "stream",
     "text": [
      "  Running command git clone -q https://github.com/soichiro-hattori/tess_cpm 'C:\\Users\\araai\\AppData\\Local\\Temp\\pip-req-build-c1s1mgvi'\n"
     ]
    },
    {
     "name": "stdout",
     "output_type": "stream",
     "text": [
      "\n",
      "  Cloning https://github.com/soichiro-hattori/tess_cpm to c:\\users\\araai\\appdata\\local\\temp\\pip-req-build-c1s1mgvi\n",
      "  Resolved https://github.com/soichiro-hattori/tess_cpm to commit e9617642b2eb3299ebd8e4fdbc09d278573565ee\n",
      "Requirement already satisfied: numpy in c:\\users\\araai\\anaconda3\\lib\\site-packages (from tess-cpm==0.0.1) (1.20.3)\n",
      "Requirement already satisfied: matplotlib in c:\\users\\araai\\anaconda3\\lib\\site-packages (from tess-cpm==0.0.1) (3.4.3)\n",
      "Requirement already satisfied: scipy in c:\\users\\araai\\anaconda3\\lib\\site-packages (from tess-cpm==0.0.1) (1.7.1)\n",
      "Requirement already satisfied: astropy in c:\\users\\araai\\anaconda3\\lib\\site-packages (from tess-cpm==0.0.1) (5.1)\n",
      "Requirement already satisfied: astroquery in c:\\users\\araai\\anaconda3\\lib\\site-packages (from tess-cpm==0.0.1) (0.4.6)\n",
      "Requirement already satisfied: scikit-learn in c:\\users\\araai\\anaconda3\\lib\\site-packages (from tess-cpm==0.0.1) (1.1.1)\n",
      "Requirement already satisfied: lightkurve in c:\\users\\araai\\anaconda3\\lib\\site-packages (from tess-cpm==0.0.1) (2.1.1)\n",
      "Requirement already satisfied: PyYAML>=3.13 in c:\\users\\araai\\anaconda3\\lib\\site-packages (from astropy->tess-cpm==0.0.1) (6.0)\n",
      "Requirement already satisfied: pyerfa>=2.0 in c:\\users\\araai\\anaconda3\\lib\\site-packages (from astropy->tess-cpm==0.0.1) (2.0.0)\n",
      "Requirement already satisfied: packaging>=19.0 in c:\\users\\araai\\anaconda3\\lib\\site-packages (from astropy->tess-cpm==0.0.1) (21.0)\n",
      "Requirement already satisfied: pyparsing>=2.0.2 in c:\\users\\araai\\anaconda3\\lib\\site-packages (from packaging>=19.0->astropy->tess-cpm==0.0.1) (3.0.4)\n",
      "Requirement already satisfied: html5lib>=0.999 in c:\\users\\araai\\anaconda3\\lib\\site-packages (from astroquery->tess-cpm==0.0.1) (1.1)\n",
      "Requirement already satisfied: keyring>=4.0 in c:\\users\\araai\\anaconda3\\lib\\site-packages (from astroquery->tess-cpm==0.0.1) (23.1.0)\n",
      "Requirement already satisfied: requests>=2.4.3 in c:\\users\\araai\\anaconda3\\lib\\site-packages (from astroquery->tess-cpm==0.0.1) (2.26.0)\n",
      "Requirement already satisfied: pyvo>=1.1 in c:\\users\\araai\\anaconda3\\lib\\site-packages (from astroquery->tess-cpm==0.0.1) (1.3)\n",
      "Requirement already satisfied: beautifulsoup4>=4.3.2 in c:\\users\\araai\\anaconda3\\lib\\site-packages (from astroquery->tess-cpm==0.0.1) (4.10.0)\n",
      "Requirement already satisfied: soupsieve>1.2 in c:\\users\\araai\\anaconda3\\lib\\site-packages (from beautifulsoup4>=4.3.2->astroquery->tess-cpm==0.0.1) (2.2.1)\n",
      "Requirement already satisfied: six>=1.9 in c:\\users\\araai\\anaconda3\\lib\\site-packages (from html5lib>=0.999->astroquery->tess-cpm==0.0.1) (1.16.0)\n",
      "Requirement already satisfied: webencodings in c:\\users\\araai\\anaconda3\\lib\\site-packages (from html5lib>=0.999->astroquery->tess-cpm==0.0.1) (0.5.1)\n",
      "Requirement already satisfied: pywin32-ctypes!=0.1.0,!=0.1.1 in c:\\users\\araai\\anaconda3\\lib\\site-packages (from keyring>=4.0->astroquery->tess-cpm==0.0.1) (0.2.0)\n",
      "Requirement already satisfied: importlib-metadata>=3.6 in c:\\users\\araai\\anaconda3\\lib\\site-packages (from keyring>=4.0->astroquery->tess-cpm==0.0.1) (4.8.1)\n",
      "Requirement already satisfied: zipp>=0.5 in c:\\users\\araai\\anaconda3\\lib\\site-packages (from importlib-metadata>=3.6->keyring>=4.0->astroquery->tess-cpm==0.0.1) (3.6.0)\n",
      "Requirement already satisfied: certifi>=2017.4.17 in c:\\users\\araai\\anaconda3\\lib\\site-packages (from requests>=2.4.3->astroquery->tess-cpm==0.0.1) (2022.6.15)\n",
      "Requirement already satisfied: idna<4,>=2.5 in c:\\users\\araai\\anaconda3\\lib\\site-packages (from requests>=2.4.3->astroquery->tess-cpm==0.0.1) (3.2)\n",
      "Requirement already satisfied: charset-normalizer~=2.0.0 in c:\\users\\araai\\anaconda3\\lib\\site-packages (from requests>=2.4.3->astroquery->tess-cpm==0.0.1) (2.0.4)\n",
      "Requirement already satisfied: urllib3<1.27,>=1.21.1 in c:\\users\\araai\\anaconda3\\lib\\site-packages (from requests>=2.4.3->astroquery->tess-cpm==0.0.1) (1.26.7)\n",
      "Requirement already satisfied: uncertainties>=3.1.4 in c:\\users\\araai\\anaconda3\\lib\\site-packages (from lightkurve->tess-cpm==0.0.1) (3.1.6)\n",
      "Requirement already satisfied: patsy>=0.5.0 in c:\\users\\araai\\anaconda3\\lib\\site-packages (from lightkurve->tess-cpm==0.0.1) (0.5.2)\n",
      "Requirement already satisfied: memoization>=0.3.1 in c:\\users\\araai\\anaconda3\\lib\\site-packages (from lightkurve->tess-cpm==0.0.1) (0.4.0)\n",
      "Requirement already satisfied: bokeh>=1.0 in c:\\users\\araai\\anaconda3\\lib\\site-packages (from lightkurve->tess-cpm==0.0.1) (2.4.1)\n",
      "Requirement already satisfied: oktopus>=0.1.2 in c:\\users\\araai\\anaconda3\\lib\\site-packages (from lightkurve->tess-cpm==0.0.1) (0.1.2)\n",
      "Requirement already satisfied: tqdm>=4.25.0 in c:\\users\\araai\\anaconda3\\lib\\site-packages (from lightkurve->tess-cpm==0.0.1) (4.62.3)\n",
      "Requirement already satisfied: pandas>=1.1.4 in c:\\users\\araai\\anaconda3\\lib\\site-packages (from lightkurve->tess-cpm==0.0.1) (1.3.4)\n",
      "Requirement already satisfied: fbpca>=1.0 in c:\\users\\araai\\anaconda3\\lib\\site-packages (from lightkurve->tess-cpm==0.0.1) (1.0)\n",
      "Requirement already satisfied: Jinja2>=2.9 in c:\\users\\araai\\anaconda3\\lib\\site-packages (from bokeh>=1.0->lightkurve->tess-cpm==0.0.1) (2.11.3)\n",
      "Requirement already satisfied: typing-extensions>=3.10.0 in c:\\users\\araai\\anaconda3\\lib\\site-packages (from bokeh>=1.0->lightkurve->tess-cpm==0.0.1) (3.10.0.2)\n",
      "Requirement already satisfied: tornado>=5.1 in c:\\users\\araai\\anaconda3\\lib\\site-packages (from bokeh>=1.0->lightkurve->tess-cpm==0.0.1) (6.1)\n",
      "Requirement already satisfied: pillow>=7.1.0 in c:\\users\\araai\\anaconda3\\lib\\site-packages (from bokeh>=1.0->lightkurve->tess-cpm==0.0.1) (8.4.0)\n",
      "Requirement already satisfied: MarkupSafe>=0.23 in c:\\users\\araai\\anaconda3\\lib\\site-packages (from Jinja2>=2.9->bokeh>=1.0->lightkurve->tess-cpm==0.0.1) (1.1.1)\n",
      "Requirement already satisfied: cycler>=0.10 in c:\\users\\araai\\anaconda3\\lib\\site-packages (from matplotlib->tess-cpm==0.0.1) (0.10.0)\n",
      "Requirement already satisfied: python-dateutil>=2.7 in c:\\users\\araai\\anaconda3\\lib\\site-packages (from matplotlib->tess-cpm==0.0.1) (2.8.2)\n",
      "Requirement already satisfied: kiwisolver>=1.0.1 in c:\\users\\araai\\anaconda3\\lib\\site-packages (from matplotlib->tess-cpm==0.0.1) (1.3.1)\n",
      "Requirement already satisfied: autograd in c:\\users\\araai\\anaconda3\\lib\\site-packages (from oktopus>=0.1.2->lightkurve->tess-cpm==0.0.1) (1.3)\n",
      "Requirement already satisfied: pytz>=2017.3 in c:\\users\\araai\\anaconda3\\lib\\site-packages (from pandas>=1.1.4->lightkurve->tess-cpm==0.0.1) (2021.3)\n",
      "Requirement already satisfied: threadpoolctl>=2.0.0 in c:\\users\\araai\\anaconda3\\lib\\site-packages (from scikit-learn->tess-cpm==0.0.1) (2.2.0)\n",
      "Requirement already satisfied: joblib>=1.0.0 in c:\\users\\araai\\anaconda3\\lib\\site-packages (from scikit-learn->tess-cpm==0.0.1) (1.1.0)\n",
      "Requirement already satisfied: colorama in c:\\users\\araai\\anaconda3\\lib\\site-packages (from tqdm>=4.25.0->lightkurve->tess-cpm==0.0.1) (0.4.4)\n",
      "Requirement already satisfied: future in c:\\users\\araai\\anaconda3\\lib\\site-packages (from uncertainties>=3.1.4->lightkurve->tess-cpm==0.0.1) (0.18.2)\n"
     ]
    }
   ],
   "source": [
    "!pip install git+\"https://github.com/soichiro-hattori/tess_cpm\""
   ]
  },
  {
   "cell_type": "code",
   "execution_count": 2,
   "metadata": {},
   "outputs": [],
   "source": [
    "#pip install scikeras\n",
    "#pip install tensorflow"
   ]
  },
  {
   "cell_type": "markdown",
   "metadata": {
    "id": "5sKZzy-0nnR8"
   },
   "source": [
    "This program will contain the ML program that plays around with TESS-CPM data. - testing ground for Dr Ashley's MLP model!\n"
   ]
  },
  {
   "cell_type": "code",
   "execution_count": 2,
   "metadata": {
    "colab": {
     "base_uri": "https://localhost:8080/"
    },
    "id": "r4K-pRfYnjap",
    "outputId": "3ca9b1f8-58f2-4ecc-bab2-86e5889ba5c0"
   },
   "outputs": [],
   "source": [
    "#Load packages :keras, sklearn etc.,\n",
    "import numpy as np\n",
    "import pandas as pd\n",
    "#import torch.utils.data as data\n",
    "import matplotlib.pyplot as plt\n",
    "from tensorflow import keras\n",
    "from keras.callbacks import EarlyStopping\n",
    "from tensorflow.keras.models import Sequential\n",
    "from tensorflow.keras.layers import Dense\n",
    "from scikeras.wrappers import KerasClassifier\n",
    "from sklearn.model_selection import cross_val_score\n",
    "from sklearn.preprocessing import LabelEncoder\n",
    "from sklearn.model_selection import StratifiedKFold\n",
    "from sklearn.preprocessing import StandardScaler\n",
    "from sklearn.pipeline import Pipeline\n",
    "from sklearn.metrics import confusion_matrix, ConfusionMatrixDisplay"
   ]
  },
  {
   "cell_type": "code",
   "execution_count": 3,
   "metadata": {
    "colab": {
     "base_uri": "https://localhost:8080/"
    },
    "id": "wO1_tduLosCM",
    "outputId": "c705d0ca-121f-472f-8121-41f7ef930433"
   },
   "outputs": [],
   "source": [
    "def get_training_data(load=False, datafile ='test (1).npz'):\n",
    "    \n",
    "    if not load:\n",
    "        # This grabs the training data files from the appropriate directory\n",
    "        mypath = './pipelinefiles/'\n",
    "        training_data_files = [f for f in listdir(mypath) if isfile(join(mypath, f))]\n",
    "        \n",
    "        training_t = []  \n",
    "        training_f = []\n",
    "        training_class = []\n",
    "        training_info = []\n",
    "        for f in training_data_files:\n",
    "            data = np.load(mypath+f)\n",
    "            all_time=data['all_time']\n",
    "            all_flux=data['all_flux']\n",
    "            ra = data['ra']\n",
    "            dec = data['dec']\n",
    "            injmu_percentile=data['injmu_percentile']\n",
    "            injduration=data['injduration']\n",
    "            injloc_x=-1 * data['injloc_x']\n",
    "            injloc_y=-1 * data['injloc_y']\n",
    "            injpeak=data['injpeak']\n",
    "            \n",
    "            info = ra,dec,injmu_percentile,injduration,injloc_x,injloc_y,injpeak #injduration, injpeak\n",
    "            for i, t in enumerate(all_time):\n",
    "                f = all_flux[i]\n",
    "                row = np.floor(i/9) - 4\n",
    "                col = i%9 - 4\n",
    "                if np.all(np.isnan(f)):\n",
    "                    continue\n",
    "                if np.sqrt((row - injloc_x)**2 + (col-injloc_y)**2)<=2:\n",
    "                    training_t.append(t)\n",
    "                    training_f.append(f)\n",
    "                    training_class.append(1)\n",
    "                    training_info.append(info)\n",
    "                    \n",
    "                elif np.sqrt((row - injloc_x)**2 + (col-injloc_y)**2)>5:\n",
    "                    training_t.append(t)\n",
    "                    training_f.append(f)\n",
    "                    training_class.append(0)\n",
    "                    training_info.append(info)\n",
    "        np.savez(datafile,training_t = training_t, training_f = training_f,\n",
    "                training_class = training_class, training_info = training_info)\n",
    "        return training_t, training_f,training_class,training_info\n",
    "    else:\n",
    "        data = np.load(datafile, allow_pickle=True)\n",
    "        training_t = data['training_t']         # needs to be padded and then shuffled\n",
    "        training_f = data['training_f']         \n",
    "        training_class = data['training_class']  \n",
    "        training_info = data['training_info']   \n",
    "        return training_t, training_f,training_class,training_info\n",
    "training_t, training_f,training_class,training_info = get_training_data(load=True)"
   ]
  },
  {
   "cell_type": "code",
   "execution_count": 4,
   "metadata": {
    "id": "H1gQzZ6Ankkt"
   },
   "outputs": [
    {
     "data": {
      "text/plain": [
       "3658"
      ]
     },
     "execution_count": 4,
     "metadata": {},
     "output_type": "execute_result"
    }
   ],
   "source": [
    "#padding. for training_t, and f\n",
    "\n",
    "#max(map(len, arr)) arr being the array name\n",
    "max(map(len, training_t))\n",
    "#min(map(len,training_f))"
   ]
  },
  {
   "cell_type": "code",
   "execution_count": 5,
   "metadata": {
    "id": "8uDlvfFsoyJ_"
   },
   "outputs": [],
   "source": [
    "#padding the arrays to match the max size\n",
    "longest_len = 3658\n",
    "for i in np.arange(len(training_t)):\n",
    "    mylen = len(training_t[i])\n",
    "    if mylen>longest_len:\n",
    "        longest_len = mylen\n",
    "new_training_t = np.zeros((len(training_t),longest_len))\n",
    "new_training_f = np.zeros((len(training_t),longest_len))\n",
    "for i in np.arange(len(training_t)):\n",
    "    nl = len(training_t[i])\n",
    "    before_N=int(longest_len/2-(nl/2))\n",
    "    new_training_t[i,before_N:nl+before_N] = training_t[i]\n",
    "    new_training_f[i,before_N:nl+before_N] = training_f[i]"
   ]
  },
  {
   "cell_type": "code",
   "execution_count": 6,
   "metadata": {},
   "outputs": [
    {
     "data": {
      "text/plain": [
       "973"
      ]
     },
     "execution_count": 6,
     "metadata": {},
     "output_type": "execute_result"
    }
   ],
   "source": [
    "pd.Series(training_f).apply(lambda x: len(x)).idxmax()"
   ]
  },
  {
   "cell_type": "code",
   "execution_count": 7,
   "metadata": {},
   "outputs": [
    {
     "data": {
      "text/plain": [
       "0    2397\n",
       "1    2383\n",
       "Name: training_class, dtype: int64"
      ]
     },
     "execution_count": 7,
     "metadata": {},
     "output_type": "execute_result"
    }
   ],
   "source": [
    "#new set with 50/50 SNe\n",
    "count_arr = np.bincount(training_class)\n",
    "count1 = count_arr[1]\n",
    "count0 = count_arr[0]\n",
    "#print(count1)\n",
    "# we want 2383~ not SNe in the list\n",
    "df = pd.DataFrame(list(zip(new_training_f, training_class)),\n",
    "               columns =['new_training_f', 'training_class'])\n",
    "\n",
    "#order df by class\n",
    "ndf = df.sort_values(by='training_class', ascending=False)\n",
    "\n",
    "\n",
    "#select first 2383 Not sne \n",
    "ndf_head=ndf.head(2390)\n",
    "\n",
    "#select last 2383 Sne \n",
    "ndf_tail = ndf.tail(2390)\n",
    "\n",
    "#new dataset with balanced Sne distribution\n",
    "newDF =pd.concat([ndf_head, ndf_tail], axis=0)\n",
    "newDF.training_class.value_counts()  # to check distribution "
   ]
  },
  {
   "cell_type": "code",
   "execution_count": 8,
   "metadata": {},
   "outputs": [],
   "source": [
    "# shuffle the data frame \n",
    "newDF = newDF.sample(frac=1).reset_index(drop=True)\n",
    "training_f_array = newDF.new_training_f.values\n",
    "class_t = newDF.training_class.values\n"
   ]
  },
  {
   "cell_type": "code",
   "execution_count": 9,
   "metadata": {},
   "outputs": [
    {
     "data": {
      "text/plain": [
       "numpy.ndarray"
      ]
     },
     "execution_count": 9,
     "metadata": {},
     "output_type": "execute_result"
    }
   ],
   "source": [
    "type(training_f_array)"
   ]
  },
  {
   "cell_type": "code",
   "execution_count": null,
   "metadata": {},
   "outputs": [],
   "source": []
  },
  {
   "cell_type": "code",
   "execution_count": null,
   "metadata": {},
   "outputs": [],
   "source": [
    "\n",
    "\n"
   ]
  },
  {
   "cell_type": "code",
   "execution_count": 17,
   "metadata": {
    "colab": {
     "base_uri": "https://localhost:8080/"
    },
    "id": "2cGXyE5moyMd",
    "outputId": "acad448b-8be1-4fec-fbee-93f71bc2fc52"
   },
   "outputs": [],
   "source": [
    "# a balanced training set \n",
    "\n",
    "X =new_training_f[0:3000]\n",
    "encoded_Y = training_class[0:3000]\n",
    "\n",
    "#test set \n",
    "X_test = new_training_f[3001:4000]\n",
    "Y_test = training_class[3001:4000]"
   ]
  },
  {
   "cell_type": "code",
   "execution_count": 18,
   "metadata": {},
   "outputs": [
    {
     "data": {
      "text/plain": [
       "(3000, 3658)"
      ]
     },
     "execution_count": 18,
     "metadata": {},
     "output_type": "execute_result"
    }
   ],
   "source": [
    "X.shape"
   ]
  },
  {
   "cell_type": "code",
   "execution_count": 19,
   "metadata": {},
   "outputs": [],
   "source": [
    "opt = keras.optimizers.Adam(learning_rate = 0.00001)"
   ]
  },
  {
   "cell_type": "code",
   "execution_count": 20,
   "metadata": {
    "colab": {
     "base_uri": "https://localhost:8080/"
    },
    "id": "X4M0LShS1A8p",
    "outputId": "8e5c0d23-40e4-4b78-fefb-19057dda5179"
   },
   "outputs": [],
   "source": [
    "def create_baseline():\n",
    "    # create model\n",
    "    model = Sequential()\n",
    "    model.add(Dense(3658, input_shape=(3658,), activation='relu'))\n",
    "    model.add(Dense(500,  activation='relu'))\n",
    "    model.add(Dense(50, activation = 'relu'))\n",
    "    model.add(Dense(1, activation='sigmoid'))\n",
    "    # Compile model\n",
    "    model.compile(loss='binary_crossentropy', optimizer=opt, metrics=['accuracy'])\n",
    "    return model"
   ]
  },
  {
   "cell_type": "code",
   "execution_count": 21,
   "metadata": {},
   "outputs": [
    {
     "name": "stdout",
     "output_type": "stream",
     "text": [
      "Baseline: 89.77% (3.50%)\n"
     ]
    }
   ],
   "source": [
    "# evaluate model with standardized dataset\n",
    "estimator = KerasClassifier(model=create_baseline, epochs=20, batch_size=300, verbose=0)\n",
    "kfold = StratifiedKFold(n_splits=2, shuffle=True)\n",
    "results = cross_val_score(estimator, X, encoded_Y, cv=kfold)\n",
    "print(\"Baseline: %.2f%% (%.2f%%)\" % (results.mean()*100, results.std()*100))"
   ]
  },
  {
   "cell_type": "code",
   "execution_count": 22,
   "metadata": {},
   "outputs": [],
   "source": [
    "es = EarlyStopping(monitor='val_loss', mode='auto', verbose=1, patience = 30)\n",
    "# change patience \n",
    "# play with learning rate "
   ]
  },
  {
   "cell_type": "code",
   "execution_count": 23,
   "metadata": {
    "colab": {
     "base_uri": "https://localhost:8080/"
    },
    "id": "6OmCLOBu1BIH",
    "outputId": "0ea51a64-bdbf-403b-f3b3-0d654ba8c5a7"
   },
   "outputs": [
    {
     "name": "stdout",
     "output_type": "stream",
     "text": [
      "Epoch 1/100\n",
      "27/27 [==============================] - 3s 78ms/step - loss: 0.6415 - accuracy: 0.6870 - val_loss: 0.5449 - val_accuracy: 0.8400\n",
      "Epoch 2/100\n",
      "27/27 [==============================] - 2s 72ms/step - loss: 0.5332 - accuracy: 0.8481 - val_loss: 0.5386 - val_accuracy: 0.8267\n",
      "Epoch 3/100\n",
      "27/27 [==============================] - 2s 72ms/step - loss: 0.5119 - accuracy: 0.9063 - val_loss: 0.5406 - val_accuracy: 0.8967\n",
      "Epoch 4/100\n",
      "27/27 [==============================] - 2s 76ms/step - loss: 0.4968 - accuracy: 0.9433 - val_loss: 0.5412 - val_accuracy: 0.9433\n",
      "Epoch 5/100\n",
      "27/27 [==============================] - 2s 74ms/step - loss: 0.4839 - accuracy: 0.9596 - val_loss: 0.5510 - val_accuracy: 0.9500\n",
      "Epoch 6/100\n",
      "27/27 [==============================] - 2s 71ms/step - loss: 0.4717 - accuracy: 0.9696 - val_loss: 0.5520 - val_accuracy: 0.9500\n",
      "Epoch 7/100\n",
      "27/27 [==============================] - 2s 73ms/step - loss: 0.4565 - accuracy: 0.9793 - val_loss: 0.5760 - val_accuracy: 0.9067\n",
      "Epoch 8/100\n",
      "27/27 [==============================] - 2s 77ms/step - loss: 0.4397 - accuracy: 0.9867 - val_loss: 0.5457 - val_accuracy: 0.9567\n",
      "Epoch 9/100\n",
      "27/27 [==============================] - 2s 90ms/step - loss: 0.4222 - accuracy: 0.9889 - val_loss: 0.5309 - val_accuracy: 0.9600\n",
      "Epoch 10/100\n",
      "27/27 [==============================] - 2s 83ms/step - loss: 0.4054 - accuracy: 0.9896 - val_loss: 0.6582 - val_accuracy: 0.9133\n",
      "Epoch 11/100\n",
      "27/27 [==============================] - 2s 80ms/step - loss: 0.3869 - accuracy: 0.9952 - val_loss: 0.6232 - val_accuracy: 0.9133\n",
      "Epoch 12/100\n",
      "27/27 [==============================] - 2s 91ms/step - loss: 0.4179 - accuracy: 0.9719 - val_loss: 0.4562 - val_accuracy: 0.9567\n",
      "Epoch 13/100\n",
      "27/27 [==============================] - 2s 85ms/step - loss: 0.3770 - accuracy: 0.9737 - val_loss: 0.5774 - val_accuracy: 0.9133\n",
      "Epoch 14/100\n",
      "27/27 [==============================] - 2s 75ms/step - loss: 0.3582 - accuracy: 0.9867 - val_loss: 0.6701 - val_accuracy: 0.9133\n",
      "Epoch 15/100\n",
      "27/27 [==============================] - 2s 74ms/step - loss: 0.3425 - accuracy: 0.9952 - val_loss: 0.7015 - val_accuracy: 0.9133\n",
      "Epoch 16/100\n",
      "27/27 [==============================] - 2s 83ms/step - loss: 0.3282 - accuracy: 0.9970 - val_loss: 0.6800 - val_accuracy: 0.9133\n",
      "Epoch 17/100\n",
      "27/27 [==============================] - 2s 75ms/step - loss: 0.3140 - accuracy: 0.9981 - val_loss: 0.7097 - val_accuracy: 0.9133\n",
      "Epoch 18/100\n",
      "27/27 [==============================] - 2s 75ms/step - loss: 0.3032 - accuracy: 0.9978 - val_loss: 0.7615 - val_accuracy: 0.9133\n",
      "Epoch 19/100\n",
      "27/27 [==============================] - 2s 78ms/step - loss: 0.2908 - accuracy: 0.9981 - val_loss: 0.7821 - val_accuracy: 0.9133\n",
      "Epoch 20/100\n",
      "27/27 [==============================] - 2s 75ms/step - loss: 0.2772 - accuracy: 0.9996 - val_loss: 0.7530 - val_accuracy: 0.9133\n",
      "Epoch 21/100\n",
      "27/27 [==============================] - 2s 74ms/step - loss: 0.2640 - accuracy: 0.9996 - val_loss: 0.7838 - val_accuracy: 0.9133\n",
      "Epoch 22/100\n",
      "27/27 [==============================] - 2s 74ms/step - loss: 0.2568 - accuracy: 0.9989 - val_loss: 0.8719 - val_accuracy: 0.9100\n",
      "Epoch 23/100\n",
      "27/27 [==============================] - 2s 84ms/step - loss: 0.2528 - accuracy: 0.9948 - val_loss: 0.7336 - val_accuracy: 0.9133\n",
      "Epoch 24/100\n",
      "27/27 [==============================] - 2s 80ms/step - loss: 0.2367 - accuracy: 0.9989 - val_loss: 1.0654 - val_accuracy: 0.8767\n",
      "Epoch 25/100\n",
      "27/27 [==============================] - 2s 81ms/step - loss: 0.2246 - accuracy: 0.9989 - val_loss: 0.8047 - val_accuracy: 0.9033\n",
      "Epoch 26/100\n",
      "27/27 [==============================] - 2s 77ms/step - loss: 0.2131 - accuracy: 0.9989 - val_loss: 0.9673 - val_accuracy: 0.8900\n",
      "Epoch 27/100\n",
      "27/27 [==============================] - 2s 82ms/step - loss: 0.2026 - accuracy: 0.9993 - val_loss: 0.9795 - val_accuracy: 0.8800\n",
      "Epoch 28/100\n",
      "27/27 [==============================] - 2s 79ms/step - loss: 0.1939 - accuracy: 0.9993 - val_loss: 0.9318 - val_accuracy: 0.9133\n",
      "Epoch 29/100\n",
      "27/27 [==============================] - 2s 78ms/step - loss: 0.1829 - accuracy: 0.9993 - val_loss: 1.1701 - val_accuracy: 0.8733\n",
      "Epoch 30/100\n",
      "27/27 [==============================] - 2s 75ms/step - loss: 0.1731 - accuracy: 0.9993 - val_loss: 1.6401 - val_accuracy: 0.8700\n",
      "Epoch 31/100\n",
      "27/27 [==============================] - 2s 85ms/step - loss: 0.1640 - accuracy: 0.9993 - val_loss: 1.8184 - val_accuracy: 0.8700\n",
      "Epoch 32/100\n",
      "27/27 [==============================] - 2s 77ms/step - loss: 0.1562 - accuracy: 1.0000 - val_loss: 1.7600 - val_accuracy: 0.8733\n",
      "Epoch 33/100\n",
      "27/27 [==============================] - 2s 82ms/step - loss: 0.1475 - accuracy: 1.0000 - val_loss: 2.1197 - val_accuracy: 0.8600\n",
      "Epoch 34/100\n",
      "27/27 [==============================] - 2s 79ms/step - loss: 0.1395 - accuracy: 1.0000 - val_loss: 0.5381 - val_accuracy: 0.9500\n",
      "Epoch 35/100\n",
      "27/27 [==============================] - 2s 77ms/step - loss: 0.1363 - accuracy: 0.9996 - val_loss: 0.8229 - val_accuracy: 0.9133\n",
      "Epoch 36/100\n",
      "27/27 [==============================] - 2s 76ms/step - loss: 0.1286 - accuracy: 1.0000 - val_loss: 1.0148 - val_accuracy: 0.9133\n",
      "Epoch 37/100\n",
      "27/27 [==============================] - 2s 71ms/step - loss: 0.1208 - accuracy: 1.0000 - val_loss: 0.8514 - val_accuracy: 0.9133\n",
      "Epoch 38/100\n",
      "27/27 [==============================] - 2s 82ms/step - loss: 0.1134 - accuracy: 1.0000 - val_loss: 1.1434 - val_accuracy: 0.9033\n",
      "Epoch 39/100\n",
      "27/27 [==============================] - 2s 75ms/step - loss: 0.1069 - accuracy: 1.0000 - val_loss: 1.2281 - val_accuracy: 0.8800\n",
      "Epoch 40/100\n",
      "27/27 [==============================] - 2s 83ms/step - loss: 0.1011 - accuracy: 1.0000 - val_loss: 1.0340 - val_accuracy: 0.8767\n",
      "Epoch 41/100\n",
      "27/27 [==============================] - 2s 74ms/step - loss: 0.0953 - accuracy: 1.0000 - val_loss: 1.4709 - val_accuracy: 0.8600\n",
      "Epoch 42/100\n",
      "27/27 [==============================] - 2s 86ms/step - loss: 0.0900 - accuracy: 1.0000 - val_loss: 1.8027 - val_accuracy: 0.8367\n",
      "Epoch 42: early stopping\n"
     ]
    }
   ],
   "source": [
    "model = create_baseline() # saves the create_baseline() function in model \n",
    "\n",
    "history = model.fit(\n",
    "x = X,\n",
    "y = encoded_Y,\n",
    "batch_size = 100,\n",
    "epochs = 100,\n",
    "validation_split = 0.1,\n",
    "callbacks = [es])\n"
   ]
  },
  {
   "cell_type": "code",
   "execution_count": 24,
   "metadata": {
    "id": "nEiXZBqd1BQZ"
   },
   "outputs": [
    {
     "data": {
      "image/png": "[encoded data removed]",
      "text/plain": [
       "<Figure size 432x288 with 1 Axes>"
      ]
     },
     "metadata": {
      "needs_background": "light"
     },
     "output_type": "display_data"
    },
    {
     "data": {
      "image/png": "[encoded data removed]",
      "text/plain": [
       "<Figure size 432x288 with 1 Axes>"
      ]
     },
     "metadata": {
      "needs_background": "light"
     },
     "output_type": "display_data"
    }
   ],
   "source": [
    "# summarize history for accuracy\n",
    "plt.plot(history.history['accuracy'])\n",
    "plt.plot(history.history['val_accuracy'])\n",
    "plt.title('model accuracy')\n",
    "plt.ylabel('accuracy')\n",
    "plt.xlabel('epoch')\n",
    "plt.legend(['train', 'test'], loc='upper left')\n",
    "plt.show()\n",
    "# summarize history for loss\n",
    "plt.plot(history.history['loss'])\n",
    "plt.plot(history.history['val_loss'])\n",
    "plt.title('model loss')\n",
    "plt.ylabel('loss')\n",
    "plt.xlabel('epoch')\n",
    "plt.legend(['train', 'test'], loc='upper left')\n",
    "plt.show()"
   ]
  },
  {
   "cell_type": "code",
   "execution_count": null,
   "metadata": {
    "id": "59XAjIuEEdmb"
   },
   "outputs": [],
   "source": []
  },
  {
   "cell_type": "code",
   "execution_count": 25,
   "metadata": {
    "id": "4ZbXtpYOEpf4"
   },
   "outputs": [
    {
     "name": "stdout",
     "output_type": "stream",
     "text": [
      "32/32 [==============================] - 1s 17ms/step - loss: 2.4463 - accuracy: 0.9219\n"
     ]
    },
    {
     "data": {
      "text/plain": [
       "[2.446279764175415, 0.9219219088554382]"
      ]
     },
     "execution_count": 25,
     "metadata": {},
     "output_type": "execute_result"
    }
   ],
   "source": [
    "# testing testing \n",
    "\n",
    "model.evaluate(X_test,Y_test)\n",
    " \n"
   ]
  },
  {
   "cell_type": "code",
   "execution_count": null,
   "metadata": {
    "id": "h8qyAgqNldNj"
   },
   "outputs": [],
   "source": []
  },
  {
   "cell_type": "code",
   "execution_count": 303,
   "metadata": {
    "colab": {
     "base_uri": "https://localhost:8080/"
    },
    "id": "2U1THDfioyOx",
    "outputId": "c958198f-c84a-4c32-c0f8-35d4c1eba781"
   },
   "outputs": [],
   "source": [
    "# balancing the data"
   ]
  },
  {
   "cell_type": "code",
   "execution_count": null,
   "metadata": {
    "id": "OpvQoUZ8oyRO"
   },
   "outputs": [],
   "source": []
  },
  {
   "cell_type": "code",
   "execution_count": null,
   "metadata": {
    "id": "T93luOmqIdOx"
   },
   "outputs": [],
   "source": []
  },
  {
   "cell_type": "code",
   "execution_count": null,
   "metadata": {
    "id": "b5L_MfszBU4k"
   },
   "outputs": [],
   "source": [
    "\n",
    "\n",
    "  \n",
    "  \n",
    "  \n",
    "\n",
    "\n",
    "\n",
    "  \n",
    "\n",
    "\n",
    "\n",
    "  \n",
    "\n",
    "  "
   ]
  },
  {
   "cell_type": "code",
   "execution_count": null,
   "metadata": {
    "colab": {
     "base_uri": "https://localhost:8080/"
    },
    "id": "2mLWPHd_IJbz",
    "outputId": "cfe3599c-b7b4-4981-d18c-0bf6a3e61991"
   },
   "outputs": [],
   "source": []
  },
  {
   "cell_type": "code",
   "execution_count": null,
   "metadata": {
    "colab": {
     "base_uri": "https://localhost:8080/"
    },
    "id": "F1Zkj_VrOlmZ",
    "outputId": "d8ab5c5d-eb2f-4812-a54f-ac91c9f5791e"
   },
   "outputs": [],
   "source": []
  },
  {
   "cell_type": "code",
   "execution_count": null,
   "metadata": {
    "colab": {
     "base_uri": "https://localhost:8080/"
    },
    "id": "GJUVf9JBsWvh",
    "outputId": "968afff0-5cff-42fe-a163-6694033a3d13"
   },
   "outputs": [],
   "source": []
  },
  {
   "cell_type": "code",
   "execution_count": null,
   "metadata": {
    "id": "gbrs7VORoyTu"
   },
   "outputs": [],
   "source": []
  },
  {
   "cell_type": "code",
   "execution_count": null,
   "metadata": {
    "colab": {
     "base_uri": "https://localhost:8080/"
    },
    "id": "MDZ7KZ5HoyWC",
    "outputId": "ec46f2eb-768e-4737-d4dc-22b42b821d43"
   },
   "outputs": [],
   "source": [
    " "
   ]
  },
  {
   "cell_type": "code",
   "execution_count": null,
   "metadata": {
    "colab": {
     "base_uri": "https://localhost:8080/",
     "height": 166
    },
    "id": "dg0Mfm6fnQJd",
    "outputId": "f0b7ab1e-f24d-4da4-96bc-b92518badb37"
   },
   "outputs": [],
   "source": []
  },
  {
   "cell_type": "code",
   "execution_count": 342,
   "metadata": {
    "id": "7KY4oNU4oyYJ"
   },
   "outputs": [
    {
     "data": {
      "text/plain": [
       "(array([446.,   0.,   0.,   0.,   0.,   0.,   0.,   0.,   0., 149.]),\n",
       " array([0. , 0.1, 0.2, 0.3, 0.4, 0.5, 0.6, 0.7, 0.8, 0.9, 1. ]),\n",
       " <BarContainer object of 10 artists>)"
      ]
     },
     "execution_count": 342,
     "metadata": {},
     "output_type": "execute_result"
    },
    {
     "data": {
      "image/png": "[encoded data removed]",
      "text/plain": [
       "<Figure size 432x288 with 1 Axes>"
      ]
     },
     "metadata": {
      "needs_background": "light"
     },
     "output_type": "display_data"
    }
   ],
   "source": [
    "plt.hist(training_class[10:605])"
   ]
  },
  {
   "cell_type": "code",
   "execution_count": 26,
   "metadata": {
    "colab": {
     "base_uri": "https://localhost:8080/",
     "height": 279
    },
    "id": "SWnBOOZFoyas",
    "outputId": "f50f6ac7-4bb6-4a20-9f4c-1bf11676dfe2"
   },
   "outputs": [],
   "source": [
    "t_train = new_training_t[0:3000]\n"
   ]
  },
  {
   "cell_type": "code",
   "execution_count": 27,
   "metadata": {},
   "outputs": [
    {
     "ename": "IndexError",
     "evalue": "index 999 is out of bounds for axis 0 with size 999",
     "output_type": "error",
     "traceback": [
      "\u001b[1;31m---------------------------------------------------------------------------\u001b[0m",
      "\u001b[1;31mIndexError\u001b[0m                                Traceback (most recent call last)",
      "\u001b[1;32m~\\AppData\\Local\\Temp/ipykernel_10484/796601005.py\u001b[0m in \u001b[0;36m<module>\u001b[1;34m\u001b[0m\n\u001b[0;32m      1\u001b[0m \u001b[0mall_my_guesses\u001b[0m \u001b[1;33m=\u001b[0m \u001b[1;33m[\u001b[0m\u001b[1;33m]\u001b[0m\u001b[1;33m\u001b[0m\u001b[1;33m\u001b[0m\u001b[0m\n\u001b[0;32m      2\u001b[0m \u001b[1;32mfor\u001b[0m \u001b[0mi\u001b[0m \u001b[1;32min\u001b[0m \u001b[0mnp\u001b[0m\u001b[1;33m.\u001b[0m\u001b[0marange\u001b[0m\u001b[1;33m(\u001b[0m\u001b[0mlen\u001b[0m\u001b[1;33m(\u001b[0m\u001b[0mt_train\u001b[0m\u001b[1;33m)\u001b[0m\u001b[1;33m)\u001b[0m\u001b[1;33m:\u001b[0m\u001b[1;33m\u001b[0m\u001b[1;33m\u001b[0m\u001b[0m\n\u001b[1;32m----> 3\u001b[1;33m     \u001b[1;32mif\u001b[0m \u001b[0mnp\u001b[0m\u001b[1;33m.\u001b[0m\u001b[0mnanmean\u001b[0m\u001b[1;33m(\u001b[0m\u001b[0mX_test\u001b[0m\u001b[1;33m[\u001b[0m\u001b[0mi\u001b[0m\u001b[1;33m]\u001b[0m\u001b[1;33m)\u001b[0m\u001b[1;33m>\u001b[0m \u001b[1;36m1.0\u001b[0m\u001b[1;33m:\u001b[0m\u001b[1;33m\u001b[0m\u001b[1;33m\u001b[0m\u001b[0m\n\u001b[0m\u001b[0;32m      4\u001b[0m         \u001b[0mmy_guess\u001b[0m \u001b[1;33m=\u001b[0m \u001b[1;36m1\u001b[0m \u001b[1;31m#I think there is a transient!\u001b[0m\u001b[1;33m\u001b[0m\u001b[1;33m\u001b[0m\u001b[0m\n\u001b[0;32m      5\u001b[0m     \u001b[1;32melse\u001b[0m\u001b[1;33m:\u001b[0m\u001b[1;33m\u001b[0m\u001b[1;33m\u001b[0m\u001b[0m\n",
      "\u001b[1;31mIndexError\u001b[0m: index 999 is out of bounds for axis 0 with size 999"
     ]
    }
   ],
   "source": [
    "all_my_guesses = []\n",
    "for i in np.arange(len(t_train)):\n",
    "    if np.nanmean(X_test[i])> 1.0:\n",
    "        my_guess = 1 #I think there is a transient!\n",
    "    else:\n",
    "        my_guess = 0 #I think there is NOT a transient\n",
    "    all_my_guesses.append(my_guess)\n",
    "#\" training class\" are the true classes, where 1 means there IS a transient, and 0 means NO transient\n",
    "cm = confusion_matrix(Y_test, all_my_guesses)\n",
    "disp = ConfusionMatrixDisplay(confusion_matrix=cm)\n",
    "disp.plot()\n",
    "plt.savefig('cm1.png')"
   ]
  }
 ],
 "metadata": {
  "colab": {
   "collapsed_sections": [],
   "name": "More-unpopularrr",
   "provenance": []
  },
  "kernelspec": {
   "display_name": "Python 3 (ipykernel)",
   "language": "python",
   "name": "python3"
  },
  "language_info": {
   "codemirror_mode": {
    "name": "ipython",
    "version": 3
   },
   "file_extension": ".py",
   "mimetype": "text/x-python",
   "name": "python",
   "nbconvert_exporter": "python",
   "pygments_lexer": "ipython3",
   "version": "3.9.7"
  }
 },
 "nbformat": 4,
 "nbformat_minor": 1
}
