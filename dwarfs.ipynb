{
 "cells": [
  {
   "cell_type": "code",
   "execution_count": null,
   "metadata": {},
   "outputs": [],
   "source": [
    "import tess_cpm\n",
    "import numpy as np\n",
    "import matplotlib.pyplot as plt\n",
    "import lightkurve as lk\n",
    "from astropy.io import fits\n",
    "from astropy.wcs import WCS"
   ]
  },
  {
   "cell_type": "code",
   "execution_count": null,
   "metadata": {},
   "outputs": [],
   "source": [
    "def cpm_periodogram(fits_file, t_row=50, t_col=50):\n",
    "    cpm = tess_cpm.CPM(fits_file, remove_bad=True)\n",
    "    cpm.set_target(t_row, t_col)\n",
    "    cpm.set_exclusion(10)\n",
    "    cpm.set_predictor_pixels(256, method='cosine_similarity')\n",
    "    cpm.lsq(0.1, rescale=True, polynomials=False)\n",
    "    tess_cpm.summary_plot(cpm, 10)\n",
    "    aperture_lc, lc_matrix = cpm.get_aperture_lc(box=1, show_pixel_lc=True, show_aperture_lc=True)\n",
    "    lc = lk.LightCurve(time=cpm.time, flux=aperture_lc)\n",
    "    pg = lc.to_periodogram(oversample_factor=100)\n",
    "    fig, axs = plt.subplots(2, 1, figsize=(15, 8))\n",
    "    pg.plot(ax=axs[0], c='k')\n",
    "    pg.plot(ax=axs[1], c='k', view='period')\n",
    "    fig.suptitle(\"Periodogram\", fontsize=20, y=0.95)\n",
    "    period = pg.period_at_max_power\n",
    "    print(f\"Max Power Period: {period}\")\n",
    "    lc.fold(period.value*4).scatter()\n",
    "    plt.title(f\"Folded Lightcurve with Period: {period:.4f}\", fontsize=20)\n",
    "    return cpm"
   ]
  },
  {
   "cell_type": "code",
   "execution_count": null,
   "metadata": {},
   "outputs": [],
   "source": [
    "plt.rcParams[\"figure.figsize\"] = (12, 8)"
   ]
  },
  {
   "cell_type": "code",
   "execution_count": null,
   "metadata": {},
   "outputs": [],
   "source": [
    "fits_file = \"dwarfs/tess-s0012-3-3_169.234200_-80.464300_100x100_astrocut.fits\""
   ]
  },
  {
   "cell_type": "code",
   "execution_count": null,
   "metadata": {},
   "outputs": [],
   "source": [
    "dw = tess_cpm.Source(fits_file)"
   ]
  },
  {
   "cell_type": "code",
   "execution_count": null,
   "metadata": {},
   "outputs": [],
   "source": [
    "dw.plot_cutout()\n",
    "dw.set_aperture(rowrange=[46, 52], colrange=[48, 53])\n",
    "dw.plot_cutout(rowrange=[45, 55], colrange=[45, 55], show_aperture=True)"
   ]
  },
  {
   "cell_type": "code",
   "execution_count": null,
   "metadata": {},
   "outputs": [],
   "source": [
    "dw.plot_pix_by_pix()"
   ]
  },
  {
   "cell_type": "code",
   "execution_count": null,
   "metadata": {},
   "outputs": [],
   "source": [
    "dw.add_cpm_model()\n",
    "dw.set_regs([0.5])\n",
    "dw.holdout_fit_predict(k=10)\n",
    "dw.plot_pix_by_pix(data_type=\"cpm_subtracted_lc\")"
   ]
  },
  {
   "cell_type": "code",
   "execution_count": null,
   "metadata": {},
   "outputs": [],
   "source": [
    "detrended_lc = dw.get_aperture_lc(split=True, data_type=\"cpm_subtracted_lc\")"
   ]
  },
  {
   "cell_type": "code",
   "execution_count": null,
   "metadata": {},
   "outputs": [],
   "source": [
    "for time, lc in zip(dw.split_times, detrended_lc):\n",
    "    plt.plot(time, lc, \"-\")"
   ]
  },
  {
   "cell_type": "code",
   "execution_count": null,
   "metadata": {},
   "outputs": [],
   "source": [
    "cpm_regs = 0.01 * np.arange(1, 21)\n",
    "min_cdpp_reg, cdpps = dw.calc_min_cpm_reg(cpm_regs, k=10)"
   ]
  },
  {
   "cell_type": "code",
   "execution_count": null,
   "metadata": {},
   "outputs": [],
   "source": [
    "dw.set_regs([min_cdpp])\n",
    "dw.holdout_fit_predict(k=10)"
   ]
  },
  {
   "cell_type": "code",
   "execution_count": null,
   "metadata": {},
   "outputs": [],
   "source": [
    "plt.plot(dw.time, dw.get_aperture_lc(\"cpm_subtracted_lc\"), \"-\", c=\"k\")"
   ]
  },
  {
   "cell_type": "code",
   "execution_count": null,
   "metadata": {},
   "outputs": [],
   "source": [
    "cpm = cpm_periodogram(fits_file)"
   ]
  },
  {
   "cell_type": "code",
   "execution_count": null,
   "metadata": {},
   "outputs": [],
   "source": [
    "c = tess_cpm.CPM(fits_file, remove_bad=True)"
   ]
  },
  {
   "cell_type": "code",
   "execution_count": null,
   "metadata": {},
   "outputs": [],
   "source": [
    "plt.figure(figsize=(15, 12))\n",
    "c.set_poly_model(1, 4, 0.5)\n",
    "c.set_target_exclusion_predictors(50, 52)\n",
    "c.xval(0.1);\n",
    "plt.plot(cpm.time, cpm.aperture_lc / 9, color='k', alpha=0.4)"
   ]
  },
  {
   "cell_type": "code",
   "execution_count": null,
   "metadata": {
    "scrolled": true
   },
   "outputs": [],
   "source": [
    "# plt.figure(figsize=(12, 8))\n",
    "# plt.plot(c.time, c.rescaled_target_fluxes, '.')\n",
    "# n = 10\n",
    "# # locs, mask = c.get_contributing_pixels(n)\n",
    "# # print(c.rescaled_predictor_pixels_fluxes.shape)\n",
    "# # print(locs[2])\n",
    "# # plt.plot(c.time, c.rescaled_im_fluxes[:, locs[0][0], locs[0][1]], '-')\n",
    "# # plt.plot(c.time, c.rescaled_predictor_pixels_fluxes[:, 4])\n",
    "# for i in range(n):\n",
    "#     plt.figure(figsize=(12, 8))\n",
    "#     t = c.rescaled_target_fluxes\n",
    "#     p = c.rescaled_predictor_pixels_fluxes[:, i]\n",
    "#     plt.plot(c.time, t, '.')\n",
    "#     plt.plot(c.time, p, '-', alpha=0.4)\n",
    "#     plt.title(np.dot(p, t)/(np.linalg.norm(p)*np.linalg.norm(t)), fontsize=25)\n",
    "#     plt.show()"
   ]
  },
  {
   "cell_type": "code",
   "execution_count": null,
   "metadata": {},
   "outputs": [],
   "source": [
    "# plt.figure(figsize=(12, 8))\n",
    "# plt.plot(c.time, c.rescaled_target_fluxes, '.')\n",
    "# n = 10\n",
    "# # locs, mask = c.get_contributing_pixels(n)\n",
    "# # print(c.rescaled_predictor_pixels_fluxes.shape)\n",
    "# # print(locs[2])\n",
    "# # plt.plot(c.time, c.rescaled_im_fluxes[:, locs[0][0], locs[0][1]], '-')\n",
    "# # plt.plot(c.time, c.rescaled_predictor_pixels_fluxes[:, 4])\n",
    "# for i in range(n):\n",
    "#     plt.figure(figsize=(12, 8))\n",
    "#     t = c.rescaled_target_fluxes\n",
    "#     p = c.rescaled_predictor_pixels_fluxes[:, i]\n",
    "#     plt.plot(c.time, t, '.')\n",
    "#     plt.plot(c.time, p, '-', alpha=0.4)\n",
    "#     plt.title(np.dot(p, t)/(np.linalg.norm(p)*np.linalg.norm(t)), fontsize=25)\n",
    "#     plt.show()"
   ]
  },
  {
   "cell_type": "code",
   "execution_count": null,
   "metadata": {},
   "outputs": [],
   "source": [
    "c.lsq(0.5, rescale=True, polynomials=False)"
   ]
  },
  {
   "cell_type": "code",
   "execution_count": null,
   "metadata": {},
   "outputs": [],
   "source": [
    "tess_cpm.summary_plot(c, 100, subtract_polynomials=False, save=False)"
   ]
  },
  {
   "cell_type": "code",
   "execution_count": null,
   "metadata": {},
   "outputs": [],
   "source": [
    "pixel_lcs = c.get_aperture_lc(rows=np.arange(50, 52), cols=np.arange(52, 55), show_pixel_lc=True, show_aperture_lc=True)"
   ]
  },
  {
   "cell_type": "code",
   "execution_count": null,
   "metadata": {},
   "outputs": [],
   "source": []
  },
  {
   "cell_type": "code",
   "execution_count": null,
   "metadata": {},
   "outputs": [],
   "source": [
    "fig, axs = plt.subplots(rows.size, cols.size, sharex=True, sharey=True)\n",
    "grid = np.indices((rows.size, cols.size))\n",
    "for row in grid[0]:\n",
    "    for col in grid[0]:\n",
    "        ax = axs[row[0], col[0]]\n",
    "        ax.plot(tb15.time, lc_matrix[row[0], col[0]], '-', color='black')\n",
    "#         ymin, ymax = ax.get_ylim()\n",
    "#         ymin, ymax\n",
    "#         ax.vlines(tb15.dump_times, ymin=ymin, ymax=ymax, color=\"C3\", alpha=0.8, label='Bad Points')\n",
    "#         ax.set_ylim(ymin, ymax)\n",
    "# fig.suptitle(\"Tabby's Star Sector 15 pixel lightcurves\", fontsize=20);\n",
    "# fig.tight_layout()\n",
    "fig.subplots_adjust(wspace=0, hspace=0)\n",
    "plt.suptitle(\"Tabby's Star Sector 15 (Pixel Lightcurves)\", fontsize=20, y=0.93);\n",
    "plt.savefig(\"tabby_pixel_lc_sector15.png\", dpi=300)"
   ]
  },
  {
   "cell_type": "code",
   "execution_count": null,
   "metadata": {},
   "outputs": [],
   "source": [
    "c.sigma_clip_process(sigma=3)\n",
    "tess_cpm.summary_plot(c, 20, subtract_polynomials=True)"
   ]
  },
  {
   "cell_type": "code",
   "execution_count": null,
   "metadata": {},
   "outputs": [],
   "source": [
    "plt.figure(figsize=(15, 6))\n",
    "plt.plot(c.time[c.valid], c.rescaled_target_fluxes[c.valid] - c.lsq_prediction[c.valid], \".-\")"
   ]
  },
  {
   "cell_type": "code",
   "execution_count": null,
   "metadata": {},
   "outputs": [],
   "source": [
    "plt.figure(figsize=(15, 6))\n",
    "plt.plot(c.time, c.rescaled_target_fluxes, \".-\", color=\"black\", label=\"Data\")\n",
    "plt.legend();"
   ]
  },
  {
   "cell_type": "code",
   "execution_count": null,
   "metadata": {},
   "outputs": [],
   "source": [
    "c.sigma_clip(3, 3)"
   ]
  },
  {
   "cell_type": "code",
   "execution_count": null,
   "metadata": {},
   "outputs": [],
   "source": [
    "plt.figure(figsize=(15, 6))\n",
    "orig_model = np.dot(c.orig_m, c.lsq_params)\n",
    "# model = np.dot(c.m, c.lsq_params)\n",
    "plt.plot(c.orig_time, (c.rescaled_target_fluxes - orig_model))\n",
    "# plt.plot(c.time, c.rescaled_im_fluxes[:, c.target_row, c.target_col] - model)\n",
    "# plt.plot(c.orig_time, model)"
   ]
  },
  {
   "cell_type": "code",
   "execution_count": null,
   "metadata": {},
   "outputs": [],
   "source": [
    "plt.figure(figsize=(15, 6))\n",
    "orig_model = np.dot(c.orig_m, c.lsq_params)\n",
    "# model = np.dot(c.m, c.lsq_params)\n",
    "plt.plot(c.orig_time[~c.clipped], (c.rescaled_target_fluxes - orig_model)[~c.clipped])\n",
    "# plt.plot(c.time, c.rescaled_im_fluxes[:, c.target_row, c.target_col] - model)\n",
    "# plt.plot(c.orig_time, model)"
   ]
  },
  {
   "cell_type": "code",
   "execution_count": null,
   "metadata": {},
   "outputs": [],
   "source": [
    "a = c.orig_rescaled_im_fluxes[:, c.target_row, c.target_col] - orig_model\n",
    "b = c.rescaled_im_fluxes[:, c.target_row, c.target_col] - model"
   ]
  },
  {
   "cell_type": "code",
   "execution_count": null,
   "metadata": {},
   "outputs": [],
   "source": [
    "# # plt.plot(c.orig_rescaled_im_fluxes[:, c.target_row, c.target_col][~c.clipped])\n",
    "# plt.plot(c.rescaled_im_fluxes[:, c.target_row, c.target_col])\n",
    "plt.plot(a[~c.clipped])\n",
    "plt.plot(b)\n",
    "np.allclose(a[~c.clipped], b)"
   ]
  },
  {
   "cell_type": "code",
   "execution_count": null,
   "metadata": {},
   "outputs": [],
   "source": [
    "plt.plot(c.orig_rescaled_im_fluxes[:, c.target_row, c.target_col][~c.clipped] - c.rescaled_im_fluxes[:, c.target_row, c.target_col])"
   ]
  },
  {
   "cell_type": "code",
   "execution_count": null,
   "metadata": {},
   "outputs": [],
   "source": [
    "c.sigma_clip(3, 2)"
   ]
  },
  {
   "cell_type": "code",
   "execution_count": null,
   "metadata": {},
   "outputs": [],
   "source": [
    "tess_cpm.summary_plot(c, 20, subtract_polynomials=True)"
   ]
  },
  {
   "cell_type": "code",
   "execution_count": null,
   "metadata": {},
   "outputs": [],
   "source": [
    "plt.figure(figsize=(15, 6))\n",
    "orig_model = np.dot(c.orig_m, c.lsq_params)\n",
    "model = np.dot(c.m, c.lsq_params)\n",
    "plt.plot(c.orig_time, c.orig_rescaled_im_fluxes[:, c.target_row, c.target_col] - orig_model)\n",
    "plt.plot(c.time, c.rescaled_im_fluxes[:, c.target_row, c.target_col] - model)\n",
    "# plt.plot(c.orig_time, model)"
   ]
  },
  {
   "cell_type": "code",
   "execution_count": null,
   "metadata": {},
   "outputs": [],
   "source": []
  },
  {
   "cell_type": "code",
   "execution_count": null,
   "metadata": {},
   "outputs": [],
   "source": [
    "fits_file = \"dwarfs/tess-s0006-1-3_99.153900_6.321500_100x100_astrocut.fits\""
   ]
  },
  {
   "cell_type": "code",
   "execution_count": null,
   "metadata": {},
   "outputs": [],
   "source": [
    "d = tess_cpm.CPM(fits_file, remove_bad=True)"
   ]
  },
  {
   "cell_type": "code",
   "execution_count": null,
   "metadata": {},
   "outputs": [],
   "source": [
    "d.set_poly_model(1, 4, 2)\n",
    "d.set_target(50, 50)\n",
    "d.set_exclusion(10)\n",
    "d.set_predictor_pixels(256)"
   ]
  },
  {
   "cell_type": "code",
   "execution_count": null,
   "metadata": {},
   "outputs": [],
   "source": [
    "d.lsq(0.5, rescale=True, polynomials=True)"
   ]
  },
  {
   "cell_type": "code",
   "execution_count": null,
   "metadata": {},
   "outputs": [],
   "source": [
    "tess_cpm.summary_plot(d, 20, subtract_polynomials=False)"
   ]
  },
  {
   "cell_type": "code",
   "execution_count": null,
   "metadata": {},
   "outputs": [],
   "source": [
    "d.sigma_clip(3, 2)\n",
    "tess_cpm.summary_plot(d, 20, subtract_polynomials=True)"
   ]
  },
  {
   "cell_type": "code",
   "execution_count": null,
   "metadata": {},
   "outputs": [],
   "source": [
    "a = (np.zeros(100) == 1)"
   ]
  },
  {
   "cell_type": "code",
   "execution_count": null,
   "metadata": {},
   "outputs": [],
   "source": [
    "a"
   ]
  },
  {
   "cell_type": "code",
   "execution_count": null,
   "metadata": {},
   "outputs": [],
   "source": [
    "# The below is for the Luhman 16 target mentioned by Johanna. It seems like it's\n",
    "# close to the edge of the cameras, making it somewhat tricky to handle."
   ]
  },
  {
   "cell_type": "code",
   "execution_count": null,
   "metadata": {},
   "outputs": [],
   "source": [
    "fits_file = \"dwarfs/tess-s0010-2-1_162.328812_-53.319467_100x100_astrocut.fits\"\n",
    "# fits_file = \"dwarfs/tess-s0010-3-2_162.328812_-53.319467_100x100_astrocut.fits\""
   ]
  },
  {
   "cell_type": "code",
   "execution_count": null,
   "metadata": {},
   "outputs": [],
   "source": [
    "d = tess_cpm.CPM(fits_file, remove_bad=True)"
   ]
  },
  {
   "cell_type": "code",
   "execution_count": null,
   "metadata": {},
   "outputs": [],
   "source": [
    "d.set_poly_model(1, 4, 0.5)\n",
    "d.set_target(50, 50)\n",
    "d.set_exclusion(10)\n",
    "d.set_predictor_pixels(256)"
   ]
  },
  {
   "cell_type": "code",
   "execution_count": null,
   "metadata": {},
   "outputs": [],
   "source": [
    "d.lsq(1., rescale=True, polynomials=False)"
   ]
  },
  {
   "cell_type": "code",
   "execution_count": null,
   "metadata": {},
   "outputs": [],
   "source": [
    "tess_cpm.summary_plot(d, 20, subtract_polynomials=False, save=False)"
   ]
  },
  {
   "cell_type": "code",
   "execution_count": null,
   "metadata": {},
   "outputs": [],
   "source": [
    "plt.imshow(d.im_fluxes[0,:,:], origin=\"lower\")"
   ]
  },
  {
   "cell_type": "code",
   "execution_count": null,
   "metadata": {},
   "outputs": [],
   "source": [
    "d.pixel_medians"
   ]
  },
  {
   "cell_type": "code",
   "execution_count": null,
   "metadata": {},
   "outputs": [],
   "source": [
    "plt.imshow(d.pixel_medians, origin=\"lower\", vmin=np.nanpercentile(d.pixel_medians, 10), vmax=np.nanpercentile(d.pixel_medians, 90))"
   ]
  },
  {
   "cell_type": "code",
   "execution_count": null,
   "metadata": {},
   "outputs": [],
   "source": [
    "plt.plot(d.time, d.im_fluxes[:, 50, 50], \".-\")"
   ]
  },
  {
   "cell_type": "code",
   "execution_count": null,
   "metadata": {},
   "outputs": [],
   "source": [
    "d.im_fluxes[0, :, :]"
   ]
  },
  {
   "cell_type": "code",
   "execution_count": null,
   "metadata": {},
   "outputs": [],
   "source": [
    "x = np.array([1, 2, 3, np.nan])"
   ]
  },
  {
   "cell_type": "code",
   "execution_count": null,
   "metadata": {},
   "outputs": [],
   "source": [
    "x"
   ]
  },
  {
   "cell_type": "code",
   "execution_count": null,
   "metadata": {},
   "outputs": [],
   "source": [
    "x.mean()"
   ]
  },
  {
   "cell_type": "code",
   "execution_count": null,
   "metadata": {},
   "outputs": [],
   "source": [
    "np.median(x)"
   ]
  },
  {
   "cell_type": "code",
   "execution_count": null,
   "metadata": {},
   "outputs": [],
   "source": [
    "from sklearn.model_selection import KFold"
   ]
  },
  {
   "cell_type": "code",
   "execution_count": null,
   "metadata": {},
   "outputs": [],
   "source": [
    "            # if (rescale == True):\n",
    "            #     self.lsq_prediction = np.median(self.target_fluxes)*(self.lsq_prediction + 1)\n",
    "            #     if (polynomials == True):\n",
    "            #         self.constant_prediction = np.median(self.target_fluxes)*self.poly_params[0]\n",
    "            #         self.cpm_prediction = np.median(self.target_fluxes)*(self.cpm_prediction + 1)\n",
    "            #         self.poly_prediction = np.median(self.target_fluxes)*(self.poly_prediction + 1) - self.constant_predictionkf = KFold(n_splits=10)\n",
    "for train, test in kf.split(c.time):\n",
    "    print(train)\n",
    "    print(test)\n",
    "    break"
   ]
  },
  {
   "cell_type": "code",
   "execution_count": null,
   "metadata": {},
   "outputs": [],
   "source": [
    "fits_file = \"dwarfs/tess-s0012-3-3_169.234200_-80.464300_100x100_astrocut.fits\"\n",
    "c = tess_cpm.CPM(fits_file, remove_bad=True)"
   ]
  },
  {
   "cell_type": "code",
   "execution_count": null,
   "metadata": {},
   "outputs": [],
   "source": [
    "c.set_poly_model(1, 4, 0.5)\n",
    "c.set_target(50, 51)\n",
    "c.set_exclusion(10)\n",
    "c.set_predictor_pixels(256, 'cosine_similarity')"
   ]
  },
  {
   "cell_type": "code",
   "execution_count": null,
   "metadata": {},
   "outputs": [],
   "source": [
    "plt.rcParams['figure.figsize'] = (12, 8)\n",
    "c.xval(0.5)"
   ]
  },
  {
   "cell_type": "code",
   "execution_count": null,
   "metadata": {},
   "outputs": [],
   "source": []
  }
 ],
 "metadata": {
  "kernelspec": {
   "display_name": "Python 3",
   "language": "python",
   "name": "python3"
  },
  "language_info": {
   "codemirror_mode": {
    "name": "ipython",
    "version": 3
   },
   "file_extension": ".py",
   "mimetype": "text/x-python",
   "name": "python",
   "nbconvert_exporter": "python",
   "pygments_lexer": "ipython3",
   "version": "3.7.2"
  }
 },
 "nbformat": 4,
 "nbformat_minor": 4
}
