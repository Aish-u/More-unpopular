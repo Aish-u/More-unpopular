{
 "cells": [
  {
   "cell_type": "code",
   "execution_count": null,
   "metadata": {},
   "outputs": [],
   "source": [
    "import tess_cpm\n",
    "import numpy as np\n",
    "import matplotlib.pyplot as plt\n",
    "import lightkurve as lk\n",
    "# from astropy.io import fits\n",
    "# from astropy.wcs import WCS"
   ]
  },
  {
   "cell_type": "code",
   "execution_count": null,
   "metadata": {},
   "outputs": [],
   "source": [
    "plt.rcParams[\"figure.figsize\"] = (14, 10)"
   ]
  },
  {
   "cell_type": "markdown",
   "metadata": {},
   "source": [
    "You can first specify the path to the stack of FFI cutouts containing the source you're interested in.  \n",
    "We've been using cutouts (obtained using TESScut) of size 100x100, but you can use smaller (or larger) cutouts. \n",
    "The smallest cutout we've used is 32x32.  \n",
    "In this example I'll be using a 100x100 FFI cutout."
   ]
  },
  {
   "cell_type": "code",
   "execution_count": null,
   "metadata": {},
   "outputs": [],
   "source": [
    "fits_file = \"dwarfs/tess-s0012-3-3_169.234200_-80.464300_100x100_astrocut.fits\"  # TIC 395130640\n",
    "# fits_file = \"dwarfs/tess-s0010-2-1_162.328812_-53.319467_100x100_astrocut.fits\"  # provided source\n",
    "# fits_file = \"dwarfs/tess-s0010-3-2_162.328812_-53.319467_100x100_astrocut.fits\"  # provided source"
   ]
  },
  {
   "cell_type": "markdown",
   "metadata": {},
   "source": [
    "The current main interface to the TESS CPM package is through the Source class.  \n",
    "You'll initialize an instance of the Source class by passing the path to the FFI cutouts.  \n",
    "The `remove_bad` keyword argument specifies whether you want to remove the data points that have been flagged by the TESS QUALITY array. "
   ]
  },
  {
   "cell_type": "code",
   "execution_count": null,
   "metadata": {},
   "outputs": [],
   "source": [
    "dw = tess_cpm.Source(fits_file, remove_bad=True)"
   ]
  },
  {
   "cell_type": "markdown",
   "metadata": {},
   "source": [
    "If you want to see the median flux image of your stack of FFI cutouts, you can just use the `plot_cutout()` method.  \n",
    "It's probably a good idea to check it to see where you might be missing fluxes (e.g. the FFI cutouts are close to the edge of the detectors)."
   ]
  },
  {
   "cell_type": "code",
   "execution_count": null,
   "metadata": {},
   "outputs": [],
   "source": [
    "dw.plot_cutout();"
   ]
  },
  {
   "cell_type": "markdown",
   "metadata": {},
   "source": [
    "The next thing to do is specify the set of pixels you believe your source falls on.  \n",
    "If you got your cutouts using TESScut by providing the coordinates of the source, the source will roughly be at the center of the image.  \n",
    "\n",
    "You can specify the set of pixels by using the `set_aperture` method.  \n",
    "It currently only lets you choose a rectangular set of pixels, although we're hoping to eventually make a way specify any aperture.  \n",
    "You can define the extent of the rectangular aperture in the `set_aperture` method using the `rowlims` and `collims` argument. For each of these arguments, just pass a list that specifies the lower and upper limits of the aperture. For example `rowlims=[50, 52]` means rows 50, 51, and 52.  \n",
    "\n",
    "After specifying the aperture, you can visually check to see that your aperture is actually covering the pixels you're interested in using `plot_cutout` again.  \n",
    "You'll just need to specify the `show_aperture=True` keyword argument. The overlayed aperture will make the pixels in the aperture look white. \n",
    "You can also pass the region you'd like to see the cutout around (instead of the entire cutout) by specifying the rows and columns in the same way you'd define the aperture."
   ]
  },
  {
   "cell_type": "code",
   "execution_count": null,
   "metadata": {},
   "outputs": [],
   "source": [
    "dw.set_aperture(rowlims=[50, 51], collims=[50, 51])\n",
    "# dw.set_aperture(rowlims=[47, 52], collims=[48, 53])\n",
    "dw.plot_cutout(rowlims=[45, 55], collims=[45, 55], show_aperture=True);"
   ]
  },
  {
   "cell_type": "markdown",
   "metadata": {},
   "source": [
    "After specifying the set of pixels you're interested in, you can check the pixel light curves using the `plot_pix_by_pix` method.  "
   ]
  },
  {
   "cell_type": "code",
   "execution_count": null,
   "metadata": {},
   "outputs": [],
   "source": [
    "dw.plot_pix_by_pix();  # Just calling the method on its own will plot the raw flux values"
   ]
  },
  {
   "cell_type": "code",
   "execution_count": null,
   "metadata": {},
   "outputs": [],
   "source": [
    "dw.plot_pix_by_pix(data_type=\"normalized_flux\");  # If you specify `normalized_flux`, you'll get the zero-centered median-normalized flux."
   ]
  },
  {
   "cell_type": "markdown",
   "metadata": {},
   "source": [
    "From here you'd choose the model components you'd want to add.   \n",
    "You'd definitely want to add the causal pixel model with the `add_cpm_model` method.  "
   ]
  },
  {
   "cell_type": "code",
   "execution_count": null,
   "metadata": {},
   "outputs": [],
   "source": [
    "dw.add_cpm_model?\n",
    "# dw.add_cpm_model()\n",
    "dw.add_cpm_model(predictor_method='similar_brightness')"
   ]
  },
  {
   "cell_type": "markdown",
   "metadata": {},
   "source": [
    "CPM's main idea is to model a single pixel light curve as a linear combination of a bunch of other pixel light curves.  \n",
    "The default setting uses `n=256` other pixel light curves, so the model is very prone to overfit.  \n",
    "One of the ways to prevent overfitting is to constrain the flexibility of the model through regularization.  \n",
    "Currently we use L2 regularization and a larger regularization value is a stronger regularization. \n",
    "We set the regularization value using `set_regs`. We still need to figure out a good way to determine the regularization values, but for this example we'll just use `0.1`."
   ]
  },
  {
   "cell_type": "code",
   "execution_count": null,
   "metadata": {},
   "outputs": [],
   "source": [
    "dw.models[0][0].plot_model();"
   ]
  },
  {
   "cell_type": "code",
   "execution_count": null,
   "metadata": {},
   "outputs": [],
   "source": [
    "dw.set_regs([0.1])  # It needs to be a list because there are cases where you'd want to specify more than one regularization parameter."
   ]
  },
  {
   "cell_type": "markdown",
   "metadata": {},
   "source": [
    "We can now perform least squares regression to model the pixel light curve with the `holdout_fit_predict` method.\n",
    "In addition to regularization, we also use a train-and-test framework to prevent overfitting. In this framework we split the lightcurve into __k__ contiguous chunks and predict the __i-th__ chunk with the parameters obtained from regressing on all the other chunks."
   ]
  },
  {
   "cell_type": "code",
   "execution_count": null,
   "metadata": {},
   "outputs": [],
   "source": [
    "dw.holdout_fit_predict(k=5)\n",
    "dw.plot_pix_by_pix(data_type=\"cpm_subtracted_flux\", split=True);"
   ]
  },
  {
   "cell_type": "code",
   "execution_count": null,
   "metadata": {},
   "outputs": [],
   "source": [
    "plt.figure(figsize=(16, 10))\n",
    "aperture_normalized_flux = dw.get_aperture_lc(data_type=\"normalized_flux\")\n",
    "aperture_cpm_prediction = dw.get_aperture_lc(data_type=\"cpm_prediction\")\n",
    "plt.plot(dw.time, aperture_normalized_flux, \".\", c=\"k\", ms=8, label=\"Normalized Flux\")\n",
    "plt.plot(dw.time, aperture_cpm_prediction, \"-\", lw=3, c=\"C3\", alpha=0.8, label=\"CPM Prediction\")\n",
    "plt.xlabel(\"Time - 2457000 [Days]\", fontsize=30)\n",
    "plt.ylabel(\"Normalized Flux\", fontsize=30)\n",
    "plt.tick_params(labelsize=20)\n",
    "plt.legend(fontsize=30)"
   ]
  },
  {
   "cell_type": "code",
   "execution_count": null,
   "metadata": {},
   "outputs": [],
   "source": [
    "weighted_detrended_lc = dw.get_aperture_lc(split=True, weighting=\"median\", data_type=\"cpm_subtracted_flux\")\n",
    "# for time, lc in zip(dw.split_times, weighted_detrended_lc):\n",
    "#     plt.plot(time, lc, \"-\")\n",
    "# detrended_lc = dw.get_aperture_lc(split=True, weighting=None, data_type=\"cpm_subtracted_flux\")\n",
    "# for time, lc in zip(dw.split_times, detrended_lc):\n",
    "#     plt.plot(time, lc, \"--\")\n",
    "# plt.xlabel(\"Time - 2457000 [Days]\", fontsize=30)\n",
    "# plt.ylabel(\"CPM Flux\", fontsize=30)\n",
    "# plt.tick_params(labelsize=20)"
   ]
  },
  {
   "cell_type": "code",
   "execution_count": null,
   "metadata": {},
   "outputs": [],
   "source": [
    "cpm_lc = dw.get_aperture_lc(data_type=\"cpm_subtracted_flux\")"
   ]
  },
  {
   "cell_type": "code",
   "execution_count": null,
   "metadata": {},
   "outputs": [],
   "source": [
    "plt.plot(dw.time, cpm_lc, \"-\", c=\"k\")\n",
    "plt.xlabel(\"Time - 2457000 [Days]\", fontsize=30)\n",
    "plt.ylabel(\"CPM Flux\", fontsize=30)\n",
    "plt.tick_params(labelsize=20)"
   ]
  },
  {
   "cell_type": "code",
   "execution_count": null,
   "metadata": {},
   "outputs": [],
   "source": [
    "outliers = dw.get_outliers(sigma_upper=3)"
   ]
  },
  {
   "cell_type": "code",
   "execution_count": null,
   "metadata": {},
   "outputs": [],
   "source": [
    "plt.plot(dw.time, cpm_lc, \"-\", c=\"k\", label=\"Detrended Light curve\")\n",
    "plt.plot(dw.time[outliers], cpm_lc[outliers], \"x\", ms=10, c=\"C3\", label=\"Outliers\")\n",
    "plt.xlabel(\"Time - 2457000 [Days]\", fontsize=30)\n",
    "plt.ylabel(\"CPM Flux\", fontsize=30)\n",
    "plt.tick_params(labelsize=20)\n",
    "plt.legend(fontsize=30)"
   ]
  },
  {
   "cell_type": "code",
   "execution_count": null,
   "metadata": {},
   "outputs": [],
   "source": [
    "plt.plot(dw.time[~outliers], cpm_lc[~outliers], \"-\", c=\"k\", label=\"Detrended Light curve\")\n",
    "# plt.plot(dw.time[outliers], cpm_lc[outliers], \"x\", ms=10, c=\"C3\")\n",
    "plt.xlabel(\"Time - 2457000 [Days]\", fontsize=30)\n",
    "plt.ylabel(\"CPM Flux\", fontsize=30)\n",
    "plt.tick_params(labelsize=20)"
   ]
  },
  {
   "cell_type": "code",
   "execution_count": null,
   "metadata": {},
   "outputs": [],
   "source": [
    "lc = lk.TessLightCurve(time=dw.time, flux=cpm_lc)\n",
    "lc.plot()"
   ]
  },
  {
   "cell_type": "code",
   "execution_count": null,
   "metadata": {},
   "outputs": [],
   "source": [
    "lc = lc.remove_outliers(sigma_upper=3)\n",
    "lc.plot()"
   ]
  },
  {
   "cell_type": "code",
   "execution_count": null,
   "metadata": {},
   "outputs": [],
   "source": [
    "pg = lc.to_periodogram()"
   ]
  },
  {
   "cell_type": "code",
   "execution_count": null,
   "metadata": {},
   "outputs": [],
   "source": [
    "fig, axs = plt.subplots(2, 1, figsize=(16, 16))\n",
    "pg.plot(ax=axs[0], c='k')\n",
    "pg.plot(ax=axs[1], c='k', view='period')\n",
    "# fig.suptitle(\"Periodogram\", fontsize=20, y=0.95)\n",
    "period = pg.period_at_max_power\n",
    "print(f\"Max Power Period: {period}\")\n",
    "lc.fold(period.value).scatter()\n",
    "plt.title(f\"Folded Lightcurve with Period: {period:.4f}\", fontsize=20)"
   ]
  },
  {
   "cell_type": "code",
   "execution_count": null,
   "metadata": {},
   "outputs": [],
   "source": []
  },
  {
   "cell_type": "code",
   "execution_count": null,
   "metadata": {},
   "outputs": [],
   "source": []
  },
  {
   "cell_type": "code",
   "execution_count": null,
   "metadata": {},
   "outputs": [],
   "source": []
  },
  {
   "cell_type": "code",
   "execution_count": null,
   "metadata": {},
   "outputs": [],
   "source": []
  },
  {
   "cell_type": "code",
   "execution_count": null,
   "metadata": {},
   "outputs": [],
   "source": [
    "# cpm_regs = 10.0 ** np.arange(-9, 9)\n",
    "# min_cdpp_reg, cdpps = dw.calc_min_cpm_reg(cpm_regs, k=5)"
   ]
  },
  {
   "cell_type": "code",
   "execution_count": null,
   "metadata": {},
   "outputs": [],
   "source": [
    "# print(min_cdpp_reg)\n",
    "# # dw.set_regs([min_cdpp_reg])\n",
    "# dw.set_regs([min_cdpp_reg])\n",
    "\n",
    "# dw.holdout_fit_predict(k=10);"
   ]
  },
  {
   "cell_type": "code",
   "execution_count": null,
   "metadata": {},
   "outputs": [],
   "source": [
    "# outliers = dw.get_outliers()"
   ]
  },
  {
   "cell_type": "code",
   "execution_count": null,
   "metadata": {},
   "outputs": [],
   "source": [
    "# plt.plot(dw.time, dw.get_aperture_lc(split=False, data_type=\"normalized_flux\"), \"-\", c=\"k\")\n",
    "# plt.plot(dw.time, dw.get_aperture_lc(split=False, data_type=\"cpm_prediction\"), \"-\", c=\"r\")\n",
    "# plt.plot(dw.time[~outliers], dw.get_aperture_lc(split=False, data_type=\"cpm_subtracted_flux\")[~outliers], \"-\", c=\"k\")"
   ]
  },
  {
   "cell_type": "code",
   "execution_count": null,
   "metadata": {},
   "outputs": [],
   "source": [
    "# def cpm_periodogram(fits_file, t_row=50, t_col=50):\n",
    "#     cpm = tess_cpm.CPM(fits_file, remove_bad=True)\n",
    "#     cpm.set_target(t_row, t_col)\n",
    "#     cpm.set_exclusion(10)\n",
    "#     cpm.set_predictor_pixels(256, method='cosine_similarity')\n",
    "#     cpm.lsq(0.1, rescale=True, polynomials=False)\n",
    "#     tess_cpm.summary_plot(cpm, 10)\n",
    "#     aperture_lc, lc_matrix = cpm.get_aperture_lc(box=1, show_pixel_lc=True, show_aperture_lc=True)\n",
    "#     lc = lk.LightCurve(time=cpm.time, flux=aperture_lc)\n",
    "#     pg = lc.to_periodogram(oversample_factor=100)\n",
    "#     fig, axs = plt.subplots(2, 1, figsize=(15, 8))\n",
    "#     pg.plot(ax=axs[0], c='k')\n",
    "#     pg.plot(ax=axs[1], c='k', view='period')\n",
    "#     fig.suptitle(\"Periodogram\", fontsize=20, y=0.95)\n",
    "#     period = pg.period_at_max_power\n",
    "#     print(f\"Max Power Period: {period}\")\n",
    "#     lc.fold(period.value*4).scatter()\n",
    "#     plt.title(f\"Folded Lightcurve with Period: {period:.4f}\", fontsize=20)\n",
    "#     return cpm"
   ]
  }
 ],
 "metadata": {
  "kernelspec": {
   "display_name": "Python 3",
   "language": "python",
   "name": "python3"
  },
  "language_info": {
   "codemirror_mode": {
    "name": "ipython",
    "version": 3
   },
   "file_extension": ".py",
   "mimetype": "text/x-python",
   "name": "python",
   "nbconvert_exporter": "python",
   "pygments_lexer": "ipython3",
   "version": "3.7.6"
  }
 },
 "nbformat": 4,
 "nbformat_minor": 4
}
