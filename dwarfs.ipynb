{
 "cells": [
  {
   "cell_type": "code",
   "execution_count": null,
   "metadata": {},
   "outputs": [],
   "source": [
    "import tess_cpm\n",
    "import numpy as np\n",
    "import matplotlib.pyplot as plt\n",
    "from astropy.io import fits\n",
    "from astropy.wcs import WCS"
   ]
  },
  {
   "cell_type": "code",
   "execution_count": null,
   "metadata": {},
   "outputs": [],
   "source": [
    "fits_file = \"dwarfs/tess-s0012-3-3_169.234200_-80.464300_100x100_astrocut.fits\""
   ]
  },
  {
   "cell_type": "code",
   "execution_count": null,
   "metadata": {},
   "outputs": [],
   "source": [
    "c = tess_cpm.CPM(fits_file, remove_bad=True)"
   ]
  },
  {
   "cell_type": "code",
   "execution_count": null,
   "metadata": {},
   "outputs": [],
   "source": [
    "c.set_poly_model(1, 4, 0.5)\n",
    "c.set_target(50, 51)\n",
    "c.set_exclusion(10)\n",
    "c.set_predictor_pixels(256, 'dot_product')"
   ]
  },
  {
   "cell_type": "code",
   "execution_count": null,
   "metadata": {
    "scrolled": false
   },
   "outputs": [],
   "source": [
    "plt.figure(figsize=(12, 8))\n",
    "plt.plot(c.time, c.rescaled_target_fluxes, '.')\n",
    "n = 10\n",
    "# locs, mask = c.get_contributing_pixels(n)\n",
    "# print(c.rescaled_predictor_pixels_fluxes.shape)\n",
    "# print(locs[2])\n",
    "# plt.plot(c.time, c.rescaled_im_fluxes[:, locs[0][0], locs[0][1]], '-')\n",
    "# plt.plot(c.time, c.rescaled_predictor_pixels_fluxes[:, 4])\n",
    "for i in range(n):\n",
    "    plt.figure(figsize=(12, 8))\n",
    "    t = c.rescaled_target_fluxes\n",
    "    p = c.rescaled_predictor_pixels_fluxes[:, i]\n",
    "    plt.plot(c.time, t, '.')\n",
    "    plt.plot(c.time, p, '-', alpha=0.4)\n",
    "    plt.title(np.dot(t, p)/(np.linalg.norm(t)*np.linalg.norm(p)), fontsize=25)\n",
    "    plt.show()"
   ]
  },
  {
   "cell_type": "code",
   "execution_count": null,
   "metadata": {},
   "outputs": [],
   "source": [
    "c.lsq(0.5, rescale=True, polynomials=False)"
   ]
  },
  {
   "cell_type": "code",
   "execution_count": null,
   "metadata": {},
   "outputs": [],
   "source": [
    "tess_cpm.summary_plot(c, 100, subtract_polynomials=False, save=False)"
   ]
  },
  {
   "cell_type": "code",
   "execution_count": null,
   "metadata": {},
   "outputs": [],
   "source": [
    "c.sigma_clip_process(sigma=3)\n",
    "tess_cpm.summary_plot(c, 20, subtract_polynomials=True)"
   ]
  },
  {
   "cell_type": "code",
   "execution_count": null,
   "metadata": {},
   "outputs": [],
   "source": [
    "plt.figure(figsize=(15, 6))\n",
    "plt.plot(c.time[c.valid], c.rescaled_target_fluxes[c.valid] - c.lsq_prediction[c.valid], \".-\")"
   ]
  },
  {
   "cell_type": "code",
   "execution_count": null,
   "metadata": {},
   "outputs": [],
   "source": [
    "plt.figure(figsize=(15, 6))\n",
    "plt.plot(c.time, c.rescaled_target_fluxes, \".-\", color=\"black\", label=\"Data\")\n",
    "plt.legend();"
   ]
  },
  {
   "cell_type": "code",
   "execution_count": null,
   "metadata": {},
   "outputs": [],
   "source": [
    "c.sigma_clip(3, 3)"
   ]
  },
  {
   "cell_type": "code",
   "execution_count": null,
   "metadata": {},
   "outputs": [],
   "source": [
    "plt.figure(figsize=(15, 6))\n",
    "orig_model = np.dot(c.orig_m, c.lsq_params)\n",
    "# model = np.dot(c.m, c.lsq_params)\n",
    "plt.plot(c.orig_time, (c.rescaled_target_fluxes - orig_model))\n",
    "# plt.plot(c.time, c.rescaled_im_fluxes[:, c.target_row, c.target_col] - model)\n",
    "# plt.plot(c.orig_time, model)"
   ]
  },
  {
   "cell_type": "code",
   "execution_count": null,
   "metadata": {},
   "outputs": [],
   "source": [
    "plt.figure(figsize=(15, 6))\n",
    "orig_model = np.dot(c.orig_m, c.lsq_params)\n",
    "# model = np.dot(c.m, c.lsq_params)\n",
    "plt.plot(c.orig_time[~c.clipped], (c.rescaled_target_fluxes - orig_model)[~c.clipped])\n",
    "# plt.plot(c.time, c.rescaled_im_fluxes[:, c.target_row, c.target_col] - model)\n",
    "# plt.plot(c.orig_time, model)"
   ]
  },
  {
   "cell_type": "code",
   "execution_count": null,
   "metadata": {},
   "outputs": [],
   "source": [
    "a = c.orig_rescaled_im_fluxes[:, c.target_row, c.target_col] - orig_model\n",
    "b = c.rescaled_im_fluxes[:, c.target_row, c.target_col] - model"
   ]
  },
  {
   "cell_type": "code",
   "execution_count": null,
   "metadata": {},
   "outputs": [],
   "source": [
    "# # plt.plot(c.orig_rescaled_im_fluxes[:, c.target_row, c.target_col][~c.clipped])\n",
    "# plt.plot(c.rescaled_im_fluxes[:, c.target_row, c.target_col])\n",
    "plt.plot(a[~c.clipped])\n",
    "plt.plot(b)\n",
    "np.allclose(a[~c.clipped], b)"
   ]
  },
  {
   "cell_type": "code",
   "execution_count": null,
   "metadata": {},
   "outputs": [],
   "source": [
    "plt.plot(c.orig_rescaled_im_fluxes[:, c.target_row, c.target_col][~c.clipped] - c.rescaled_im_fluxes[:, c.target_row, c.target_col])"
   ]
  },
  {
   "cell_type": "code",
   "execution_count": null,
   "metadata": {},
   "outputs": [],
   "source": [
    "c.sigma_clip(3, 2)"
   ]
  },
  {
   "cell_type": "code",
   "execution_count": null,
   "metadata": {},
   "outputs": [],
   "source": [
    "tess_cpm.summary_plot(c, 20, subtract_polynomials=True)"
   ]
  },
  {
   "cell_type": "code",
   "execution_count": null,
   "metadata": {},
   "outputs": [],
   "source": [
    "plt.figure(figsize=(15, 6))\n",
    "orig_model = np.dot(c.orig_m, c.lsq_params)\n",
    "model = np.dot(c.m, c.lsq_params)\n",
    "plt.plot(c.orig_time, c.orig_rescaled_im_fluxes[:, c.target_row, c.target_col] - orig_model)\n",
    "plt.plot(c.time, c.rescaled_im_fluxes[:, c.target_row, c.target_col] - model)\n",
    "# plt.plot(c.orig_time, model)"
   ]
  },
  {
   "cell_type": "code",
   "execution_count": null,
   "metadata": {},
   "outputs": [],
   "source": []
  },
  {
   "cell_type": "code",
   "execution_count": null,
   "metadata": {},
   "outputs": [],
   "source": [
    "fits_file = \"dwarfs/tess-s0006-1-3_99.153900_6.321500_100x100_astrocut.fits\""
   ]
  },
  {
   "cell_type": "code",
   "execution_count": null,
   "metadata": {},
   "outputs": [],
   "source": [
    "d = tess_cpm.CPM(fits_file, remove_bad=True)"
   ]
  },
  {
   "cell_type": "code",
   "execution_count": null,
   "metadata": {},
   "outputs": [],
   "source": [
    "d.set_poly_model(1, 4, 2)\n",
    "d.set_target(50, 50)\n",
    "d.set_exclusion(10)\n",
    "d.set_predictor_pixels(256)"
   ]
  },
  {
   "cell_type": "code",
   "execution_count": null,
   "metadata": {},
   "outputs": [],
   "source": [
    "d.lsq(0.5, rescale=True, polynomials=True)"
   ]
  },
  {
   "cell_type": "code",
   "execution_count": null,
   "metadata": {},
   "outputs": [],
   "source": [
    "tess_cpm.summary_plot(d, 20, subtract_polynomials=False)"
   ]
  },
  {
   "cell_type": "code",
   "execution_count": null,
   "metadata": {},
   "outputs": [],
   "source": [
    "d.sigma_clip(3, 2)\n",
    "tess_cpm.summary_plot(d, 20, subtract_polynomials=True)"
   ]
  },
  {
   "cell_type": "code",
   "execution_count": null,
   "metadata": {},
   "outputs": [],
   "source": [
    "a = (np.zeros(100) == 1)"
   ]
  },
  {
   "cell_type": "code",
   "execution_count": null,
   "metadata": {},
   "outputs": [],
   "source": [
    "a"
   ]
  },
  {
   "cell_type": "code",
   "execution_count": null,
   "metadata": {},
   "outputs": [],
   "source": [
    "# The below is for the Luhman 16 target mentioned by Johanna. It seems like it's\n",
    "# close to the edge of the cameras, making it somewhat tricky to handle."
   ]
  },
  {
   "cell_type": "code",
   "execution_count": null,
   "metadata": {},
   "outputs": [],
   "source": [
    "fits_file = \"dwarfs/tess-s0010-2-1_162.328812_-53.319467_100x100_astrocut.fits\"\n",
    "# fits_file = \"dwarfs/tess-s0010-3-2_162.328812_-53.319467_100x100_astrocut.fits\""
   ]
  },
  {
   "cell_type": "code",
   "execution_count": null,
   "metadata": {},
   "outputs": [],
   "source": [
    "d = tess_cpm.CPM(fits_file, remove_bad=True)"
   ]
  },
  {
   "cell_type": "code",
   "execution_count": null,
   "metadata": {},
   "outputs": [],
   "source": [
    "d.set_poly_model(1, 4, 0.5)\n",
    "d.set_target(50, 50)\n",
    "d.set_exclusion(10)\n",
    "d.set_predictor_pixels(256)"
   ]
  },
  {
   "cell_type": "code",
   "execution_count": null,
   "metadata": {},
   "outputs": [],
   "source": [
    "d.lsq(1., rescale=True, polynomials=False)"
   ]
  },
  {
   "cell_type": "code",
   "execution_count": null,
   "metadata": {},
   "outputs": [],
   "source": [
    "tess_cpm.summary_plot(d, 20, subtract_polynomials=False, save=False)"
   ]
  },
  {
   "cell_type": "code",
   "execution_count": null,
   "metadata": {},
   "outputs": [],
   "source": [
    "plt.imshow(d.im_fluxes[0,:,:], origin=\"lower\")"
   ]
  },
  {
   "cell_type": "code",
   "execution_count": null,
   "metadata": {},
   "outputs": [],
   "source": [
    "d.pixel_medians"
   ]
  },
  {
   "cell_type": "code",
   "execution_count": null,
   "metadata": {},
   "outputs": [],
   "source": [
    "plt.imshow(d.pixel_medians, origin=\"lower\", vmin=np.nanpercentile(d.pixel_medians, 10), vmax=np.nanpercentile(d.pixel_medians, 90))"
   ]
  },
  {
   "cell_type": "code",
   "execution_count": null,
   "metadata": {},
   "outputs": [],
   "source": [
    "plt.plot(d.time, d.im_fluxes[:, 50, 50], \".-\")"
   ]
  },
  {
   "cell_type": "code",
   "execution_count": null,
   "metadata": {},
   "outputs": [],
   "source": [
    "d.im_fluxes[0, :, :]"
   ]
  },
  {
   "cell_type": "code",
   "execution_count": null,
   "metadata": {},
   "outputs": [],
   "source": [
    "x = np.array([1, 2, 3, np.nan])"
   ]
  },
  {
   "cell_type": "code",
   "execution_count": null,
   "metadata": {},
   "outputs": [],
   "source": [
    "x"
   ]
  },
  {
   "cell_type": "code",
   "execution_count": null,
   "metadata": {},
   "outputs": [],
   "source": [
    "x.mean()"
   ]
  },
  {
   "cell_type": "code",
   "execution_count": null,
   "metadata": {},
   "outputs": [],
   "source": [
    "np.median(x)"
   ]
  },
  {
   "cell_type": "code",
   "execution_count": null,
   "metadata": {},
   "outputs": [],
   "source": []
  }
 ],
 "metadata": {
  "kernelspec": {
   "display_name": "Python 3",
   "language": "python",
   "name": "python3"
  },
  "language_info": {
   "codemirror_mode": {
    "name": "ipython",
    "version": 3
   },
   "file_extension": ".py",
   "mimetype": "text/x-python",
   "name": "python",
   "nbconvert_exporter": "python",
   "pygments_lexer": "ipython3",
   "version": "3.7.2"
  }
 },
 "nbformat": 4,
 "nbformat_minor": 2
}
