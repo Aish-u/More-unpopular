{
 "cells": [
  {
   "cell_type": "code",
   "execution_count": null,
   "metadata": {},
   "outputs": [],
   "source": [
    "import tess_cpm\n",
    "import numpy as np\n",
    "import matplotlib.pyplot as plt\n",
    "import lightkurve as lk\n",
    "from astropy.io import fits\n",
    "from astropy.wcs import WCS"
   ]
  },
  {
   "cell_type": "code",
   "execution_count": null,
   "metadata": {},
   "outputs": [],
   "source": [
    "# def cpm_periodogram(fits_file, t_row=50, t_col=50):\n",
    "#     cpm = tess_cpm.CPM(fits_file, remove_bad=True)\n",
    "#     cpm.set_target(t_row, t_col)\n",
    "#     cpm.set_exclusion(10)\n",
    "#     cpm.set_predictor_pixels(256, method='cosine_similarity')\n",
    "#     cpm.lsq(0.1, rescale=True, polynomials=False)\n",
    "#     tess_cpm.summary_plot(cpm, 10)\n",
    "#     aperture_lc, lc_matrix = cpm.get_aperture_lc(box=1, show_pixel_lc=True, show_aperture_lc=True)\n",
    "#     lc = lk.LightCurve(time=cpm.time, flux=aperture_lc)\n",
    "#     pg = lc.to_periodogram(oversample_factor=100)\n",
    "#     fig, axs = plt.subplots(2, 1, figsize=(15, 8))\n",
    "#     pg.plot(ax=axs[0], c='k')\n",
    "#     pg.plot(ax=axs[1], c='k', view='period')\n",
    "#     fig.suptitle(\"Periodogram\", fontsize=20, y=0.95)\n",
    "#     period = pg.period_at_max_power\n",
    "#     print(f\"Max Power Period: {period}\")\n",
    "#     lc.fold(period.value*4).scatter()\n",
    "#     plt.title(f\"Folded Lightcurve with Period: {period:.4f}\", fontsize=20)\n",
    "#     return cpm"
   ]
  },
  {
   "cell_type": "code",
   "execution_count": null,
   "metadata": {},
   "outputs": [],
   "source": [
    "plt.rcParams[\"figure.figsize\"] = (12, 8)"
   ]
  },
  {
   "cell_type": "code",
   "execution_count": null,
   "metadata": {},
   "outputs": [],
   "source": [
    "fits_file = \"dwarfs/tess-s0012-3-3_169.234200_-80.464300_100x100_astrocut.fits\"\n",
    "# fits_file = \"dwarfs/tess-s0010-2-1_162.328812_-53.319467_100x100_astrocut.fits\"  # provided source\n",
    "# fits_file = \"dwarfs/tess-s0010-3-2_162.328812_-53.319467_100x100_astrocut.fits\"  # provided source"
   ]
  },
  {
   "cell_type": "code",
   "execution_count": null,
   "metadata": {},
   "outputs": [],
   "source": [
    "dw = tess_cpm.Source(fits_file)"
   ]
  },
  {
   "cell_type": "code",
   "execution_count": null,
   "metadata": {},
   "outputs": [],
   "source": [
    "dw.plot_cutout()\n",
    "dw.set_aperture(rowrange=[50, 52], colrange=[50, 52])\n",
    "# dw.set_aperture(rowrange=[46, 52], colrange=[48, 53])\n",
    "\n",
    "dw.plot_cutout(rowrange=[45, 55], colrange=[45, 55], show_aperture=True)"
   ]
  },
  {
   "cell_type": "code",
   "execution_count": null,
   "metadata": {},
   "outputs": [],
   "source": [
    "dw.plot_pix_by_pix(\"normalized_flux\")"
   ]
  },
  {
   "cell_type": "code",
   "execution_count": null,
   "metadata": {},
   "outputs": [],
   "source": [
    "dw.add_cpm_model()\n",
    "dw.set_regs([0.5])\n",
    "dw.holdout_fit_predict(k=5)\n",
    "dw.plot_pix_by_pix(data_type=\"cpm_subtracted_flux\")"
   ]
  },
  {
   "cell_type": "code",
   "execution_count": null,
   "metadata": {},
   "outputs": [],
   "source": [
    "detrended_lc = dw.get_aperture_lc(split=True, data_type=\"cpm_subtracted_flux\")\n",
    "for time, lc in zip(dw.split_times, detrended_lc):\n",
    "    plt.plot(time, lc, \"-\")"
   ]
  },
  {
   "cell_type": "code",
   "execution_count": null,
   "metadata": {},
   "outputs": [],
   "source": [
    "cpm_regs = 10.0 ** np.arange(-9, 9)\n",
    "min_cdpp_reg, cdpps = dw.calc_min_cpm_reg(cpm_regs, k=5)"
   ]
  },
  {
   "cell_type": "code",
   "execution_count": null,
   "metadata": {},
   "outputs": [],
   "source": [
    "print(min_cdpp_reg)\n",
    "# dw.set_regs([min_cdpp_reg])\n",
    "dw.set_regs([min_cdpp_reg])\n",
    "\n",
    "dw.holdout_fit_predict(k=10);"
   ]
  },
  {
   "cell_type": "code",
   "execution_count": null,
   "metadata": {},
   "outputs": [],
   "source": [
    "outliers = dw.get_outliers()"
   ]
  },
  {
   "cell_type": "code",
   "execution_count": null,
   "metadata": {},
   "outputs": [],
   "source": [
    "plt.plot(dw.time, dw.get_aperture_lc(split=False, data_type=\"normalized_flux\"), \"-\", c=\"k\")\n",
    "# plt.plot(dw.time, dw.get_aperture_lc(split=False, data_type=\"cpm_prediction\"), \"-\", c=\"r\")\n",
    "# plt.plot(dw.time[~outliers], dw.get_aperture_lc(split=False, data_type=\"cpm_subtracted_flux\")[~outliers], \"-\", c=\"k\")"
   ]
  },
  {
   "cell_type": "code",
   "execution_count": null,
   "metadata": {},
   "outputs": [],
   "source": []
  }
 ],
 "metadata": {
  "kernelspec": {
   "display_name": "Python 3",
   "language": "python",
   "name": "python3"
  },
  "language_info": {
   "codemirror_mode": {
    "name": "ipython",
    "version": 3
   },
   "file_extension": ".py",
   "mimetype": "text/x-python",
   "name": "python",
   "nbconvert_exporter": "python",
   "pygments_lexer": "ipython3",
   "version": "3.7.6"
  }
 },
 "nbformat": 4,
 "nbformat_minor": 4
}
