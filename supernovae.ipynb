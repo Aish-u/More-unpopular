{
 "cells": [
  {
   "cell_type": "code",
   "execution_count": null,
   "metadata": {},
   "outputs": [],
   "source": [
    "import tess_cpm\n",
    "import numpy as np\n",
    "import matplotlib.pyplot as plt\n",
    "import lightkurve as lk\n",
    "from astropy.io import fits\n",
    "from astropy.wcs import WCS"
   ]
  },
  {
   "cell_type": "code",
   "execution_count": null,
   "metadata": {},
   "outputs": [],
   "source": [
    "plt.rcParams[\"figure.figsize\"] = (12, 10)"
   ]
  },
  {
   "cell_type": "code",
   "execution_count": null,
   "metadata": {},
   "outputs": [],
   "source": [
    "fits_file = \"supernovae/tess-s0001-4-1_64.525833_-63.615669_100x100_astrocut.fits\""
   ]
  },
  {
   "cell_type": "code",
   "execution_count": null,
   "metadata": {},
   "outputs": [],
   "source": [
    "sn = tess_cpm.Source(fits_file, remove_bad=True)"
   ]
  },
  {
   "cell_type": "code",
   "execution_count": null,
   "metadata": {},
   "outputs": [],
   "source": [
    "sn.set_aperture(rowrange=[49, 52], colrange=[49, 52])\n",
    "sn.plot_cutout(rowrange=[45, 55], colrange=[45, 55], show_aperture=True)"
   ]
  },
  {
   "cell_type": "code",
   "execution_count": null,
   "metadata": {},
   "outputs": [],
   "source": []
  },
  {
   "cell_type": "code",
   "execution_count": null,
   "metadata": {},
   "outputs": [],
   "source": [
    "sn.plot_pix_by_pix(data_type=\"normalized_flux\")"
   ]
  },
  {
   "cell_type": "code",
   "execution_count": null,
   "metadata": {},
   "outputs": [],
   "source": [
    "sn.add_cpm_model()\n",
    "# sn.set_regs([0.01])\n",
    "# sn.holdout_fit_predict(k=2);"
   ]
  },
  {
   "cell_type": "code",
   "execution_count": null,
   "metadata": {},
   "outputs": [],
   "source": [
    "# sn.plot_pix_by_pix(data_type=\"rescaled_cpm_subtracted_lc\", split=True)"
   ]
  },
  {
   "cell_type": "code",
   "execution_count": null,
   "metadata": {},
   "outputs": [],
   "source": [
    "# aperture_lc = sn.get_aperture_lc(data_type=\"cpm_subtracted_lc\")\n",
    "# cpm_prediction = sn.get_aperture_lc(data_type=\"cpm_prediction\")"
   ]
  },
  {
   "cell_type": "code",
   "execution_count": null,
   "metadata": {},
   "outputs": [],
   "source": [
    "# plt.plot(sn.time, aperture_lc)\n",
    "# plt.plot(sn.time, cpm_prediction)"
   ]
  },
  {
   "cell_type": "code",
   "execution_count": null,
   "metadata": {},
   "outputs": [],
   "source": [
    "sn.add_poly_model()\n",
    "sn.set_regs([0.001, 0.1])\n",
    "sn.holdout_fit_predict(k=50);"
   ]
  },
  {
   "cell_type": "code",
   "execution_count": null,
   "metadata": {},
   "outputs": [],
   "source": [
    "sn.plot_pix_by_pix(data_type=\"rescaled_cpm_subtracted_lc\", split=True)\n",
    "# sn.plot_pix_by_pix(data_type=\"cpm_prediction\")\n",
    "# sn.plot_pix_by_pix(data_type=\"poly_model_prediction\")"
   ]
  },
  {
   "cell_type": "code",
   "execution_count": null,
   "metadata": {},
   "outputs": [],
   "source": [
    "flux = sn.get_aperture_lc(data_type=\"normalized_flux\")\n",
    "cpm_prediction = sn.get_aperture_lc(data_type=\"cpm_prediction\")\n",
    "# poly_prediction = sn.get_aperture_lc(data_type=\"poly_model_prediction\")\n",
    "apt_lc = sn.get_aperture_lc(data_type=\"rescaled_cpm_subtracted_lc\")"
   ]
  },
  {
   "cell_type": "code",
   "execution_count": null,
   "metadata": {},
   "outputs": [],
   "source": [
    "# plt.plot(sn.time, flux)\n",
    "# plt.plot(sn.time, cpm_prediction)\n",
    "# plt.plot(sn.time, poly_prediction)\n",
    "plt.plot(sn.time, apt_lc)"
   ]
  },
  {
   "cell_type": "code",
   "execution_count": null,
   "metadata": {},
   "outputs": [],
   "source": [
    "fits_file = \"supernovae/tess-s0002-4-1_64.525833_-63.615669_100x100_astrocut.fits\""
   ]
  },
  {
   "cell_type": "code",
   "execution_count": null,
   "metadata": {},
   "outputs": [],
   "source": [
    "sn2 = tess_cpm.Source(fits_file, remove_bad=True)"
   ]
  },
  {
   "cell_type": "code",
   "execution_count": null,
   "metadata": {},
   "outputs": [],
   "source": [
    "sn2.set_aperture(rowrange=[49, 52], colrange=[49, 52])\n",
    "sn2.plot_cutout(rowrange=[45, 55], colrange=[45, 55], show_aperture=True)"
   ]
  },
  {
   "cell_type": "code",
   "execution_count": null,
   "metadata": {},
   "outputs": [],
   "source": [
    "sn2.plot_pix_by_pix(data_type=\"raw\")"
   ]
  },
  {
   "cell_type": "code",
   "execution_count": null,
   "metadata": {},
   "outputs": [],
   "source": [
    "sn2.add_cpm_model()\n",
    "sn2.add_poly_model()\n",
    "sn2.set_regs([0.001, 0.1])\n",
    "sn2.holdout_fit_predict(k=50);"
   ]
  },
  {
   "cell_type": "code",
   "execution_count": null,
   "metadata": {},
   "outputs": [],
   "source": [
    "sn2.plot_pix_by_pix(data_type=\"rescaled_cpm_subtracted_lc\", split=True)\n",
    "sn2.plot_pix_by_pix(data_type=\"poly_model_prediction\", split=True)"
   ]
  },
  {
   "cell_type": "code",
   "execution_count": null,
   "metadata": {},
   "outputs": [],
   "source": [
    "lc = sn2.get_aperture_lc(data_type=\"rescaled_cpm_subtracted_lc\")"
   ]
  },
  {
   "cell_type": "code",
   "execution_count": null,
   "metadata": {},
   "outputs": [],
   "source": [
    "plt.plot(sn2.time, lc)"
   ]
  },
  {
   "cell_type": "code",
   "execution_count": null,
   "metadata": {},
   "outputs": [],
   "source": [
    "plt.plot(sn.time, apt_lc)\n",
    "plt.plot(sn2.time, lc + np.abs(apt_lc[-1] - lc[0]))"
   ]
  }
 ],
 "metadata": {
  "kernelspec": {
   "display_name": "Python 3",
   "language": "python",
   "name": "python3"
  },
  "language_info": {
   "codemirror_mode": {
    "name": "ipython",
    "version": 3
   },
   "file_extension": ".py",
   "mimetype": "text/x-python",
   "name": "python",
   "nbconvert_exporter": "python",
   "pygments_lexer": "ipython3",
   "version": "3.7.2"
  }
 },
 "nbformat": 4,
 "nbformat_minor": 4
}
