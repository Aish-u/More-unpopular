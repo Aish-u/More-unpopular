{
 "cells": [
  {
   "cell_type": "code",
   "execution_count": null,
   "metadata": {},
   "outputs": [],
   "source": [
    "import tess_cpm\n",
    "import numpy as np\n",
    "import matplotlib.pyplot as plt\n",
    "import lightkurve as lk\n",
    "from astropy.io import fits\n",
    "from astropy.wcs import WCS"
   ]
  },
  {
   "cell_type": "code",
   "execution_count": null,
   "metadata": {},
   "outputs": [],
   "source": [
    "plt.rcParams[\"figure.figsize\"] = (12, 10)"
   ]
  },
  {
   "cell_type": "code",
   "execution_count": null,
   "metadata": {},
   "outputs": [],
   "source": [
    "fits_file = \"supernovae/tess-s0001-4-1_64.525833_-63.615669_100x100_astrocut.fits\""
   ]
  },
  {
   "cell_type": "code",
   "execution_count": null,
   "metadata": {},
   "outputs": [],
   "source": [
    "sn = tess_cpm.Source(fits_file, remove_bad=True)"
   ]
  },
  {
   "cell_type": "code",
   "execution_count": null,
   "metadata": {},
   "outputs": [],
   "source": [
    "sn.set_aperture(rowrange=[49, 52], colrange=[49, 52])\n",
    "sn.plot_cutout(rowrange=[45, 55], colrange=[45, 55], show_aperture=True)"
   ]
  },
  {
   "cell_type": "code",
   "execution_count": null,
   "metadata": {},
   "outputs": [],
   "source": []
  },
  {
   "cell_type": "code",
   "execution_count": null,
   "metadata": {},
   "outputs": [],
   "source": [
    "sn.plot_pix_by_pix(data_type=\"normalized_flux\")"
   ]
  },
  {
   "cell_type": "code",
   "execution_count": null,
   "metadata": {},
   "outputs": [],
   "source": [
    "sn.add_cpm_model()\n",
    "# sn.set_regs([0.01])\n",
    "# sn.holdout_fit_predict(k=2);"
   ]
  },
  {
   "cell_type": "code",
   "execution_count": null,
   "metadata": {},
   "outputs": [],
   "source": [
    "# sn.plot_pix_by_pix(data_type=\"rescaled_cpm_subtracted_lc\", split=True)"
   ]
  },
  {
   "cell_type": "code",
   "execution_count": null,
   "metadata": {},
   "outputs": [],
   "source": [
    "# aperture_lc = sn.get_aperture_lc(data_type=\"cpm_subtracted_lc\")\n",
    "# cpm_prediction = sn.get_aperture_lc(data_type=\"cpm_prediction\")"
   ]
  },
  {
   "cell_type": "code",
   "execution_count": null,
   "metadata": {},
   "outputs": [],
   "source": [
    "# plt.plot(sn.time, aperture_lc)\n",
    "# plt.plot(sn.time, cpm_prediction)"
   ]
  },
  {
   "cell_type": "code",
   "execution_count": null,
   "metadata": {},
   "outputs": [],
   "source": [
    "sn.add_poly_model()\n",
    "sn.set_regs([0.01, 1])\n",
    "sn.holdout_fit_predict(k=20);"
   ]
  },
  {
   "cell_type": "code",
   "execution_count": null,
   "metadata": {},
   "outputs": [],
   "source": [
    "sn.plot_pix_by_pix(data_type=\"rescaled_cpm_subtracted_lc\", split=True)\n",
    "# sn.plot_pix_by_pix(data_type=\"cpm_prediction\")\n",
    "# sn.plot_pix_by_pix(data_type=\"poly_model_prediction\")"
   ]
  },
  {
   "cell_type": "code",
   "execution_count": null,
   "metadata": {},
   "outputs": [],
   "source": [
    "flux = sn.get_aperture_lc(data_type=\"normalized_flux\")\n",
    "cpm_prediction = sn.get_aperture_lc(data_type=\"cpm_prediction\")\n",
    "# poly_prediction = sn.get_aperture_lc(data_type=\"poly_model_prediction\")\n",
    "apt_lc = sn.get_aperture_lc(data_type=\"rescaled_cpm_subtracted_lc\")"
   ]
  },
  {
   "cell_type": "code",
   "execution_count": null,
   "metadata": {},
   "outputs": [],
   "source": [
    "# plt.plot(sn.time, flux)\n",
    "# plt.plot(sn.time, cpm_prediction)\n",
    "# plt.plot(sn.time, poly_prediction)\n",
    "plt.plot(sn.time, apt_lc)"
   ]
  },
  {
   "cell_type": "code",
   "execution_count": null,
   "metadata": {},
   "outputs": [],
   "source": [
    "sn.lsq(0.1, rescale=True, polynomials=True)"
   ]
  },
  {
   "cell_type": "code",
   "execution_count": null,
   "metadata": {},
   "outputs": [],
   "source": [
    "tess_cpm.summary_plot(sn, 20, subtract_polynomials=False, save=False)"
   ]
  },
  {
   "cell_type": "code",
   "execution_count": null,
   "metadata": {},
   "outputs": [],
   "source": [
    "sn.get_aperture_lc(show_pixel_lc=True, show_aperture_lc=True)"
   ]
  },
  {
   "cell_type": "code",
   "execution_count": null,
   "metadata": {},
   "outputs": [],
   "source": [
    "plt.figure(figsize=(12, 8))\n",
    "plt.plot(sn.time, sn.rescaled_target_fluxes, '.')\n",
    "n = 10\n",
    "# locs, mask = c.get_contributing_pixels(n)\n",
    "# print(c.rescaled_predictor_pixels_fluxes.shape)\n",
    "# print(locs[2])\n",
    "# plt.plot(c.time, c.rescaled_im_fluxes[:, locs[0][0], locs[0][1]], '-')\n",
    "# plt.plot(c.time, c.rescaled_predictor_pixels_fluxes[:, 4])\n",
    "for i in range(n):\n",
    "    plt.figure(figsize=(12, 8))\n",
    "    t = sn.rescaled_target_fluxes\n",
    "    p = sn.rescaled_predictor_pixels_fluxes[:, i]\n",
    "    plt.plot(sn.time, t, '.')\n",
    "    plt.plot(sn.time, p, '-', alpha=0.4)\n",
    "    plt.title(np.dot(p, t)/(np.linalg.norm(p)*np.linalg.norm(t)), fontsize=25)\n",
    "    plt.show();"
   ]
  },
  {
   "cell_type": "code",
   "execution_count": null,
   "metadata": {},
   "outputs": [],
   "source": [
    "fits_file = \"supernovae/tess-s0002-4-1_64.525833_-63.615669_100x100_astrocut.fits\""
   ]
  },
  {
   "cell_type": "code",
   "execution_count": null,
   "metadata": {},
   "outputs": [],
   "source": [
    "sector2 = tess_cpm.CPM(fits_file, remove_bad=False)"
   ]
  },
  {
   "cell_type": "code",
   "execution_count": null,
   "metadata": {},
   "outputs": [],
   "source": [
    "sector2.set_poly_model(2, 4, 0.5)\n",
    "sector2.set_target(50, 50)\n",
    "sector2.set_exclusion(10)\n",
    "# sector2.set_predictor_pixels(256)\n",
    "sector2.set_predictor_pixels(256, method='cosine_similarity')"
   ]
  },
  {
   "cell_type": "code",
   "execution_count": null,
   "metadata": {},
   "outputs": [],
   "source": [
    "sector2.lsq(0.1, rescale=True, polynomials=True)"
   ]
  },
  {
   "cell_type": "code",
   "execution_count": null,
   "metadata": {},
   "outputs": [],
   "source": [
    "tess_cpm.summary_plot(sector2, 20, subtract_polynomials=False, save=False)"
   ]
  },
  {
   "cell_type": "code",
   "execution_count": null,
   "metadata": {},
   "outputs": [],
   "source": [
    "plt.rcParams['figure.figsize'] = (12, 8)\n",
    "prediction, residual = sn.xval(0.1)"
   ]
  },
  {
   "cell_type": "code",
   "execution_count": null,
   "metadata": {},
   "outputs": [],
   "source": [
    "plt.rcParams['figure.figsize'] = (12, 8)"
   ]
  },
  {
   "cell_type": "code",
   "execution_count": null,
   "metadata": {},
   "outputs": [],
   "source": [
    "s = tess_cpm.Source(fits_file)\n",
    "pm = tess_cpm.PixelModel(s.target_data, 50, 50)"
   ]
  },
  {
   "cell_type": "code",
   "execution_count": null,
   "metadata": {},
   "outputs": [],
   "source": [
    "pm.add_cpm_model()\n",
    "pm.add_poly_model()\n",
    "pm.set_regs([1.0, 5.0])"
   ]
  },
  {
   "cell_type": "code",
   "execution_count": null,
   "metadata": {},
   "outputs": [],
   "source": [
    "print(pm.time.size)\n",
    "times, predictions = pm.holdout_predictions(k=3)\n",
    "for time, prediction in zip(times, predictions):\n",
    "    plt.plot(time, prediction)"
   ]
  },
  {
   "cell_type": "code",
   "execution_count": null,
   "metadata": {},
   "outputs": [],
   "source": [
    "p = np.concatenate(predictions)\n",
    "# plt.plot(pm.time, p)\n",
    "plt.plot(pm.time, pm.y-p)"
   ]
  },
  {
   "cell_type": "code",
   "execution_count": null,
   "metadata": {},
   "outputs": [],
   "source": [
    "pm.fit(save=True)\n",
    "prediction = pm.predict()\n",
    "cpm_prediction = pm.cpm.predict()"
   ]
  },
  {
   "cell_type": "code",
   "execution_count": null,
   "metadata": {},
   "outputs": [],
   "source": [
    "plt.plot(pm.time, pm.y - cpm_prediction, \".\")\n",
    "# plt.plot(pm.time, pm.poly_model.predict(), '.')"
   ]
  },
  {
   "cell_type": "code",
   "execution_count": null,
   "metadata": {},
   "outputs": [],
   "source": []
  }
 ],
 "metadata": {
  "kernelspec": {
   "display_name": "Python 3",
   "language": "python",
   "name": "python3"
  },
  "language_info": {
   "codemirror_mode": {
    "name": "ipython",
    "version": 3
   },
   "file_extension": ".py",
   "mimetype": "text/x-python",
   "name": "python",
   "nbconvert_exporter": "python",
   "pygments_lexer": "ipython3",
   "version": "3.7.2"
  }
 },
 "nbformat": 4,
 "nbformat_minor": 4
}
