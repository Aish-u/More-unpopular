{
 "cells": [
  {
   "cell_type": "code",
   "execution_count": null,
   "metadata": {},
   "outputs": [],
   "source": [
    "import tess_cpm\n",
    "import numpy as np\n",
    "import matplotlib.pyplot as plt\n",
    "import lightkurve as lk\n",
    "from astropy.io import fits\n",
    "from astropy.wcs import WCS\n",
    "from IPython.display import HTML"
   ]
  },
  {
   "cell_type": "code",
   "execution_count": null,
   "metadata": {},
   "outputs": [],
   "source": [
    "plt.rcParams[\"figure.figsize\"] = (12, 10)\n",
    "plt.rcParams['animation.html'] = 'jshtml'"
   ]
  },
  {
   "cell_type": "code",
   "execution_count": null,
   "metadata": {},
   "outputs": [],
   "source": [
    "fits_file = \"supernovae/tess-s0001-4-1_64.525833_-63.615669_100x100_astrocut.fits\""
   ]
  },
  {
   "cell_type": "code",
   "execution_count": null,
   "metadata": {},
   "outputs": [],
   "source": [
    "sn = tess_cpm.Source(fits_file, remove_bad=True)"
   ]
  },
  {
   "cell_type": "code",
   "execution_count": null,
   "metadata": {},
   "outputs": [],
   "source": [
    "sn.set_aperture(rowrange=[48, 52], colrange=[48, 52])\n",
    "sn.plot_cutout(rowrange=[45, 55], colrange=[45, 55], show_aperture=True)"
   ]
  },
  {
   "cell_type": "code",
   "execution_count": null,
   "metadata": {},
   "outputs": [],
   "source": [
    "sn.plot_pix_by_pix(data_type=\"raw\")"
   ]
  },
  {
   "cell_type": "code",
   "execution_count": null,
   "metadata": {},
   "outputs": [],
   "source": [
    "sn.add_cpm_model()\n",
    "sn.add_poly_model()\n",
    "sn.set_regs([0.001, 0.1])\n",
    "sn.holdout_fit_predict(k=50);"
   ]
  },
  {
   "cell_type": "code",
   "execution_count": null,
   "metadata": {},
   "outputs": [],
   "source": [
    "sn.plot_pix_by_pix(data_type=\"rescaled_cpm_subtracted_flux\", split=True)\n",
    "sn.plot_pix_by_pix(data_type=\"cpm_subtracted_flux\")"
   ]
  },
  {
   "cell_type": "code",
   "execution_count": null,
   "metadata": {},
   "outputs": [],
   "source": [
    "ani = sn.make_animation(thin=100)\n",
    "HTML(ani.to_jshtml())"
   ]
  },
  {
   "cell_type": "code",
   "execution_count": null,
   "metadata": {},
   "outputs": [],
   "source": [
    "flux = sn.get_aperture_lc(data_type=\"normalized_flux\")\n",
    "cpm_prediction = sn.get_aperture_lc(data_type=\"cpm_prediction\")\n",
    "poly_prediction = sn.get_aperture_lc(data_type=\"poly_model_prediction\")\n",
    "apt_lc = sn.get_aperture_lc(data_type=\"rescaled_cpm_subtracted_flux\")"
   ]
  },
  {
   "cell_type": "code",
   "execution_count": null,
   "metadata": {},
   "outputs": [],
   "source": [
    "# plt.plot(sn.time, flux)\n",
    "# plt.plot(sn.time, cpm_prediction)\n",
    "plt.plot(sn.time, poly_prediction)\n",
    "# plt.plot(sn.time, apt_lc)"
   ]
  },
  {
   "cell_type": "code",
   "execution_count": null,
   "metadata": {},
   "outputs": [],
   "source": [
    "fits_file = \"supernovae/tess-s0002-4-1_64.525833_-63.615669_100x100_astrocut.fits\""
   ]
  },
  {
   "cell_type": "code",
   "execution_count": null,
   "metadata": {},
   "outputs": [],
   "source": [
    "sn2 = tess_cpm.Source(fits_file, remove_bad=True)"
   ]
  },
  {
   "cell_type": "code",
   "execution_count": null,
   "metadata": {},
   "outputs": [],
   "source": [
    "sn2.set_aperture(rowrange=[49, 52], colrange=[49, 52])\n",
    "sn2.plot_cutout(rowrange=[45, 55], colrange=[45, 55], show_aperture=True)"
   ]
  },
  {
   "cell_type": "code",
   "execution_count": null,
   "metadata": {},
   "outputs": [],
   "source": [
    "sn2.plot_pix_by_pix(data_type=\"raw\")"
   ]
  },
  {
   "cell_type": "code",
   "execution_count": null,
   "metadata": {},
   "outputs": [],
   "source": [
    "sn2.add_cpm_model()\n",
    "sn2.add_poly_model()\n",
    "sn2.set_regs([0.001, 0.1])\n",
    "sn2.holdout_fit_predict(k=50);"
   ]
  },
  {
   "cell_type": "code",
   "execution_count": null,
   "metadata": {},
   "outputs": [],
   "source": [
    "sn2.plot_pix_by_pix(data_type=\"rescaled_cpm_subtracted_flux\", split=True)\n",
    "sn2.plot_pix_by_pix(data_type=\"poly_model_prediction\", split=True)"
   ]
  },
  {
   "cell_type": "code",
   "execution_count": null,
   "metadata": {},
   "outputs": [],
   "source": [
    "lc = sn2.get_aperture_lc(data_type=\"rescaled_cpm_subtracted_flux\")"
   ]
  },
  {
   "cell_type": "code",
   "execution_count": null,
   "metadata": {},
   "outputs": [],
   "source": [
    "plt.plot(sn2.time, lc)"
   ]
  },
  {
   "cell_type": "code",
   "execution_count": null,
   "metadata": {},
   "outputs": [],
   "source": [
    "plt.plot(sn.time, apt_lc)\n",
    "plt.plot(sn2.time, lc + np.abs(apt_lc[-1] - lc[0]))"
   ]
  },
  {
   "cell_type": "code",
   "execution_count": null,
   "metadata": {},
   "outputs": [],
   "source": [
    "diff, st_time, st_lc = tess_cpm.utils.stitch_sectors(sn.time, sn2.time, apt_lc, lc)\n",
    "plt.plot(sn.time, apt_lc)\n",
    "plt.plot(sn2.time, lc + diff)"
   ]
  },
  {
   "cell_type": "code",
   "execution_count": null,
   "metadata": {},
   "outputs": [],
   "source": [
    "# ASAS-SN 19bt\n",
    "file_sec7 = \"supernovae/tess-s0007-4-1_105.047542_-66.040322_64x64_astrocut.fits\"\n",
    "file_sec8 = \"supernovae/tess-s0008-4-1_105.047542_-66.040322_64x64_astrocut.fits\"\n",
    "file_sec9 = \"supernovae/tess-s0009-4-1_105.047542_-66.040322_64x64_astrocut.fits\""
   ]
  },
  {
   "cell_type": "code",
   "execution_count": null,
   "metadata": {},
   "outputs": [],
   "source": [
    "sec7 = tess_cpm.Source(file_sec7, remove_bad=True)\n",
    "sec7.set_aperture(rowrange=[31, 34], colrange=[31, 35])\n",
    "sec7.plot_cutout(show_aperture=True)\n",
    "sec7.add_cpm_model()\n",
    "sec7.add_poly_model()\n",
    "sec7.set_regs([0.01, 0.1])\n",
    "sec7.holdout_fit_predict(k=50);\n",
    "sec7.plot_pix_by_pix(\"rescaled_cpm_subtracted_flux\", split=True)\n",
    "sec7_lc = sec7.get_aperture_lc(\"cpm_subtracted_flux\")\n",
    "plt.plot(sec7.time, sec7_lc)"
   ]
  },
  {
   "cell_type": "code",
   "execution_count": null,
   "metadata": {},
   "outputs": [],
   "source": [
    "sec8 = tess_cpm.Source(file_sec8, remove_bad=True)\n",
    "sec8.set_aperture(rowrange=[31, 34], colrange=[31, 34])\n",
    "sec8.plot_cutout(show_aperture=True)\n",
    "sec8.add_cpm_model()\n",
    "sec8.add_poly_model()\n",
    "sec8.set_regs([0.01, 0.1])\n",
    "sec8.holdout_fit_predict(k=50);\n",
    "sec8.plot_pix_by_pix(\"cpm_subtracted_flux\", split=True)\n",
    "sec8_lc = sec8.get_aperture_lc(\"cpm_subtracted_flux\")\n",
    "plt.plot(sec8.time, sec8_lc)"
   ]
  },
  {
   "cell_type": "code",
   "execution_count": null,
   "metadata": {},
   "outputs": [],
   "source": [
    "sec9 = tess_cpm.Source(file_sec9, remove_bad=True)\n",
    "sec9.set_aperture(rowrange=[32, 34], colrange=[31, 34])\n",
    "sec9.plot_cutout(show_aperture=True)\n",
    "sec9.add_cpm_model()\n",
    "sec9.add_poly_model()\n",
    "sec9.set_regs([0.01, 0.1])\n",
    "sec9.holdout_fit_predict(k=50);\n",
    "sec9.plot_pix_by_pix(\"cpm_subtracted_flux\", split=True)\n",
    "sec9_lc = sec9.get_aperture_lc(\"cpm_subtracted_flux\")\n",
    "plt.plot(sec9.time, sec9_lc)"
   ]
  },
  {
   "cell_type": "code",
   "execution_count": null,
   "metadata": {},
   "outputs": [],
   "source": [
    "diff, stitched_time, stitched_lc = tess_cpm.utils.stitch_sectors(sec7.time, sec8.time, sec7_lc, sec8_lc, 100)\n",
    "diff2, stitched_time2, stitched_lc2 = tess_cpm.utils.stitch_sectors(stitched_time, sec9.time, stitched_lc, sec9_lc, 100)"
   ]
  },
  {
   "cell_type": "code",
   "execution_count": null,
   "metadata": {},
   "outputs": [],
   "source": [
    "# plt.plot(stitched_time2, stitched_lc2, \".\", c=\"gray\", alpha=0.4)\n",
    "plt.plot(sec7.time, sec7_lc, \".\", c=\"C0\", label=\"Sector 7\")\n",
    "plt.plot(sec8.time, sec8_lc+diff, \".\", c=\"C1\", label=\"Sector 8\")\n",
    "plt.plot(sec9.time, sec9_lc+diff2, \".\", c=\"C2\", label=\"Sector 9\")\n",
    "plt.legend(fontsize=20, markerscale=5)"
   ]
  },
  {
   "cell_type": "code",
   "execution_count": null,
   "metadata": {},
   "outputs": [],
   "source": []
  }
 ],
 "metadata": {
  "kernelspec": {
   "display_name": "Python 3",
   "language": "python",
   "name": "python3"
  },
  "language_info": {
   "codemirror_mode": {
    "name": "ipython",
    "version": 3
   },
   "file_extension": ".py",
   "mimetype": "text/x-python",
   "name": "python",
   "nbconvert_exporter": "python",
   "pygments_lexer": "ipython3",
   "version": "3.7.6"
  }
 },
 "nbformat": 4,
 "nbformat_minor": 4
}
