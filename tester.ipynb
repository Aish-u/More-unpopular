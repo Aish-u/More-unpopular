{
 "cells": [
  {
   "cell_type": "code",
   "execution_count": null,
   "metadata": {},
   "outputs": [],
   "source": [
    "import tess_cpm\n",
    "import numpy as np\n",
    "import matplotlib.pyplot as plt\n",
    "from astropy.io import fits\n",
    "from astropy.wcs import WCS\n",
    "from astroquery.mast import Tesscut\n",
    "from astropy.coordinates import SkyCoord\n",
    "import lightkurve as lk"
   ]
  },
  {
   "cell_type": "code",
   "execution_count": null,
   "metadata": {},
   "outputs": [],
   "source": [
    "plt.rcParams['figure.figsize'] = (14, 8)"
   ]
  },
  {
   "cell_type": "code",
   "execution_count": null,
   "metadata": {},
   "outputs": [],
   "source": [
    "# fits_file = \"tpf/tess-s0001-4-1_64.525833_-63.615669_64x64_astrocut.fits\"\n",
    "# fits_file = \"tess-s0002-4-2_83.272000_-69.508733_64x64_astrocut.fits\"\n",
    "tabby14_file = \"ffi/tabby/tess-s0014-2-4_301.564386_44.456886_100x100_astrocut.fits\"\n",
    "tabby15_file = \"ffi/tabby/tess-s0015-2-3_301.564386_44.456886_100x100_astrocut.fits\"\n",
    "tau_ceti_file = \"ffi/tau_ceti/tess-s0003-1-2_26.017048_-15.937482_100x100_astrocut.fits\""
   ]
  },
  {
   "cell_type": "code",
   "execution_count": null,
   "metadata": {},
   "outputs": [],
   "source": [
    "tabby14 = tess_cpm.Source(tabby14_file)\n",
    "tabby15 = tess_cpm.Source(tabby15_file)"
   ]
  },
  {
   "cell_type": "code",
   "execution_count": null,
   "metadata": {},
   "outputs": [],
   "source": [
    "# tabby15.plot_cutout(0, 1)\n",
    "# im = tabby15.target_data.flux_medians\n",
    "# tabby15.plot_cutout(rowrange=[45, 55] ,colrange=[45, 55])\n",
    "# tabby15.plot_pixel(50, 50)"
   ]
  },
  {
   "cell_type": "code",
   "execution_count": null,
   "metadata": {},
   "outputs": [],
   "source": [
    "pm = tess_cpm.PixelModel(tabby15.target_data, 50, 50)"
   ]
  },
  {
   "cell_type": "code",
   "execution_count": null,
   "metadata": {},
   "outputs": [],
   "source": [
    "pm.add_cpm_model()\n",
    "# pm.add_poly_model()\n",
    "pm.remove_poly_model()\n",
    "pm.set_regs([0.5])"
   ]
  },
  {
   "cell_type": "code",
   "execution_count": null,
   "metadata": {},
   "outputs": [],
   "source": [
    "times, y_tests, m_tests, param_matrix = pm.holdout_fit(k=2)"
   ]
  },
  {
   "cell_type": "code",
   "execution_count": null,
   "metadata": {},
   "outputs": [],
   "source": [
    "# plt.plot(pm.time, pm.y, '-', c='black')\n",
    "prediction = np.concatenate(pm.holdout_predictions())\n",
    "plt.plot(pm.time, prediction)\n",
    "# for time, m, param in zip(times, m_tests, param_matrix):\n",
    "#     print(param.shape)\n",
    "#     plt.plot(param, \"o-\")\n",
    "#     p = np.dot(m, param)\n",
    "#     plt.plot(time, p, '.', alpha=0.5)"
   ]
  },
  {
   "cell_type": "code",
   "execution_count": null,
   "metadata": {},
   "outputs": [],
   "source": [
    "plt.plot(pm.time, pm.y - holdout_prediction)"
   ]
  },
  {
   "cell_type": "code",
   "execution_count": null,
   "metadata": {},
   "outputs": [],
   "source": [
    "pm.fit()\n",
    "model = pm.predict()"
   ]
  },
  {
   "cell_type": "code",
   "execution_count": null,
   "metadata": {},
   "outputs": [],
   "source": [
    "# plt.plot(pm.time, pm.y, '.', c='black')\n",
    "# plt.plot(pm.time, pm.prediction)\n",
    "plt.errorbar(pm.time, pm.y - pm.prediction, yerr=pm.target_data.normalized_flux_errors[:, 50, 50], fmt='.')\n",
    "# print(pm.cpm.params)\n",
    "# plt.plot(pm.cpm.time, pm.cpm.predict())\n",
    "# plt.plot(pm.poly_model.time, pm.poly_model.predict())"
   ]
  },
  {
   "cell_type": "code",
   "execution_count": null,
   "metadata": {},
   "outputs": [],
   "source": [
    "plt.plot(pm.time, pm.prediction)\n",
    "plt.plot(pm.time, pm.predict())\n",
    "print(np.allclose(pm.prediction, pm.cpm.predict()))\n",
    "\n",
    "print(np.allclose(pm.predict(), np.dot(pm.m, pm.params)))\n",
    "# print(np.alltrue(pm.prediction == pm.predict()))\n",
    "# plt.plot(pm.params, \".\")\n",
    "# plt.plot(pm.cpm.params, alpha=0.5)\n",
    "# np.alltrue(pm.m == pm.cpm.m)\n",
    "# np.alltrue\n",
    "# np.alltrue(np.dot(pm.m, pm.params) == np.dot(pm.cpm.m, pm.cpm.params))\n",
    "# print(np.alltrue(np.dot(pm.cpm.m, pm.cpm.params) == pm.cpm.predict()))"
   ]
  },
  {
   "cell_type": "code",
   "execution_count": null,
   "metadata": {},
   "outputs": [],
   "source": [
    "model == np.dot(pm.m, pm.params)"
   ]
  },
  {
   "cell_type": "code",
   "execution_count": null,
   "metadata": {},
   "outputs": [],
   "source": [
    "plt.plot(pm.time, model, '.', c='black')\n",
    "plt.plot(pm.time, np.dot(pm.m, pm.params), c='C0')"
   ]
  },
  {
   "cell_type": "code",
   "execution_count": null,
   "metadata": {},
   "outputs": [],
   "source": [
    "tabby15_data = tess_cpm.TargetData(tabby15_file)\n",
    "cpm = tess_cpm.CPM(tabby15_data)"
   ]
  },
  {
   "cell_type": "code",
   "execution_count": null,
   "metadata": {},
   "outputs": [],
   "source": []
  },
  {
   "cell_type": "code",
   "execution_count": null,
   "metadata": {},
   "outputs": [],
   "source": [
    "cpm.set_target_exclusion_predictors(50, 50, exclusion_size=10)\n",
    "# cpm.lsq(0.1)"
   ]
  },
  {
   "cell_type": "code",
   "execution_count": null,
   "metadata": {},
   "outputs": [],
   "source": [
    "cdpps = cpm.get_hyperparameters(grid_size=50)"
   ]
  },
  {
   "cell_type": "code",
   "execution_count": null,
   "metadata": {},
   "outputs": [],
   "source": [
    "plt.plot(cdpps[0], np.mean(cdpps[1], axis=0), \"o-\")"
   ]
  },
  {
   "cell_type": "code",
   "execution_count": null,
   "metadata": {},
   "outputs": [],
   "source": [
    "cpm.lsq(1e5, rescale=False)\n",
    "# predictions = cpm.get_unscaled_predictions()"
   ]
  },
  {
   "cell_type": "code",
   "execution_count": null,
   "metadata": {},
   "outputs": [],
   "source": [
    "# plt.plot(cpm.time, cpm.centered_scaled_target_fluxes, color=\"black\")\n",
    "# plt.plot(cpm.time, cpm.all_prediction)\n",
    "plt.plot(cpm.time, cpm.difference)\n",
    "# plt.plot(cpm.time, cpm.target_fluxes - predictions[0] + np.mean(predictions[0]))\n",
    "# plt.plot(cpm.time, cpm.target_fluxes)\n",
    "# plt.plot(cpm.time, predictions[0])\n",
    "# plt.plot(cpm.time, cpm.target_fluxes)\n"
   ]
  },
  {
   "cell_type": "code",
   "execution_count": null,
   "metadata": {},
   "outputs": [],
   "source": [
    "first_image = cpm.target_data.fluxes[0]\n",
    "plt.imshow(first_image, origin='lower', vmin=np.percentile(first_image, 10), vmax=np.percentile(first_image, 90))\n",
    "plt.imshow(np.ma.masked_where(cpm.mask_excluded_pixels == 0, cpm.mask_excluded_pixels), cmap=\"Set1\", alpha=0.5, origin='lower')\n",
    "plt.imshow(np.ma.masked_where(cpm.mask_predictor_pixels == 0, cpm.mask_predictor_pixels), cmap=\"binary_r\", alpha=1.0, origin='lower')\n",
    "# plt.colorbar()"
   ]
  },
  {
   "cell_type": "code",
   "execution_count": null,
   "metadata": {},
   "outputs": [],
   "source": [
    "cpm.mask_excluded_pixels[cpm.mask_excluded_pixels == 0] = np.nan\n",
    "# cpm.mask_excluded_pixels\n",
    "a = np.full(10, False)\n",
    "a[a == False] = np.nan\n",
    "# cpm.mask_excluded_pixels\n",
    "a"
   ]
  },
  {
   "cell_type": "code",
   "execution_count": null,
   "metadata": {},
   "outputs": [],
   "source": [
    "cpm.mask_excluded_pixels"
   ]
  },
  {
   "cell_type": "code",
   "execution_count": null,
   "metadata": {},
   "outputs": [],
   "source": [
    "tb14 = tess_cpm.CPM(tabby14_file, remove_bad=True)\n",
    "tb14.set_target(52, 50)\n",
    "tb14.set_exclusion(10)\n",
    "tb14.set_predictor_pixels(256, method=\"cosine_similarity\")\n",
    "tb14_prediction, tb14_baccor_lc = tb14.lsq(1)\n",
    "tess_cpm.utils.summary_plot(tb14, 20)"
   ]
  },
  {
   "cell_type": "code",
   "execution_count": null,
   "metadata": {},
   "outputs": [],
   "source": [
    "tb15 = tess_cpm.CPM(tabby15_file, remove_bad=True)\n",
    "tb15.set_target(50, 50)\n",
    "tb15.set_exclusion(10)\n",
    "tb15.set_predictor_pixels(256, method=\"cosine_similarity\")\n",
    "# tb15_predictions, tb15_baccor_lcs = tb15.xval(1)\n",
    "tb15_prediction, tb15_baccor_lc = tb15.lsq(0.1)\n",
    "tb15_prediction\n",
    "tess_cpm.utils.summary_plot(tb15, save=True)\n",
    "# tb15_predictions"
   ]
  },
  {
   "cell_type": "code",
   "execution_count": null,
   "metadata": {},
   "outputs": [],
   "source": [
    "rows = np.array([51, 50, 49])\n",
    "cols = np.array([49, 50, 51])\n",
    "lc_matrix = np.ones((rows.size, cols.size, 1190))\n",
    "\n",
    "for row in rows:\n",
    "    for col in cols:\n",
    "        tb15 = tess_cpm.CPM(tabby15_file, remove_bad=True)\n",
    "        tb15.set_target(row, col)\n",
    "        tb15.set_exclusion(10)\n",
    "        tb15.set_predictor_pixels(256, method=\"cosine_similarity\")\n",
    "        # tb15_predictions, tb15_baccor_lcs = tb15.xval(1)\n",
    "        tb15_prediction, tb15_baccor_lc = tb15.lsq(0.1)\n",
    "        lc_matrix[np.abs(row-51), col-49] = tb15_baccor_lc"
   ]
  },
  {
   "cell_type": "code",
   "execution_count": null,
   "metadata": {},
   "outputs": [],
   "source": [
    "fig, axs = plt.subplots(rows.size, cols.size, sharex=True, sharey=True)\n",
    "grid = np.indices((rows.size, cols.size))\n",
    "for row in grid[0]:\n",
    "    for col in grid[0]:\n",
    "        ax = axs[row[0], col[0]]\n",
    "        ax.plot(tb15.time, lc_matrix[row[0], col[0]], '-', color='black')\n",
    "#         ymin, ymax = ax.get_ylim()\n",
    "#         ymin, ymax\n",
    "#         ax.vlines(tb15.dump_times, ymin=ymin, ymax=ymax, color=\"C3\", alpha=0.8, label='Bad Points')\n",
    "#         ax.set_ylim(ymin, ymax)\n",
    "# fig.suptitle(\"Tabby's Star Sector 15 pixel lightcurves\", fontsize=20);\n",
    "# fig.tight_layout()\n",
    "fig.subplots_adjust(wspace=0, hspace=0)\n",
    "plt.suptitle(\"Tabby's Star Sector 15 (Pixel Lightcurves)\", fontsize=20, y=0.93);\n",
    "plt.savefig(\"tabby_pixel_lc_sector15.png\", dpi=300)"
   ]
  },
  {
   "cell_type": "code",
   "execution_count": null,
   "metadata": {},
   "outputs": [],
   "source": [
    "# for lc_row in lc_matrix:\n",
    "#     for lc in lc_row:\n",
    "#         plt.plot(tb15.time, lc, '.-',alpha=0.7)\n",
    "plt.show\n",
    "aperture_lc = np.sum(lc_matrix, axis=(0, 1))\n",
    "plt.plot(tb15.time, aperture_lc, '-', color=\"k\")\n",
    "plt.title(\"Tabby's Star Sector 15\", fontsize=20)\n",
    "plt.xlabel(\"Time - 2457000 [BJD]\", fontsize=20)\n",
    "plt.ylabel(\"Fractional Relative Flux\", fontsize=20)\n",
    "ax = plt.gca()\n",
    "ymin, ymax = ax.get_ylim()\n",
    "ymin, ymax\n",
    "plt.vlines(tb15.dump_times, ymin=ymin, ymax=ymax, color=\"C3\", alpha=0.8, label='Bad Points')\n",
    "ax.set_ylim(ymin, ymax)\n",
    "plt.savefig(\"tabby_sector15.png\", dpi=300)"
   ]
  },
  {
   "cell_type": "code",
   "execution_count": null,
   "metadata": {},
   "outputs": [],
   "source": [
    "tau_ceti = tess_cpm.CPM(tau_ceti_file, remove_bad=True)\n",
    "tau_ceti.set_target(65, 50)\n",
    "tau_ceti.set_exclusion(10)\n",
    "tau_ceti.set_predictor_pixels(256, method=\"cosine_similarity\")\n",
    "tau_ceti.lsq(0.5)\n",
    "tess_cpm.utils.summary_plot(tau_ceti, 20)"
   ]
  },
  {
   "cell_type": "code",
   "execution_count": null,
   "metadata": {},
   "outputs": [],
   "source": []
  },
  {
   "cell_type": "code",
   "execution_count": null,
   "metadata": {},
   "outputs": [],
   "source": [
    "cpm = tess_cpm.CPM(fits_file, remove_bad=True)"
   ]
  },
  {
   "cell_type": "code",
   "execution_count": null,
   "metadata": {},
   "outputs": [],
   "source": [
    "cpm.set_poly_model(1, 4, 0.5)"
   ]
  },
  {
   "cell_type": "code",
   "execution_count": null,
   "metadata": {},
   "outputs": [],
   "source": [
    "cpm.set_target_exclusion_predictors(32, 32)"
   ]
  },
  {
   "cell_type": "code",
   "execution_count": null,
   "metadata": {},
   "outputs": [],
   "source": [
    "cpm.lsq(0.3, rescale=True, polynomials=True)"
   ]
  },
  {
   "cell_type": "code",
   "execution_count": null,
   "metadata": {},
   "outputs": [],
   "source": [
    "tess_cpm.summary_plot(cpm, 10, subtract_polynomials=False)"
   ]
  },
  {
   "cell_type": "code",
   "execution_count": null,
   "metadata": {},
   "outputs": [],
   "source": [
    "# plt.imshow(cpm.pixel_medians, origin=\"lower\", vmin=np.percentile(cpm.pixel_medians, 10),\n",
    "#          vmax=np.percentile(cpm.pixel_medians, 90))"
   ]
  },
  {
   "cell_type": "code",
   "execution_count": null,
   "metadata": {},
   "outputs": [],
   "source": [
    "cpm.sigma_clip(2, iterations=3, subtract_polynomials=False)"
   ]
  },
  {
   "cell_type": "code",
   "execution_count": null,
   "metadata": {},
   "outputs": [],
   "source": [
    "print(cpm.time.shape)\n",
    "print(cpm.sigma_clipped_time.shape)"
   ]
  },
  {
   "cell_type": "code",
   "execution_count": null,
   "metadata": {},
   "outputs": [],
   "source": [
    "plt.plot(cpm.sigma_clipped_time, cpm.sigma_clipped_fluxes, \".-\")"
   ]
  },
  {
   "cell_type": "code",
   "execution_count": null,
   "metadata": {},
   "outputs": [],
   "source": [
    "from IPython.display import HTML\n",
    "import matplotlib.animation as animation\n",
    "# cpm.entire_image(0.1, rescale=True, polynomials=True)\n",
    "diff = cpm.im_diff\n",
    "upscaled_diff = cpm.pixel_medians*cpm.im_diff\n",
    "\n",
    "fig, axes = plt.subplots(1, 3, figsize=(18, 18))\n",
    "\n",
    "ims = []\n",
    "for i in range(0, diff.shape[0], 10):\n",
    "    im1 = axes[0].imshow(cpm.im_fluxes[i], origin=\"lower\", animated=True,\n",
    "                        vmin=np.percentile(cpm.im_fluxes[0], 10), vmax=np.percentile(cpm.im_fluxes[0], 90))\n",
    "    im2 = axes[1].imshow(diff[i], origin=\"lower\", animated=True,\n",
    "                   vmin=np.percentile(diff, 1), vmax=np.percentile(diff, 99));\n",
    "    im3 = axes[2].imshow(upscaled_diff[i], origin=\"lower\", animated=True,\n",
    "                   vmin=np.percentile(upscaled_diff, 1), vmax=np.percentile(upscaled_diff, 99));\n",
    "    ims.append([im1, im2, im3]);\n",
    "fig.colorbar(im1, ax=axes[0], fraction=0.046)\n",
    "fig.colorbar(im2, ax=axes[1], fraction=0.046)\n",
    "fig.colorbar(im3, ax=axes[2], fraction=0.046)\n",
    "    \n",
    "ani = animation.ArtistAnimation(fig, ims, interval=50, blit=True,\n",
    "                                repeat_delay=1000);\n",
    "\n",
    "\n",
    "ani.save(\"2018fhw.gif\")\n",
    "HTML(ani.to_jshtml())\n"
   ]
  },
  {
   "cell_type": "code",
   "execution_count": null,
   "metadata": {},
   "outputs": [],
   "source": []
  },
  {
   "cell_type": "code",
   "execution_count": null,
   "metadata": {},
   "outputs": [],
   "source": [
    "plt.figure(figsize=(18, 10))\n",
    "# plt.plot(cpm.time, cpm.target_fluxes, '.')\n",
    "plt.plot(cpm.time, (cpm.lsq_prediction+1)*np.median(cpm.target_fluxes), '.')\n",
    "# plt.plot(cpm.time, (cpm.poly_prediction+1-cpm.poly_params[0])*np.median(cpm.target_fluxes), \".\")\n",
    "# plt.plot(cpm.time, (cpm.poly_prediction-cpm.poly_params[0]), \".\")\n",
    "\n",
    "plt.plot(cpm.time, (cpm.cpm_prediction+1+cpm.poly_params[0])*np.median(cpm.target_fluxes), \".\")\n",
    "# plt.plot(cpm.time, cpm.target_fluxes-(cpm.cpm_prediction+1+cpm.poly_params[0])*np.median(cpm.target_fluxes), \".\")"
   ]
  },
  {
   "cell_type": "code",
   "execution_count": null,
   "metadata": {},
   "outputs": [],
   "source": [
    "cpm.entire_image(0.5, polynomials=True)"
   ]
  },
  {
   "cell_type": "code",
   "execution_count": null,
   "metadata": {},
   "outputs": [],
   "source": [
    "tess_cpm.summary_plot(cpm, 10)"
   ]
  },
  {
   "cell_type": "code",
   "execution_count": null,
   "metadata": {},
   "outputs": [],
   "source": [
    "apt, apt_lc = cpm.difference_image_sap(cpm.cpm_regularization, 32, 32, 1, polynomials=True)"
   ]
  },
  {
   "cell_type": "code",
   "execution_count": null,
   "metadata": {},
   "outputs": [],
   "source": [
    "import matplotlib.pyplot as plt\n",
    "# plt.plot(cpm.time, apt_lc)\n",
    "\n",
    "# apt = apt.reshape(apt.shape[0], 9)\n",
    "# for i in range(9):\n",
    "#     plt.plot(cpm.time, apt[:, i])\n",
    "plt.plot(cpm.time, apt_lc, \".\", color=\"Red\")"
   ]
  },
  {
   "cell_type": "code",
   "execution_count": null,
   "metadata": {},
   "outputs": [],
   "source": [
    "from astropy import units as u\n",
    "from astropy.coordinates import SkyCoord"
   ]
  },
  {
   "cell_type": "code",
   "execution_count": null,
   "metadata": {},
   "outputs": [],
   "source": [
    "from astroquery.mast import Tesscut"
   ]
  },
  {
   "cell_type": "code",
   "execution_count": null,
   "metadata": {},
   "outputs": [],
   "source": [
    "c = SkyCoord(64.525833, -63.615669, unit='deg')"
   ]
  },
  {
   "cell_type": "code",
   "execution_count": null,
   "metadata": {},
   "outputs": [],
   "source": [
    "c.dec"
   ]
  },
  {
   "cell_type": "code",
   "execution_count": null,
   "metadata": {},
   "outputs": [],
   "source": [
    "tesscut_test_download = Tesscut.download_cutouts(c)"
   ]
  },
  {
   "cell_type": "code",
   "execution_count": null,
   "metadata": {},
   "outputs": [],
   "source": [
    "c = SkyCoord(\"5:33:05.28 -69:30:31.44\", unit=(u.hourangle, u.deg))"
   ]
  },
  {
   "cell_type": "code",
   "execution_count": null,
   "metadata": {},
   "outputs": [],
   "source": [
    "moa = Tesscut.download_cutouts(c, size=64, sector=2)"
   ]
  },
  {
   "cell_type": "code",
   "execution_count": null,
   "metadata": {},
   "outputs": [],
   "source": [
    "fits_file = \"./tess-s0002-4-2_83.272000_-69.508733_64x64_astrocut.fits\"\n",
    "c = tess_cpm.CPM(fits_file, remove_bad=True)\n",
    "plt.subplot(projection=c.wcs_info)\n",
    "plt.imshow(c.pixel_medians, vmin=np.percentile(c.pixel_medians, 0),\n",
    "           vmax=np.percentile(c.pixel_medians, 99))\n",
    "\n",
    "world = c.wcs_info.wcs_pix2world(32, 32, 0)\n",
    "print(world)\n",
    "print(c.wcs_info.wcs_world2pix(world[0], world[1], 0))"
   ]
  },
  {
   "cell_type": "code",
   "execution_count": null,
   "metadata": {},
   "outputs": [],
   "source": [
    "c.set_target_exclusion_predictors(32, 32, exclusion=8)\n",
    "c.set_poly_model(2, 4, 1.0)"
   ]
  },
  {
   "cell_type": "code",
   "execution_count": null,
   "metadata": {},
   "outputs": [],
   "source": [
    "c.lsq(0.5, rescale=True, polynomials=True)"
   ]
  },
  {
   "cell_type": "code",
   "execution_count": null,
   "metadata": {},
   "outputs": [],
   "source": [
    "tess_cpm.summary_plot(c, 10)"
   ]
  },
  {
   "cell_type": "code",
   "execution_count": null,
   "metadata": {},
   "outputs": [],
   "source": [
    "# c.entire_image(0.5, rescale=True, polynomials=True)\n",
    "# plt.plot(c.time, c.cpm_prediction, \".\")\n",
    "# plt.plot(c.time, c.poly_prediction, \".\")\n",
    "# plt.plot(c.time, c.cpm_prediction+c.poly_prediction, \".\")\n",
    "plt.plot(c.time, c.target_fluxes - (c.cpm_prediction+c.poly_prediction), '.')\n",
    "plt.plot(c.time, c.target_fluxes - c.lsq_prediction, \".\")"
   ]
  },
  {
   "cell_type": "code",
   "execution_count": null,
   "metadata": {},
   "outputs": [],
   "source": [
    "# apt, apt_lc = c.difference_image_sap(32, 32, 2, exclusion=8, polynomials=True)\n",
    "# print(apt.shape)\n",
    "print(np.all((c.target_fluxes - c.cpm_prediction) == apt[:, 2, 2]))\n",
    "plt.plot(c.time, c.target_fluxes - c.cpm_prediction)\n",
    "plt.plot(c.time, apt[:, 2, 2])"
   ]
  },
  {
   "cell_type": "code",
   "execution_count": null,
   "metadata": {},
   "outputs": [],
   "source": [
    "plt.figure(figsize=(15, 10))\n",
    "for p in range(3):\n",
    "    pixels = 2*p+1\n",
    "    print(pixels**2)\n",
    "    apt, apt_lc = c.difference_image_sap(32, 32, p, polynomials=True)\n",
    "    plt.plot(c.time, apt_lc, \".\", label=\"{}x{}\".format(pixels, pixels))\n",
    "plt.legend()"
   ]
  },
  {
   "cell_type": "code",
   "execution_count": null,
   "metadata": {},
   "outputs": [],
   "source": [
    "plt.figure(figsize=(15 ,10))\n",
    "apt = apt.reshape(apt.shape[0], 9)\n",
    "for i in range(9):\n",
    "    plt.plot(c.time, apt[:, i], label=\"{}\".format(i))\n",
    "# plt.plot(c.time, apt_lc, \".\", color=\"Red\")\n",
    "# plt.legend()"
   ]
  },
  {
   "cell_type": "code",
   "execution_count": null,
   "metadata": {},
   "outputs": [],
   "source": [
    "from IPython.display import HTML\n",
    "import matplotlib.animation as animation\n",
    "c.entire_image(0.5, rescale=True, polynomials=True)\n",
    "diff = c.im_diff\n",
    "\n",
    "fig = plt.figure(figsize=(10, 10))\n",
    "\n",
    "ims = []\n",
    "for i in range(0, diff.shape[0], 10):\n",
    "    im = plt.imshow(diff[i], origin=\"lower\", animated=True,\n",
    "                   vmin=np.percentile(diff, 1), vmax=np.percentile(diff, 100));\n",
    "    ims.append([im]);\n",
    "fig.colorbar(im)\n",
    "    \n",
    "ani = animation.ArtistAnimation(fig, ims, interval=50, blit=True,\n",
    "                                repeat_delay=1000);\n",
    "\n",
    "HTML(ani.to_jshtml())"
   ]
  },
  {
   "cell_type": "code",
   "execution_count": null,
   "metadata": {},
   "outputs": [],
   "source": [
    "c.set_target_exclusion_predictors(55, 40)\n",
    "c.lsq(0.3, polynomials=False)\n",
    "tess_cpm.summary_plot(c, 10)"
   ]
  },
  {
   "cell_type": "code",
   "execution_count": null,
   "metadata": {},
   "outputs": [],
   "source": [
    "c.set_target_exclusion_predictors(55, 40)\n",
    "c.lsq(0.3, polynomials=True)\n",
    "tess_cpm.summary_plot(c, 10)"
   ]
  },
  {
   "cell_type": "code",
   "execution_count": null,
   "metadata": {},
   "outputs": [],
   "source": [
    "ap, lc = c.difference_image_sap(55, 40, 1)"
   ]
  },
  {
   "cell_type": "code",
   "execution_count": null,
   "metadata": {},
   "outputs": [],
   "source": [
    "plt.figure(figsize=(15, 10))\n",
    "ap = ap.reshape(ap.shape[0], 9)\n",
    "for i in range(9):\n",
    "    plt.plot(c.time, ap[:, i], '-')\n",
    "plt.plot(c.time, lc)"
   ]
  },
  {
   "cell_type": "code",
   "execution_count": null,
   "metadata": {},
   "outputs": [],
   "source": []
  },
  {
   "cell_type": "code",
   "execution_count": null,
   "metadata": {},
   "outputs": [],
   "source": [
    "I = np.identity(10)\n",
    "ll = np.repeat(2, 6)\n",
    "mm = np.repeat(4, 4)\n",
    "i = np.hstack((ll, mm))\n",
    "i"
   ]
  },
  {
   "cell_type": "code",
   "execution_count": null,
   "metadata": {},
   "outputs": [],
   "source": [
    "i*I"
   ]
  },
  {
   "cell_type": "code",
   "execution_count": null,
   "metadata": {},
   "outputs": [],
   "source": [
    "2*cpm.scaled_centered_time"
   ]
  },
  {
   "cell_type": "code",
   "execution_count": null,
   "metadata": {},
   "outputs": [],
   "source": [
    "x = np.arange(25).reshape(5, 5)"
   ]
  },
  {
   "cell_type": "code",
   "execution_count": null,
   "metadata": {},
   "outputs": [],
   "source": [
    "x[np.array([2,3,4]), np.array([1,2,3,4,5])]"
   ]
  },
  {
   "cell_type": "code",
   "execution_count": null,
   "metadata": {},
   "outputs": [],
   "source": [
    "r = np.repeat(np.arange(31, 34), 3)\n",
    "c = np.tile(np.arange(21, 24), 3)"
   ]
  },
  {
   "cell_type": "code",
   "execution_count": null,
   "metadata": {},
   "outputs": [],
   "source": [
    "r"
   ]
  },
  {
   "cell_type": "code",
   "execution_count": null,
   "metadata": {},
   "outputs": [],
   "source": [
    "c"
   ]
  },
  {
   "cell_type": "code",
   "execution_count": null,
   "metadata": {},
   "outputs": [],
   "source": [
    "for (row, col) in zip(r, c):\n",
    "    print(row, col)"
   ]
  },
  {
   "cell_type": "code",
   "execution_count": null,
   "metadata": {},
   "outputs": [],
   "source": [
    "from astropy.io import fits\n",
    "with fits.open(fits_file, mode=\"readonly\") as hdulist:\n",
    "    wcs_info = WCS(hdulist[2].header)"
   ]
  },
  {
   "cell_type": "code",
   "execution_count": null,
   "metadata": {},
   "outputs": [],
   "source": [
    "wcs_info"
   ]
  },
  {
   "cell_type": "code",
   "execution_count": null,
   "metadata": {},
   "outputs": [],
   "source": [
    "plt.subplot(111, projection=wcs_info)\n",
    "plt.imshow(c.pixel_medians, origin=\"lower\")"
   ]
  },
  {
   "cell_type": "code",
   "execution_count": null,
   "metadata": {},
   "outputs": [],
   "source": [
    "plt.subplot(111)\n",
    "plt.imshow(c.pixel_medians)"
   ]
  },
  {
   "cell_type": "code",
   "execution_count": null,
   "metadata": {},
   "outputs": [],
   "source": [
    "a_f = \"tpf/tess-s0001-4-1_64.525833_-63.615669_64x64_astrocut.fits\"\n",
    "a = tess_cpm.CPM(a_f, remove_bad=True)"
   ]
  },
  {
   "cell_type": "code",
   "execution_count": null,
   "metadata": {},
   "outputs": [],
   "source": [
    "a.set_poly_model(2, 4, 0.1)\n",
    "a.set_target_exclusion_predictors(32, 32)\n",
    "a.lsq(0.5, rescale=True, polynomials=True)"
   ]
  },
  {
   "cell_type": "code",
   "execution_count": null,
   "metadata": {},
   "outputs": [],
   "source": [
    "tess_cpm.summary_plot(a, 10)"
   ]
  },
  {
   "cell_type": "code",
   "execution_count": null,
   "metadata": {},
   "outputs": [],
   "source": [
    "a_apt, a_lc = a.difference_image_sap(32, 32, 0, polynomials=True)"
   ]
  },
  {
   "cell_type": "code",
   "execution_count": null,
   "metadata": {},
   "outputs": [],
   "source": [
    "plt.figure(figsize=(15, 10))\n",
    "plt.plot(a.time, a_lc, \".\")"
   ]
  },
  {
   "cell_type": "code",
   "execution_count": null,
   "metadata": {},
   "outputs": [],
   "source": [
    "b_f = \"tpf/tess-s0002-4-1_64.525833_-63.615669_64x64_astrocut.fits\"\n",
    "b = tess_cpm.CPM(b_f, remove_bad=True)\n",
    "b.set_poly_model(2, 4, 0.1)\n",
    "b.set_target_exclusion_predictors(32, 32)\n",
    "b.lsq(0.5, rescale=True, polynomials=True)"
   ]
  },
  {
   "cell_type": "code",
   "execution_count": null,
   "metadata": {},
   "outputs": [],
   "source": [
    "tess_cpm.summary_plot(b, 10)"
   ]
  },
  {
   "cell_type": "code",
   "execution_count": null,
   "metadata": {},
   "outputs": [],
   "source": [
    "b_apt, b_lc = b.difference_image_sap(32, 32, 0, polynomials=True)"
   ]
  },
  {
   "cell_type": "code",
   "execution_count": null,
   "metadata": {},
   "outputs": [],
   "source": [
    "plt.figure(figsize=(15, 10))\n",
    "plt.plot(b.time, b_lc, \".\")"
   ]
  },
  {
   "cell_type": "code",
   "execution_count": null,
   "metadata": {},
   "outputs": [],
   "source": [
    "plt.figure(figsize=(15, 10))\n",
    "plt.plot(a.time, a_lc, \".\")\n",
    "plt.plot(b.time, b_lc + a_lc[-1], \".\"),\n",
    "plt.xlabel(\"Time (BJD - 2457000)[Day]\")\n",
    "plt.ylabel(\"Difference Flux [e-/s]\")\n",
    "plt.title(\"2018fhw\")\n",
    "# plt.savefig(\"2018fhw.png\", dpi=150)"
   ]
  },
  {
   "cell_type": "code",
   "execution_count": null,
   "metadata": {},
   "outputs": [],
   "source": [
    "def stitch(a_time, b_time, a_flux, b_flux, points):\n",
    "    tot_time = np.hstack((a_time[-points:], b_time[:points]))\n",
    "    scaled_tot_time = ((tot_time - (tot_time.max() + tot_time.min())/2)\n",
    "                      / (tot_time.max() - tot_time.min()))\n",
    "#     ((self.time - (self.time.max() + self.time.min())/2) \n",
    "#                                     / (self.time.max() - self.time.min()))\n",
    "    y = np.hstack((a_flux[-points:], b_flux[:points]))\n",
    "    \n",
    "    x = np.vander(scaled_tot_time, N=4)\n",
    "    m = np.hstack((x, np.ones((scaled_tot_time.shape[0], 1))))\n",
    "    m[-points:,-2] = 0\n",
    "    m[:points, -1] = 0\n",
    "#     print(m[:, -2])\n",
    "#     print(m)\n",
    "#     print(m.shape)\n",
    "    a = np.dot(m.T, m)\n",
    "    b = np.dot(m.T, y)\n",
    "        \n",
    "    return y, m, np.linalg.solve(a, b)"
   ]
  },
  {
   "cell_type": "code",
   "execution_count": null,
   "metadata": {},
   "outputs": [],
   "source": [
    "data, design, params = stitch(a.time, b.time, a_lc, b_lc, 200)\n",
    "# plt.plot(design*params, \".\")\n",
    "print(params)\n",
    "\n",
    "# print(np.dot(design, params))\n",
    "\n",
    "plt.plot(data)\n",
    "plt.plot(np.dot(design, params))\n"
   ]
  },
  {
   "cell_type": "code",
   "execution_count": null,
   "metadata": {},
   "outputs": [],
   "source": [
    "# plt.plot(a.time, a_lc-7.638)\n",
    "plt.plot(a.time, a_lc)\n",
    "# plt.plot(b.time, b_lc+1.503)\n",
    "plt.plot(b.time, b_lc+7.638+1.503)"
   ]
  },
  {
   "cell_type": "code",
   "execution_count": null,
   "metadata": {},
   "outputs": [],
   "source": [
    "fits_file = \"tess-s0002-1-2_357.960320_-25.626803_64x64_astrocut.fits\""
   ]
  },
  {
   "cell_type": "code",
   "execution_count": null,
   "metadata": {},
   "outputs": [],
   "source": [
    "e = tess_cpm.CPM(fits_file, remove_bad=True)"
   ]
  },
  {
   "cell_type": "code",
   "execution_count": null,
   "metadata": {},
   "outputs": [],
   "source": [
    "e.set_poly_model(2, 4, 0.5)\n",
    "# e.set_target_exclusion_predictors(50, 29, exclusion=4, exclusion_method=\"closest\")\n",
    "e.set_target_exclusion_predictors(32,32, exclusion=4, exclusion_method=\"closest\")\n",
    "\n",
    "e.lsq(0.3, rescale=True, polynomials=True)"
   ]
  },
  {
   "cell_type": "code",
   "execution_count": null,
   "metadata": {},
   "outputs": [],
   "source": [
    "tess_cpm.summary_plot(e, 1, subtract_polynomials=False)\n",
    "# plt.plot(e.poly_params)"
   ]
  },
  {
   "cell_type": "code",
   "execution_count": null,
   "metadata": {},
   "outputs": [],
   "source": [
    "plt.figure(figsize=(18, 10))\n",
    "for i in range(5):\n",
    "    plt.plot(e.time, e.predictor_pixels_fluxes[:, i], '.')\n",
    "# plt.plot(e.time, e.cpm_prediction, '.')"
   ]
  },
  {
   "cell_type": "code",
   "execution_count": null,
   "metadata": {},
   "outputs": [],
   "source": [
    "plt.figure(figsize=(18, 10))\n",
    "plt.plot(e.time, e.target_fluxes - e.lsq_prediction, \".\")\n",
    "# dumps = e.time[e.quality > 0]\n",
    "# for i in dumps:\n",
    "#     plt.axvline(i, color=\"red\", alpha=0.2)"
   ]
  },
  {
   "cell_type": "code",
   "execution_count": null,
   "metadata": {},
   "outputs": [],
   "source": [
    "f = tess_cpm.CPM(fits_file, remove_bad=True)\n",
    "f.set_poly_model(2, 4, 0.5)\n",
    "f.set_target_exclusion_predictors(50, 29, exclusion=4, exclusion_method=\"closest\")\n",
    "# e.set_target_exclusion_predictors(32,32, exclusion=4, exclusion_method=\"closest\")\n",
    "\n",
    "f.lsq(0.0, rescale=True, polynomials=True)\n",
    "tess_cpm.summary_plot(f, 10, subtract_polynomials=True)"
   ]
  },
  {
   "cell_type": "code",
   "execution_count": null,
   "metadata": {},
   "outputs": [],
   "source": [
    "plt.figure(figsize=(18, 10))\n",
    "\n",
    "# plt.plot(f.time, f.target_fluxes, '.', color=\"k\")\n",
    "\n",
    "# plt.plot(f.time, f.cpm_prediction, '.', color=\"C0\")\n",
    "# plt.plot(f.time, f.poly_prediction+np.median(f.target_fluxes)*f.poly_params[0], '.', color=\"C1\")\n",
    "# plt.plot(f.time, f.cpm_prediction+f.poly_prediction-np.median(f.target_fluxes), \"--\", color=\"C3\")\n",
    "# plt.plot(f.time, f.lsq_prediction, \"--\", color=\"C2\")\n",
    "# print(np.allclose(f.cpm_prediction+f.poly_prediction-np.median(f.target_fluxes), f.lsq_prediction))\n",
    "plt.legend()\n",
    "\n",
    "# plt.plot(f.time, f.target_fluxes - f.cpm_prediction, \".\")\n",
    "# plt.plot(f.time, f.poly_prediction - np.median(f.target_fluxes), \".\")\n",
    "# print(f.poly_prediction)\n",
    "# plt.plot(f.time, f.target_fluxes)\n",
    "# plt.plot(f.time, f.target_fluxes - np.median(f.target_fluxes)*(1+f.poly_params[0]) )\n",
    "# plt.plot(f.time, f.cpm_prediction - np.median(f.target_fluxes))\n",
    "# plt.plot(f.time, f.target_fluxes)\n",
    "constant = np.median(f.target_fluxes)*f.poly_params[0]\n",
    "# plt.plot(f.time, f.cpm_prediction + constant)\n",
    "# plt.plot(f.time, f.poly_prediction + constant)\n",
    "# plt.plot(f.time, f.cpm_prediction + f.poly_prediction + constant - np.median(f.target_fluxes))\n",
    "# print(np.allclose(f.lsq_prediction, f.cpm_prediction + f.poly_prediction + constant - np.median(f.target_fluxes)))\n",
    "# plt.plot(f.time, f.cpm_prediction + np.median(f.target_fluxes)*f.poly_params[0])\n",
    "# plt.plot(f.time, f.poly_prediction + np.median(f.target_fluxes)*f.poly_params[0])\n",
    "# print(np.median(f.target_fluxes)*f.poly_params[0])\n",
    "# plt.plot(f.time, f.cpm_prediction + f.poly_prediction + f.poly_params[0]*np.median(f.target_fluxes) - np.median(f.target_fluxes))\n",
    "# plt.plot(f.time, f.target_fluxes - (f.cpm_prediction + constant))\n",
    "plt.plot(f.time, f.poly_prediction - np.median(f.target_fluxes), \"-\")\n",
    "# plt.plot(f.time, f.target_fluxes - (f.poly_prediction + constant))\n",
    "# plt.plot(f.time, f.cpm_prediction - np.median(f.target_fluxes))\n",
    "# plt.plot(f.time, f.target_fluxes)\n",
    "# plt.plot(f.time, f.cpm_prediction + constant)\n",
    "# plt.plot(f.time, f.lsq_prediction)\n",
    "# plt.plot(f.time, f.target_fluxes - f.lsq_prediction)\n",
    "plt.plot(f.time, f.target_fluxes - (f.cpm_prediction + constant), \".\")\n",
    "# plt.plot(f.time, f.target_fluxes - (f.poly_prediction + constant))\n",
    "# plt.plot(f.time, f.cpm_prediction - np.median(f.target_fluxes))\n",
    "# plt.plot(f.time, f.target_fluxes - (f.lsq_prediction))"
   ]
  },
  {
   "cell_type": "code",
   "execution_count": null,
   "metadata": {},
   "outputs": [],
   "source": [
    "plt.figure(figsize=(18, 10))\n",
    "plt.plot(f.time, np.median(f.target_fluxes)*((f.rescaled_target_fluxes-f.cpm_prediction-f.poly_params[0])))"
   ]
  },
  {
   "cell_type": "code",
   "execution_count": null,
   "metadata": {},
   "outputs": [],
   "source": [
    "plt.figure(figsize=(18, 10))\n",
    "plt.plot(f.time, f.rescaled_target_fluxes)\n",
    "# plt.plot(f.time, f.cpm_prediction + f.poly_params[0])\n",
    "# plt.plot(f.time, f.poly_prediction - f.poly_params[0])\n",
    "plt.plot(f.time, f.cpm_prediction + f.poly_prediction)"
   ]
  },
  {
   "cell_type": "code",
   "execution_count": null,
   "metadata": {},
   "outputs": [],
   "source": [
    "apt, apt_lc = e.difference_image_sap(32, 32, 0, exclusion_method=\"closest\", polynomials=False)"
   ]
  },
  {
   "cell_type": "code",
   "execution_count": null,
   "metadata": {},
   "outputs": [],
   "source": [
    "f.poly_params"
   ]
  },
  {
   "cell_type": "code",
   "execution_count": null,
   "metadata": {},
   "outputs": [],
   "source": [
    "plt.figure(figsize=(18, 10))\n",
    "plt.plot(f.time, f.target_fluxes - f.lsq_prediction, \".\")\n",
    "# dumps = f.time[f.quality > 0]\n",
    "# for i in dumps:\n",
    "#     plt.axvline(i, color=\"red\", alpha=0.2)\n",
    "# plt.plot(e.time, apt_lc, \".\")\n",
    "# plt.plot(e.time, e.target_fluxes - e.lsq_prediction, \".\")\n",
    "# plt.plot(f.time, apt_lc, \".\")\n",
    "# apt = apt.reshape(apt.shape[0], 9)\n",
    "# for i in range(9):\n",
    "#     plt.plot(e.time, apt[:, i], \".\")\n",
    "# plt.plot(e.target_fluxes - e.lsq_prediction, '.')\n",
    "plt.xlabel(\"Time (BJD-2457000)[Day]\", fontsize=15)\n",
    "plt.ylabel(\"Residual Flux [e-/s]\", fontsize=15)\n",
    "plt.title(\"Residual Lightcurve of TIC 34014829\", fontsize=20)\n",
    "# plt.savefig(\"residual_lc_TIC34014829.png\", dpi=150)"
   ]
  },
  {
   "cell_type": "code",
   "execution_count": null,
   "metadata": {},
   "outputs": [],
   "source": [
    "from IPython.display import HTML\n",
    "import matplotlib.animation as animation\n",
    "e.entire_image(1.0, rescale=True, polynomials=False)\n",
    "diff = e.im_diff\n",
    "\n",
    "fig = plt.figure(figsize=(10, 10))\n",
    "\n",
    "ims = []\n",
    "for i in range(0, diff.shape[0], 10):\n",
    "    im = plt.imshow(diff[i], origin=\"lower\", animated=True,\n",
    "                   vmin=np.percentile(diff, 1), vmax=np.percentile(diff, 99));\n",
    "    ims.append([im]);\n",
    "fig.colorbar(im)\n",
    "    \n",
    "ani = animation.ArtistAnimation(fig, ims, interval=50, blit=True,\n",
    "                                repeat_delay=1000);\n",
    "\n",
    "HTML(ani.to_jshtml())"
   ]
  },
  {
   "cell_type": "code",
   "execution_count": null,
   "metadata": {},
   "outputs": [],
   "source": [
    "f = \"tess-s0006-2-1_91.258333_-23.707500_64x64_astrocut.fits\""
   ]
  },
  {
   "cell_type": "code",
   "execution_count": null,
   "metadata": {},
   "outputs": [],
   "source": [
    "fe = tess_cpm.CPM(f, remove_bad=True)"
   ]
  },
  {
   "cell_type": "code",
   "execution_count": null,
   "metadata": {},
   "outputs": [],
   "source": [
    "fe.set_poly_model(1, 4, 0.5)\n",
    "fe.set_target_exclusion_predictors(32, 32, exclusion_method=\"closest\")\n",
    "fe.lsq(0.5, rescale=True, polynomials=True)"
   ]
  },
  {
   "cell_type": "code",
   "execution_count": null,
   "metadata": {},
   "outputs": [],
   "source": [
    "tess_cpm.summary_plot(fe, 10)"
   ]
  },
  {
   "cell_type": "code",
   "execution_count": null,
   "metadata": {},
   "outputs": [],
   "source": [
    "f_apt, f_apt_lc = fe.difference_image_sap(32, 32, 0)"
   ]
  },
  {
   "cell_type": "code",
   "execution_count": null,
   "metadata": {},
   "outputs": [],
   "source": [
    "plt.figure(figsize=(15, 10))\n",
    "plt.plot(fe.time, f_apt_lc, \".\")"
   ]
  },
  {
   "cell_type": "code",
   "execution_count": null,
   "metadata": {},
   "outputs": [],
   "source": [
    "from lightkurve.lightcurve import TessLightCurve\n",
    "from lightkurve.periodogram import LombScarglePeriodogram"
   ]
  },
  {
   "cell_type": "code",
   "execution_count": null,
   "metadata": {},
   "outputs": [],
   "source": [
    "lc = TessLightCurve(fe.time, f_apt_lc).flatten().remove_nans().remove_outliers()"
   ]
  },
  {
   "cell_type": "code",
   "execution_count": null,
   "metadata": {},
   "outputs": [],
   "source": [
    "cdpp = lc.estimate_cdpp()"
   ]
  },
  {
   "cell_type": "code",
   "execution_count": null,
   "metadata": {},
   "outputs": [],
   "source": [
    "print(cdpp)"
   ]
  },
  {
   "cell_type": "code",
   "execution_count": null,
   "metadata": {},
   "outputs": [],
   "source": [
    "flc = lc.fold(2.4)"
   ]
  },
  {
   "cell_type": "code",
   "execution_count": null,
   "metadata": {},
   "outputs": [],
   "source": [
    "flc.plot()"
   ]
  },
  {
   "cell_type": "code",
   "execution_count": null,
   "metadata": {},
   "outputs": [],
   "source": [
    "LSP = LombScarglePeriodogram.from_lightcurve(lc)"
   ]
  },
  {
   "cell_type": "code",
   "execution_count": null,
   "metadata": {},
   "outputs": [],
   "source": [
    "LSP.plot()"
   ]
  },
  {
   "cell_type": "code",
   "execution_count": null,
   "metadata": {},
   "outputs": [],
   "source": []
  }
 ],
 "metadata": {
  "kernelspec": {
   "display_name": "Python 3",
   "language": "python",
   "name": "python3"
  },
  "language_info": {
   "codemirror_mode": {
    "name": "ipython",
    "version": 3
   },
   "file_extension": ".py",
   "mimetype": "text/x-python",
   "name": "python",
   "nbconvert_exporter": "python",
   "pygments_lexer": "ipython3",
   "version": "3.7.2"
  }
 },
 "nbformat": 4,
 "nbformat_minor": 4
}
