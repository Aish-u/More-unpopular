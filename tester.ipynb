{
 "cells": [
  {
   "cell_type": "code",
   "execution_count": null,
   "metadata": {},
   "outputs": [],
   "source": [
    "import tess_cpm\n",
    "import numpy as np\n",
    "import matplotlib.pyplot as plt\n",
    "from astropy.io import fits\n",
    "from astropy.wcs import WCS\n",
    "from astroquery.mast import Tesscut\n",
    "from astropy.coordinates import SkyCoord\n",
    "import lightkurve as lk"
   ]
  },
  {
   "cell_type": "code",
   "execution_count": null,
   "metadata": {},
   "outputs": [],
   "source": [
    "plt.rcParams['figure.figsize'] = (14, 8)"
   ]
  },
  {
   "cell_type": "code",
   "execution_count": null,
   "metadata": {},
   "outputs": [],
   "source": [
    "# fits_file = \"tpf/tess-s0001-4-1_64.525833_-63.615669_64x64_astrocut.fits\"\n",
    "# fits_file = \"tess-s0002-4-2_83.272000_-69.508733_64x64_astrocut.fits\"\n",
    "# tabby14_file = \"ffi/tabby/tess-s0014-2-4_301.564386_44.456886_100x100_astrocut.fits\"\n",
    "tabby15_file = \"ffi/tabby/tess-s0015-2-3_301.564386_44.456886_100x100_astrocut.fits\"\n",
    "# tau_ceti_file = \"ffi/tau_ceti/tess-s0003-1-2_26.017048_-15.937482_100x100_astrocut.fits\"\n",
    "sn_file = \"supernovae/tess-s0001-4-1_64.525833_-63.615669_100x100_astrocut.fits\""
   ]
  },
  {
   "cell_type": "code",
   "execution_count": null,
   "metadata": {},
   "outputs": [],
   "source": [
    "tabby15 = tess_cpm.Source(tabby15_file)\n",
    "tabby15.plot_cutout()"
   ]
  },
  {
   "cell_type": "code",
   "execution_count": null,
   "metadata": {},
   "outputs": [],
   "source": [
    "tabby15.plot_cutout(rowrange=[48, 53], colrange=[48, 53])"
   ]
  },
  {
   "cell_type": "code",
   "execution_count": null,
   "metadata": {},
   "outputs": [],
   "source": [
    "tabby15.set_aperture(rowrange=[48, 52], colrange=[49, 53])\n",
    "tabby15.plot_cutout(rowrange=[47, 53], colrange=[48, 54], show_aperture=True)"
   ]
  },
  {
   "cell_type": "code",
   "execution_count": null,
   "metadata": {},
   "outputs": [],
   "source": [
    "tabby15.plot_pixel(50, 50)"
   ]
  },
  {
   "cell_type": "code",
   "execution_count": null,
   "metadata": {},
   "outputs": [],
   "source": [
    "tabby15.add_cpm_model()\n",
    "tabby15.set_regs([1.0])\n",
    "times, fluxes, predictions = tabby15.holdout_fit_predict(k=10)"
   ]
  },
  {
   "cell_type": "code",
   "execution_count": null,
   "metadata": {},
   "outputs": [],
   "source": [
    "tabby15.plot_pix_by_pix(data_type=\"raw\")"
   ]
  },
  {
   "cell_type": "code",
   "execution_count": null,
   "metadata": {},
   "outputs": [],
   "source": [
    "tabby15.plot_pix_by_pix(data_type=\"cpm_subtracted_lc\")"
   ]
  },
  {
   "cell_type": "code",
   "execution_count": null,
   "metadata": {},
   "outputs": [],
   "source": [
    "tabby15.plot_pix_by_pix(data_type=\"cpm_subtracted_lc\", split=False)"
   ]
  },
  {
   "cell_type": "code",
   "execution_count": null,
   "metadata": {},
   "outputs": [],
   "source": [
    "flux_aperture_lc = tabby15.get_aperture_lc(data_type=\"raw\")\n",
    "detrended_aperture_lc = tabby15.get_aperture_lc(data_type=\"cpm_subtracted_lc\")"
   ]
  },
  {
   "cell_type": "code",
   "execution_count": null,
   "metadata": {},
   "outputs": [],
   "source": [
    "plt.plot(tabby15.time, detrended_aperture_lc, \".\", c=\"k\")"
   ]
  },
  {
   "cell_type": "code",
   "execution_count": null,
   "metadata": {},
   "outputs": [],
   "source": [
    "tabby15.set_aperture(rowrange=[49, 51], colrange=[50, 52])\n",
    "tabby15.plot_cutout(rowrange=[47, 53], colrange=[48, 54], show_aperture=True)"
   ]
  },
  {
   "cell_type": "code",
   "execution_count": null,
   "metadata": {},
   "outputs": [],
   "source": [
    "tabby15.add_cpm_model()\n",
    "tabby15.set_regs([1.0])\n",
    "times, fluxes, predictions = tabby15.holdout_fit_predict(k=10)"
   ]
  },
  {
   "cell_type": "code",
   "execution_count": null,
   "metadata": {},
   "outputs": [],
   "source": [
    "tabby15.plot_pix_by_pix(data_type=\"cpm_subtracted_lc\")"
   ]
  },
  {
   "cell_type": "code",
   "execution_count": null,
   "metadata": {},
   "outputs": [],
   "source": [
    "detrended_apt_lc = tabby15.get_aperture_lc(data_type=\"cpm_subtracted_lc\")\n",
    "plt.plot(tabby15.time, detrended_apt_lc, \".\", c=\"k\")"
   ]
  },
  {
   "cell_type": "code",
   "execution_count": null,
   "metadata": {},
   "outputs": [],
   "source": [
    "tabby15.add_poly_model()\n",
    "tabby15.set_regs([1.0, 10.0])\n",
    "tabby15.holdout_fit_predict();"
   ]
  },
  {
   "cell_type": "code",
   "execution_count": null,
   "metadata": {},
   "outputs": [],
   "source": [
    "tabby15.plot_pix_by_pix(data_type=\"cpm_subtracted_lc\")\n",
    "tabby15.plot_pix_by_pix(data_type=\"poly_model_prediction\")"
   ]
  },
  {
   "cell_type": "code",
   "execution_count": null,
   "metadata": {},
   "outputs": [],
   "source": [
    "sn = tess_cpm.Source(sn_file)\n",
    "sn.set_aperture(rowrange=[49, 53], colrange=[49, 52])\n",
    "sn.add_cpm_model()\n",
    "sn.add_poly_model()\n",
    "sn.set_regs([0.5, 1.0]);\n",
    "times, fluxes, predictions = sn.holdout_fit_predict(k=10)"
   ]
  },
  {
   "cell_type": "code",
   "execution_count": null,
   "metadata": {},
   "outputs": [],
   "source": [
    "sn.plot_cutout(show_aperture=True)"
   ]
  },
  {
   "cell_type": "code",
   "execution_count": null,
   "metadata": {},
   "outputs": [],
   "source": [
    "sn.plot_pix_by_pix(data_type=\"cpm_subtracted_lc\")\n",
    "sn.plot_pix_by_pix(data_type=\"poly_model_prediction\")"
   ]
  },
  {
   "cell_type": "code",
   "execution_count": null,
   "metadata": {},
   "outputs": [],
   "source": [
    "sn.rescale()"
   ]
  },
  {
   "cell_type": "code",
   "execution_count": null,
   "metadata": {},
   "outputs": [],
   "source": [
    "aperture_flux = sn.get_aperture_lc(split=True, data_type=\"cpm_subtracted_lc\")\n",
    "\n",
    "type(aperture_flux)\n",
    "for time, flux in zip(sn.split_times, aperture_flux):\n",
    "    plt.plot(time,flux, \".\")\n",
    "# plt.plot(sn.time, aperture_flux)"
   ]
  },
  {
   "cell_type": "code",
   "execution_count": null,
   "metadata": {},
   "outputs": [],
   "source": [
    "aperture_flux = sn.get_aperture_lc(split=True, data_type=\"rescaled_cpm_subtracted_lc\")\n",
    "# plt.plot(sn.time, aperture_flux)\n",
    "\n",
    "# type(aperture_flux)\n",
    "for time, flux in zip(sn.split_times, aperture_flux):\n",
    "    flux.shape\n",
    "    plt.plot(time,flux, \".\")\n",
    "# plt.plot(sn.time, aperture_flux)"
   ]
  },
  {
   "cell_type": "code",
   "execution_count": null,
   "metadata": {},
   "outputs": [],
   "source": [
    "plt.plot(sn.time, sn.cpm_subtracted_lc)"
   ]
  },
  {
   "cell_type": "code",
   "execution_count": null,
   "metadata": {},
   "outputs": [],
   "source": [
    "# sn.plot_pix_by_pix(data_type=\"raw\")\n",
    "# sn.plot_pix_by_pix(data_type=\"prediction\")\n",
    "sn.plot_pix_by_pix(data_type=\"cpm_prediction\")\n",
    "sn.plot_pix_by_pix(data_type=\"poly_model_prediction\", split=True)\n",
    "sn.plot_pix_by_pix(data_type=\"cpm_subtracted_lc\", split=False)\n",
    "\n",
    "\n",
    "# tabby15.plot_pix_predictions(split=False)\n",
    "# tabby15.plot_pix_detrended_lcs(split=False)"
   ]
  },
  {
   "cell_type": "code",
   "execution_count": null,
   "metadata": {},
   "outputs": [],
   "source": []
  },
  {
   "cell_type": "code",
   "execution_count": null,
   "metadata": {},
   "outputs": [],
   "source": [
    "pm = sn.models[0][0]\n",
    "pm.split_time\n",
    "for time, pred in zip(pm.split_time, pm.split_cpm_prediction):\n",
    "    plt.plot(time, pred)\n",
    "#     plt.xlim(1329, 1331)"
   ]
  },
  {
   "cell_type": "code",
   "execution_count": null,
   "metadata": {},
   "outputs": [],
   "source": [
    "f, axs = plt.subplots(1, 1);\n",
    "axs"
   ]
  },
  {
   "cell_type": "code",
   "execution_count": null,
   "metadata": {},
   "outputs": [],
   "source": [
    "sn.plot_cutout(show_aperture=True)"
   ]
  },
  {
   "cell_type": "code",
   "execution_count": null,
   "metadata": {},
   "outputs": [],
   "source": [
    "tabby15.add_cpm_model()\n",
    "tabby15.add_poly_model()\n",
    "tabby15.set_regs([0.1, 1.0]);\n",
    "times, fluxes, predictions = tabby15.holdout_fit_predict(k=20)"
   ]
  },
  {
   "cell_type": "code",
   "execution_count": null,
   "metadata": {},
   "outputs": [],
   "source": [
    "# tabby15.plot_pix_by_pix(data_type=\"raw\")\n",
    "# tabby15.plot_pix_by_pix(data_type=\"prediction\")\n",
    "# tabby15.plot_pix_by_pix(data_type=\"cpm_prediction\")\n",
    "# tabby15.plot_pix_by_pix(data_type=\"poly_prediction\")\n",
    "tabby15.plot_pix_by_pix(data_type=\"cpm_subtracted_lc\")\n",
    "\n",
    "\n",
    "\n",
    "# tabby15.plot_pix_predictions(split=False)\n",
    "# tabby15.plot_pix_detrended_lcs(split=False)"
   ]
  },
  {
   "cell_type": "code",
   "execution_count": null,
   "metadata": {},
   "outputs": [],
   "source": [
    "apt_lc = tabby15.get_aperture_lc(data_type=\"cpm_subtracted_lc\", split=False)\n",
    "plt.plot(tabby15.time, apt_lc, \".\", c=\"k\")\n",
    "# for t, lc, in zip(tabby15.split_times, apt_lc):\n",
    "#     plt.plot(t, lc, \".\")"
   ]
  },
  {
   "cell_type": "code",
   "execution_count": null,
   "metadata": {},
   "outputs": [],
   "source": [
    "tabby15.plot_cutout(show_aperture=True)"
   ]
  },
  {
   "cell_type": "code",
   "execution_count": null,
   "metadata": {},
   "outputs": [],
   "source": []
  },
  {
   "cell_type": "code",
   "execution_count": null,
   "metadata": {},
   "outputs": [],
   "source": [
    "tabby15.add_cpm_model()\n",
    "tabby15.add_poly_model()"
   ]
  },
  {
   "cell_type": "code",
   "execution_count": null,
   "metadata": {},
   "outputs": [],
   "source": [
    "tabby15.plot_cutout(show_aperture=True)\n",
    "# plt.imshow(tabby15.aperture, origin=\"lower\", cmap='binary')\n",
    "# plt.imshow(np.ma.masked_where(tabby15.aperture == False, tabby15.aperture), origin='lower', cmap='binary', alpha=0.5)\n",
    "# print(tabby15.aperture)\n",
    "# tabby15.plot_cutout(0, 1)\n",
    "# im = tabby15.target_data.flux_medians\n",
    "# tabby15.plot_cutout(rowrange=[45, 55] ,colrange=[45, 55])\n",
    "# tabby15.plot_pixel(50, 50)"
   ]
  },
  {
   "cell_type": "code",
   "execution_count": null,
   "metadata": {},
   "outputs": [],
   "source": [
    "pm = tess_cpm.PixelModel(tabby15.target_data, 50, 50)"
   ]
  },
  {
   "cell_type": "code",
   "execution_count": null,
   "metadata": {},
   "outputs": [],
   "source": [
    "pm.add_cpm_model()\n",
    "pm.add_poly_model()\n",
    "pm.remove_poly_model()\n",
    "pm.set_regs([0.5])"
   ]
  },
  {
   "cell_type": "code",
   "execution_count": null,
   "metadata": {},
   "outputs": [],
   "source": [
    "times, y_tests, m_tests, param_matrix = pm.holdout_fit(k=2)"
   ]
  },
  {
   "cell_type": "code",
   "execution_count": null,
   "metadata": {},
   "outputs": [],
   "source": [
    "# plt.plot(pm.time, pm.y, '-', c='black')\n",
    "prediction = np.concatenate(pm.holdout_predictions()[1])\n",
    "# prediction.shape\n",
    "# plt.plot(pm.time, prediction)\n",
    "plt.plot(pm.time, pm.y - prediction)\n",
    "# for time, m, param in zip(times, m_tests, param_matrix):\n",
    "#     print(param.shape)\n",
    "#     plt.plot(param, \"o-\")\n",
    "#     p = np.dot(m, param)\n",
    "#     plt.plot(time, p, '.', alpha=0.5)"
   ]
  },
  {
   "cell_type": "code",
   "execution_count": null,
   "metadata": {},
   "outputs": [],
   "source": [
    "plt.plot(pm.time, pm.y - holdout_prediction)"
   ]
  },
  {
   "cell_type": "code",
   "execution_count": null,
   "metadata": {},
   "outputs": [],
   "source": [
    "pm.fit()\n",
    "model = pm.predict()"
   ]
  },
  {
   "cell_type": "code",
   "execution_count": null,
   "metadata": {},
   "outputs": [],
   "source": [
    "plt.plot(pm.time, pm.prediction)\n",
    "plt.plot(pm.time, pm.predict())\n",
    "print(np.allclose(pm.prediction, pm.cpm.predict()))\n",
    "\n",
    "print(np.allclose(pm.predict(), np.dot(pm.m, pm.params)))\n",
    "# print(np.alltrue(pm.prediction == pm.predict()))\n",
    "# plt.plot(pm.params, \".\")\n",
    "# plt.plot(pm.cpm.params, alpha=0.5)\n",
    "# np.alltrue(pm.m == pm.cpm.m)\n",
    "# np.alltrue\n",
    "# np.alltrue(np.dot(pm.m, pm.params) == np.dot(pm.cpm.m, pm.cpm.params))\n",
    "# print(np.alltrue(np.dot(pm.cpm.m, pm.cpm.params) == pm.cpm.predict()))"
   ]
  },
  {
   "cell_type": "code",
   "execution_count": null,
   "metadata": {},
   "outputs": [],
   "source": [
    "model == np.dot(pm.m, pm.params)"
   ]
  },
  {
   "cell_type": "code",
   "execution_count": null,
   "metadata": {},
   "outputs": [],
   "source": [
    "plt.plot(pm.time, model, '.', c='black')\n",
    "plt.plot(pm.time, np.dot(pm.m, pm.params), c='C0')"
   ]
  },
  {
   "cell_type": "code",
   "execution_count": null,
   "metadata": {},
   "outputs": [],
   "source": [
    "rows = np.array([51, 50, 49])\n",
    "cols = np.array([49, 50, 51])\n",
    "lc_matrix = np.ones((rows.size, cols.size, 1190))\n",
    "\n",
    "for row in rows:\n",
    "    for col in cols:\n",
    "        tb15 = tess_cpm.CPM(tabby15_file, remove_bad=True)\n",
    "        tb15.set_target(row, col)\n",
    "        tb15.set_exclusion(10)\n",
    "        tb15.set_predictor_pixels(256, method=\"cosine_similarity\")\n",
    "        # tb15_predictions, tb15_baccor_lcs = tb15.xval(1)\n",
    "        tb15_prediction, tb15_baccor_lc = tb15.lsq(0.1)\n",
    "        lc_matrix[np.abs(row-51), col-49] = tb15_baccor_lc"
   ]
  },
  {
   "cell_type": "code",
   "execution_count": null,
   "metadata": {},
   "outputs": [],
   "source": [
    "fig, axs = plt.subplots(rows.size, cols.size, sharex=True, sharey=True)\n",
    "grid = np.indices((rows.size, cols.size))\n",
    "for row in grid[0]:\n",
    "    for col in grid[0]:\n",
    "        ax = axs[row[0], col[0]]\n",
    "        ax.plot(tb15.time, lc_matrix[row[0], col[0]], '-', color='black')\n",
    "#         ymin, ymax = ax.get_ylim()\n",
    "#         ymin, ymax\n",
    "#         ax.vlines(tb15.dump_times, ymin=ymin, ymax=ymax, color=\"C3\", alpha=0.8, label='Bad Points')\n",
    "#         ax.set_ylim(ymin, ymax)\n",
    "# fig.suptitle(\"Tabby's Star Sector 15 pixel lightcurves\", fontsize=20);\n",
    "# fig.tight_layout()\n",
    "fig.subplots_adjust(wspace=0, hspace=0)\n",
    "plt.suptitle(\"Tabby's Star Sector 15 (Pixel Lightcurves)\", fontsize=20, y=0.93);\n",
    "plt.savefig(\"tabby_pixel_lc_sector15.png\", dpi=300)"
   ]
  },
  {
   "cell_type": "code",
   "execution_count": null,
   "metadata": {},
   "outputs": [],
   "source": [
    "# for lc_row in lc_matrix:\n",
    "#     for lc in lc_row:\n",
    "#         plt.plot(tb15.time, lc, '.-',alpha=0.7)\n",
    "plt.show\n",
    "aperture_lc = np.sum(lc_matrix, axis=(0, 1))\n",
    "plt.plot(tb15.time, aperture_lc, '-', color=\"k\")\n",
    "plt.title(\"Tabby's Star Sector 15\", fontsize=20)\n",
    "plt.xlabel(\"Time - 2457000 [BJD]\", fontsize=20)\n",
    "plt.ylabel(\"Fractional Relative Flux\", fontsize=20)\n",
    "ax = plt.gca()\n",
    "ymin, ymax = ax.get_ylim()\n",
    "ymin, ymax\n",
    "plt.vlines(tb15.dump_times, ymin=ymin, ymax=ymax, color=\"C3\", alpha=0.8, label='Bad Points')\n",
    "ax.set_ylim(ymin, ymax)\n",
    "plt.savefig(\"tabby_sector15.png\", dpi=300)"
   ]
  },
  {
   "cell_type": "code",
   "execution_count": null,
   "metadata": {},
   "outputs": [],
   "source": [
    "tau_ceti = tess_cpm.CPM(tau_ceti_file, remove_bad=True)\n",
    "tau_ceti.set_target(65, 50)\n",
    "tau_ceti.set_exclusion(10)\n",
    "tau_ceti.set_predictor_pixels(256, method=\"cosine_similarity\")\n",
    "tau_ceti.lsq(0.5)\n",
    "tess_cpm.utils.summary_plot(tau_ceti, 20)"
   ]
  },
  {
   "cell_type": "code",
   "execution_count": null,
   "metadata": {},
   "outputs": [],
   "source": [
    "apt = np.full((8, 8), False)\n",
    "apt[2:6, 2:6] = True\n",
    "apt"
   ]
  },
  {
   "cell_type": "code",
   "execution_count": null,
   "metadata": {},
   "outputs": [],
   "source": [
    "cpm = tess_cpm.CPM(fits_file, remove_bad=True)"
   ]
  },
  {
   "cell_type": "code",
   "execution_count": null,
   "metadata": {},
   "outputs": [],
   "source": [
    "cpm.set_poly_model(1, 4, 0.5)"
   ]
  },
  {
   "cell_type": "code",
   "execution_count": null,
   "metadata": {},
   "outputs": [],
   "source": [
    "cpm.set_target_exclusion_predictors(32, 32)"
   ]
  },
  {
   "cell_type": "code",
   "execution_count": null,
   "metadata": {},
   "outputs": [],
   "source": [
    "cpm.lsq(0.3, rescale=True, polynomials=True)"
   ]
  },
  {
   "cell_type": "code",
   "execution_count": null,
   "metadata": {},
   "outputs": [],
   "source": [
    "tess_cpm.summary_plot(cpm, 10, subtract_polynomials=False)"
   ]
  },
  {
   "cell_type": "code",
   "execution_count": null,
   "metadata": {},
   "outputs": [],
   "source": [
    "# plt.imshow(cpm.pixel_medians, origin=\"lower\", vmin=np.percentile(cpm.pixel_medians, 10),\n",
    "#          vmax=np.percentile(cpm.pixel_medians, 90))"
   ]
  },
  {
   "cell_type": "code",
   "execution_count": null,
   "metadata": {},
   "outputs": [],
   "source": [
    "cpm.sigma_clip(2, iterations=3, subtract_polynomials=False)"
   ]
  },
  {
   "cell_type": "code",
   "execution_count": null,
   "metadata": {},
   "outputs": [],
   "source": [
    "print(cpm.time.shape)\n",
    "print(cpm.sigma_clipped_time.shape)"
   ]
  },
  {
   "cell_type": "code",
   "execution_count": null,
   "metadata": {},
   "outputs": [],
   "source": [
    "plt.plot(cpm.sigma_clipped_time, cpm.sigma_clipped_fluxes, \".-\")"
   ]
  },
  {
   "cell_type": "code",
   "execution_count": null,
   "metadata": {},
   "outputs": [],
   "source": [
    "from IPython.display import HTML\n",
    "import matplotlib.animation as animation\n",
    "# cpm.entire_image(0.1, rescale=True, polynomials=True)\n",
    "diff = cpm.im_diff\n",
    "upscaled_diff = cpm.pixel_medians*cpm.im_diff\n",
    "\n",
    "fig, axes = plt.subplots(1, 3, figsize=(18, 18))\n",
    "\n",
    "ims = []\n",
    "for i in range(0, diff.shape[0], 10):\n",
    "    im1 = axes[0].imshow(cpm.im_fluxes[i], origin=\"lower\", animated=True,\n",
    "                        vmin=np.percentile(cpm.im_fluxes[0], 10), vmax=np.percentile(cpm.im_fluxes[0], 90))\n",
    "    im2 = axes[1].imshow(diff[i], origin=\"lower\", animated=True,\n",
    "                   vmin=np.percentile(diff, 1), vmax=np.percentile(diff, 99));\n",
    "    im3 = axes[2].imshow(upscaled_diff[i], origin=\"lower\", animated=True,\n",
    "                   vmin=np.percentile(upscaled_diff, 1), vmax=np.percentile(upscaled_diff, 99));\n",
    "    ims.append([im1, im2, im3]);\n",
    "fig.colorbar(im1, ax=axes[0], fraction=0.046)\n",
    "fig.colorbar(im2, ax=axes[1], fraction=0.046)\n",
    "fig.colorbar(im3, ax=axes[2], fraction=0.046)\n",
    "    \n",
    "ani = animation.ArtistAnimation(fig, ims, interval=50, blit=True,\n",
    "                                repeat_delay=1000);\n",
    "\n",
    "\n",
    "ani.save(\"2018fhw.gif\")\n",
    "HTML(ani.to_jshtml())\n"
   ]
  },
  {
   "cell_type": "code",
   "execution_count": null,
   "metadata": {},
   "outputs": [],
   "source": []
  },
  {
   "cell_type": "code",
   "execution_count": null,
   "metadata": {},
   "outputs": [],
   "source": [
    "plt.figure(figsize=(18, 10))\n",
    "# plt.plot(cpm.time, cpm.target_fluxes, '.')\n",
    "plt.plot(cpm.time, (cpm.lsq_prediction+1)*np.median(cpm.target_fluxes), '.')\n",
    "# plt.plot(cpm.time, (cpm.poly_prediction+1-cpm.poly_params[0])*np.median(cpm.target_fluxes), \".\")\n",
    "# plt.plot(cpm.time, (cpm.poly_prediction-cpm.poly_params[0]), \".\")\n",
    "\n",
    "plt.plot(cpm.time, (cpm.cpm_prediction+1+cpm.poly_params[0])*np.median(cpm.target_fluxes), \".\")\n",
    "# plt.plot(cpm.time, cpm.target_fluxes-(cpm.cpm_prediction+1+cpm.poly_params[0])*np.median(cpm.target_fluxes), \".\")"
   ]
  },
  {
   "cell_type": "code",
   "execution_count": null,
   "metadata": {},
   "outputs": [],
   "source": [
    "c = SkyCoord(\"5:33:05.28 -69:30:31.44\", unit=(u.hourangle, u.deg))"
   ]
  },
  {
   "cell_type": "code",
   "execution_count": null,
   "metadata": {},
   "outputs": [],
   "source": [
    "moa = Tesscut.download_cutouts(c, size=64, sector=2)"
   ]
  },
  {
   "cell_type": "code",
   "execution_count": null,
   "metadata": {},
   "outputs": [],
   "source": [
    "fits_file = \"./tess-s0002-4-2_83.272000_-69.508733_64x64_astrocut.fits\"\n",
    "c = tess_cpm.CPM(fits_file, remove_bad=True)\n",
    "plt.subplot(projection=c.wcs_info)\n",
    "plt.imshow(c.pixel_medians, vmin=np.percentile(c.pixel_medians, 0),\n",
    "           vmax=np.percentile(c.pixel_medians, 99))\n",
    "\n",
    "world = c.wcs_info.wcs_pix2world(32, 32, 0)\n",
    "print(world)\n",
    "print(c.wcs_info.wcs_world2pix(world[0], world[1], 0))"
   ]
  },
  {
   "cell_type": "code",
   "execution_count": null,
   "metadata": {},
   "outputs": [],
   "source": [
    "from IPython.display import HTML\n",
    "import matplotlib.animation as animation\n",
    "c.entire_image(0.5, rescale=True, polynomials=True)\n",
    "diff = c.im_diff\n",
    "\n",
    "fig = plt.figure(figsize=(10, 10))\n",
    "\n",
    "ims = []\n",
    "for i in range(0, diff.shape[0], 10):\n",
    "    im = plt.imshow(diff[i], origin=\"lower\", animated=True,\n",
    "                   vmin=np.percentile(diff, 1), vmax=np.percentile(diff, 100));\n",
    "    ims.append([im]);\n",
    "fig.colorbar(im)\n",
    "    \n",
    "ani = animation.ArtistAnimation(fig, ims, interval=50, blit=True,\n",
    "                                repeat_delay=1000);\n",
    "\n",
    "HTML(ani.to_jshtml())"
   ]
  }
 ],
 "metadata": {
  "kernelspec": {
   "display_name": "Python 3",
   "language": "python",
   "name": "python3"
  },
  "language_info": {
   "codemirror_mode": {
    "name": "ipython",
    "version": 3
   },
   "file_extension": ".py",
   "mimetype": "text/x-python",
   "name": "python",
   "nbconvert_exporter": "python",
   "pygments_lexer": "ipython3",
   "version": "3.7.2"
  }
 },
 "nbformat": 4,
 "nbformat_minor": 4
}
