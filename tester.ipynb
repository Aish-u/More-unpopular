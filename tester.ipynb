{
 "cells": [
  {
   "cell_type": "code",
   "execution_count": null,
   "metadata": {},
   "outputs": [],
   "source": [
    "import tess_cpm\n",
    "import numpy as np\n",
    "import matplotlib.pyplot as plt\n",
    "from astropy.io import fits\n",
    "from astropy.wcs import WCS\n",
    "from astroquery.mast import Tesscut\n",
    "from astropy.coordinates import SkyCoord\n",
    "import lightkurve as lk\n",
    "from IPython.display import HTML\n",
    "import matplotlib \n",
    "matplotlib.rcParams['animation.embed_limit'] = 50"
   ]
  },
  {
   "cell_type": "code",
   "execution_count": null,
   "metadata": {},
   "outputs": [],
   "source": [
    "plt.rcParams['figure.figsize'] = (14, 8)\n",
    "plt.rcParams[\"figure.dpi\"] = 400"
   ]
  },
  {
   "cell_type": "code",
   "execution_count": null,
   "metadata": {},
   "outputs": [],
   "source": [
    "# fits_file = \"tpf/tess-s0001-4-1_64.525833_-63.615669_64x64_astrocut.fits\"\n",
    "# fits_file = \"provided_sources/tess-s0015-1-1_322.878520_47.920650_64x64_astrocut.fits\"\n",
    "# fits_file = \"tess-s0002-4-2_83.272000_-69.508733_64x64_astrocut.fits\"\n",
    "# tabby14_file = \"ffi/tabby/tess-s0014-2-4_301.564386_44.456886_100x100_astrocut.fits\"\n",
    "tabby15_file = \"ffi/tabby/tess-s0015-2-3_301.564386_44.456886_100x100_astrocut.fits\"\n",
    "# tau_ceti_file = \"ffi/tau_ceti/tess-s0003-1-2_26.017048_-15.937482_100x100_astrocut.fits\"\n",
    "# sn_file = \"supernovae/tess-s0001-4-1_64.525833_-63.615669_100x100_astrocut.fits\"\n",
    "# fits_file = \"provided_sources/tess-s0015-1-1_322.878520_47.920650_64x64_astrocut.fits\" # interesting eclipsing binary\n",
    "parenago_file = \"provided_sources/tess-s0006-1-1_83.826553_-5.377064_100x100_astrocut.fits\"  # Parenago 1925"
   ]
  },
  {
   "cell_type": "code",
   "execution_count": null,
   "metadata": {},
   "outputs": [],
   "source": [
    "tabby15 = tess_cpm.Source(tabby15_file, remove_bad=True)"
   ]
  },
  {
   "cell_type": "code",
   "execution_count": null,
   "metadata": {},
   "outputs": [],
   "source": [
    "tabby15.plot_cutout();"
   ]
  },
  {
   "cell_type": "code",
   "execution_count": null,
   "metadata": {},
   "outputs": [],
   "source": [
    "tabby15.set_aperture(rowlims=[49, 52], collims=[49, 52])\n",
    "tabby15.plot_cutout(rowlims=[46, 55], collims=[46, 55], show_aperture=True);"
   ]
  },
  {
   "cell_type": "code",
   "execution_count": null,
   "metadata": {},
   "outputs": [],
   "source": [
    "# tabby15.set_aperture(rowrange=[49, 52], colrange=[49, 52])\n",
    "# tabby15.plot_cutout(rowrange=[47, 53], colrange=[48, 53], show_aperture=True)"
   ]
  },
  {
   "cell_type": "code",
   "execution_count": null,
   "metadata": {},
   "outputs": [],
   "source": [
    "tabby15.plot_pix_by_pix();"
   ]
  },
  {
   "cell_type": "code",
   "execution_count": null,
   "metadata": {},
   "outputs": [],
   "source": [
    "tabby15.add_cpm_model()\n",
    "tabby15.set_regs([0.01])\n",
    "times, fluxes, predictions = tabby15.holdout_fit_predict(k=50)"
   ]
  },
  {
   "cell_type": "code",
   "execution_count": null,
   "metadata": {},
   "outputs": [],
   "source": [
    "tabby15.plot_pix_by_pix(data_type=\"cpm_subtracted_flux\", split=True)"
   ]
  },
  {
   "cell_type": "code",
   "execution_count": null,
   "metadata": {},
   "outputs": [],
   "source": [
    "detrended_aperture_lc = tabby15.get_aperture_lc(data_type=\"cpm_subtracted_flux\")"
   ]
  },
  {
   "cell_type": "code",
   "execution_count": null,
   "metadata": {},
   "outputs": [],
   "source": [
    "plt.plot(tabby15.time, detrended_aperture_lc, \"-\", c=\"k\")\n",
    "# outliers = tess_cpm.get_outliers(detrended_aperture_lc, window=80, sigma_upper=3, sigma_lower=1.5)\n",
    "# plt.plot(tabby15.time[outliers], detrended_aperture_lc[outliers], \"x\", c=\"red\")\n",
    "# plt.plot(tabby15.time[~outliers], detrended_aperture_lc[~outliers], \"-\", c=\"green\")"
   ]
  },
  {
   "cell_type": "code",
   "execution_count": null,
   "metadata": {},
   "outputs": [],
   "source": [
    "# tabby15.set_regs([0.0001])\n",
    "times, fluxes, predictions = tabby15.holdout_fit_predict(k=50, mask=~outliers)"
   ]
  },
  {
   "cell_type": "code",
   "execution_count": null,
   "metadata": {},
   "outputs": [],
   "source": [
    "tabby15.plot_pix_by_pix(data_type=\"cpm_subtracted_flux\")"
   ]
  },
  {
   "cell_type": "code",
   "execution_count": null,
   "metadata": {},
   "outputs": [],
   "source": [
    "with_mask_apt_lc = tabby15.get_aperture_lc(data_type=\"cpm_subtracted_flux\")\n",
    "plt.plot(tabby15.time, with_mask_apt_lc, \"-\", c=\"k\")\n",
    "lc = lk.TessLightCurve(time=tabby15.time, flux=with_mask_apt_lc+1)\n",
    "# lc.plot()\n",
    "# plt.plot(tabby15.time, lc.flatten().flux)"
   ]
  },
  {
   "cell_type": "code",
   "execution_count": null,
   "metadata": {},
   "outputs": [],
   "source": [
    "plt.plot(tabby15.time, detrended_aperture_lc)\n",
    "plt.plot(tabby15.time, with_mask_apt_lc)"
   ]
  },
  {
   "cell_type": "code",
   "execution_count": null,
   "metadata": {},
   "outputs": [],
   "source": [
    "cpm_regs = 10.0 ** np.arange(-6, 6)\n",
    "min_reg, cdpps = tabby15.calc_min_cpm_reg(cpm_regs, k=50)\n",
    "print(f\"Min CDPP Reg: {min_reg}\")"
   ]
  },
  {
   "cell_type": "code",
   "execution_count": null,
   "metadata": {},
   "outputs": [],
   "source": [
    "tabby15.set_regs([min_reg])\n",
    "tabby15.holdout_fit_predict(k=5)\n",
    "detrended_apt_lc = tabby15.get_aperture_lc(data_type=\"cpm_subtracted_lc\")\n",
    "plt.plot(tabby15.time, detrended_apt_lc, \"-\", c=\"k\")"
   ]
  },
  {
   "cell_type": "code",
   "execution_count": null,
   "metadata": {},
   "outputs": [],
   "source": [
    "tabby15.plot_pix_by_pix(data_type=\"cpm_subtracted_lc\")"
   ]
  },
  {
   "cell_type": "code",
   "execution_count": null,
   "metadata": {},
   "outputs": [],
   "source": [
    "tabby15.set_regs([0.00])\n",
    "tabby15.holdout_fit_predict(k=tabby15.time.size);\n",
    "flux_splits = tabby15.get_aperture_lc(data_type=\"raw\", split=True)\n",
    "splits = tabby15.get_aperture_lc(data_type=\"cpm_subtracted_lc\", split=True)\n",
    "f, axs = plt.subplots(2, 1, sharex=True, figsize=(12, 8))\n",
    "for time, split, f_split in zip(tabby15.split_times, splits, flux_splits):\n",
    "    axs[0].plot(time, split, \".\")\n",
    "    axs[1].plot(time, f_split, \".\")"
   ]
  },
  {
   "cell_type": "code",
   "execution_count": null,
   "metadata": {},
   "outputs": [],
   "source": [
    "f, axs = plt.subplots(2, 1, figsize=(12, 8))\n",
    "for t, s, f_split in zip(tabby15.split_times, splits, flux_splits):\n",
    "    axs[0].plot(t, s, \".\")\n",
    "    axs[1].plot(t, f_split, \".\")"
   ]
  },
  {
   "cell_type": "code",
   "execution_count": null,
   "metadata": {},
   "outputs": [],
   "source": [
    "for t, p, f in zip(tabby15.split_times, splits, flux_splits):\n",
    "#     plt.plot(t, f, \".\")\n",
    "    plt.plot(t, p, \".\")"
   ]
  },
  {
   "cell_type": "code",
   "execution_count": null,
   "metadata": {},
   "outputs": [],
   "source": [
    "# tabby15.rescale()\n",
    "tabby15.plot_pix_by_pix(data_type=\"cpm_subtracted_lc\")\n",
    "loo_lc = tabby15.get_aperture_lc(data_type=\"cpm_subtracted_lc\")\n",
    "plt.plot(tabby15.time, loo_lc, \"-\", c=\"k\")"
   ]
  },
  {
   "cell_type": "code",
   "execution_count": null,
   "metadata": {},
   "outputs": [],
   "source": [
    "n = tess_cpm.Source(fits_file)\n",
    "n.plot_cutout(projection=\"wcs\")"
   ]
  },
  {
   "cell_type": "code",
   "execution_count": null,
   "metadata": {},
   "outputs": [],
   "source": [
    "n.set_aperture(rowrange=[29, 32],colrange=[30, 33])\n",
    "n.plot_cutout(rowrange=[29, 36], colrange=[29, 36], show_aperture=True)"
   ]
  },
  {
   "cell_type": "code",
   "execution_count": null,
   "metadata": {},
   "outputs": [],
   "source": [
    "world = n.cutout_data.wcs_info.wcs_pix2world([[30, 30]], 0)\n",
    "world\n",
    "# 322.878520_47.920650\n",
    "pix = n.cutout_data.wcs_info.wcs_world2pix(world, 0)\n",
    "pix\n",
    "print(world)"
   ]
  },
  {
   "cell_type": "code",
   "execution_count": null,
   "metadata": {},
   "outputs": [],
   "source": [
    "n.plot_pix_by_pix()"
   ]
  },
  {
   "cell_type": "code",
   "execution_count": null,
   "metadata": {},
   "outputs": [],
   "source": [
    "n.add_cpm_model()\n",
    "n.set_regs([0.1])\n",
    "n.holdout_fit_predict(k=10);"
   ]
  },
  {
   "cell_type": "code",
   "execution_count": null,
   "metadata": {},
   "outputs": [],
   "source": [
    "n.plot_pix_by_pix(data_type=\"cpm_subtracted_flux\", split=True)"
   ]
  },
  {
   "cell_type": "code",
   "execution_count": null,
   "metadata": {},
   "outputs": [],
   "source": [
    "detrended_lc = n.get_aperture_lc(data_type=\"cpm_subtracted_flux\")"
   ]
  },
  {
   "cell_type": "code",
   "execution_count": null,
   "metadata": {},
   "outputs": [],
   "source": [
    "plt.plot(n.time, detrended_lc, \"-\", c=\"k\")"
   ]
  },
  {
   "cell_type": "code",
   "execution_count": null,
   "metadata": {},
   "outputs": [],
   "source": [
    "lc = lk.TessLightCurve(time=n.time, flux=detrended_lc)\n",
    "lc.plot()"
   ]
  },
  {
   "cell_type": "code",
   "execution_count": null,
   "metadata": {},
   "outputs": [],
   "source": [
    "pg = lc.to_periodogram(oversample_factor=100)"
   ]
  },
  {
   "cell_type": "code",
   "execution_count": null,
   "metadata": {},
   "outputs": [],
   "source": [
    "fig, axs = plt.subplots(2, 1, figsize=(15, 8))\n",
    "pg.plot(ax=axs[0], c='k')\n",
    "pg.plot(ax=axs[1], c='k', view='period')\n",
    "fig.suptitle(\"Periodogram\", fontsize=20, y=0.95)\n",
    "period = pg.period_at_max_power\n",
    "print(f\"Max Power Period: {period}\")\n",
    "lc.fold(period.value*2).scatter()\n",
    "plt.title(f\"Folded Lightcurve with Period: {period:.4f}\", fontsize=20);"
   ]
  },
  {
   "cell_type": "code",
   "execution_count": null,
   "metadata": {},
   "outputs": [],
   "source": [
    "sn = tess_cpm.Source(sn_file)"
   ]
  },
  {
   "cell_type": "code",
   "execution_count": null,
   "metadata": {},
   "outputs": [],
   "source": [
    "sn.plot_cutout()"
   ]
  },
  {
   "cell_type": "code",
   "execution_count": null,
   "metadata": {},
   "outputs": [],
   "source": [
    "sn.set_aperture(rowrange=[49, 52], colrange=[49, 52])\n",
    "sn.plot_cutout(show_aperture=True)"
   ]
  },
  {
   "cell_type": "code",
   "execution_count": null,
   "metadata": {},
   "outputs": [],
   "source": [
    "sn.add_cpm_model()\n",
    "sn.add_poly_model()\n",
    "sn.set_regs([0.001, 1])\n",
    "sn.holdout_fit_predict(k=50);"
   ]
  },
  {
   "cell_type": "code",
   "execution_count": null,
   "metadata": {},
   "outputs": [],
   "source": [
    "sn.plot_pix_by_pix(data_type=\"raw\", split=True)"
   ]
  },
  {
   "cell_type": "code",
   "execution_count": null,
   "metadata": {},
   "outputs": [],
   "source": [
    "sn.plot_pix_by_pix(data_type=\"cpm_subtracted_lc\", split=True)"
   ]
  },
  {
   "cell_type": "code",
   "execution_count": null,
   "metadata": {},
   "outputs": [],
   "source": [
    "apt = sn.get_aperture_lc(data_type=\"cpm_subtracted_lc\", split=False)\n",
    "plt.plot(sn.time, apt)"
   ]
  },
  {
   "cell_type": "markdown",
   "metadata": {},
   "source": [
    "# Light curve demo (TESS ninja)"
   ]
  },
  {
   "cell_type": "code",
   "execution_count": null,
   "metadata": {},
   "outputs": [],
   "source": [
    "tpf = lk.search_tesscut(\"AC Pic\", sector=13).download(cutout_size=(21, 21))"
   ]
  },
  {
   "cell_type": "code",
   "execution_count": null,
   "metadata": {},
   "outputs": [],
   "source": [
    "mask = tpf.create_threshold_mask(threshold=500)\n",
    "tpf.plot(aperture_mask=mask)"
   ]
  },
  {
   "cell_type": "code",
   "execution_count": null,
   "metadata": {},
   "outputs": [],
   "source": [
    "lc = tpf.to_lightcurve(aperture_mask=mask)"
   ]
  },
  {
   "cell_type": "code",
   "execution_count": null,
   "metadata": {},
   "outputs": [],
   "source": [
    "lc.plot()"
   ]
  },
  {
   "cell_type": "code",
   "execution_count": null,
   "metadata": {},
   "outputs": [],
   "source": [
    "tpf.interact()"
   ]
  },
  {
   "cell_type": "code",
   "execution_count": null,
   "metadata": {},
   "outputs": [],
   "source": [
    "bgmask = ~tpf.create_threshold_mask(threshold=0)"
   ]
  },
  {
   "cell_type": "code",
   "execution_count": null,
   "metadata": {},
   "outputs": [],
   "source": [
    "tpf.plot(aperture_mask=bgmask)"
   ]
  },
  {
   "cell_type": "code",
   "execution_count": null,
   "metadata": {},
   "outputs": [],
   "source": [
    "regressors = tpf.flux[:, bgmask]"
   ]
  },
  {
   "cell_type": "code",
   "execution_count": null,
   "metadata": {},
   "outputs": [],
   "source": [
    "plt.plot(regressors[:, :10]);"
   ]
  },
  {
   "cell_type": "code",
   "execution_count": null,
   "metadata": {},
   "outputs": [],
   "source": [
    "dm = lk.DesignMatrix(regressors).pca(3)"
   ]
  },
  {
   "cell_type": "code",
   "execution_count": null,
   "metadata": {},
   "outputs": [],
   "source": [
    "dm.plot()"
   ]
  },
  {
   "cell_type": "code",
   "execution_count": null,
   "metadata": {},
   "outputs": [],
   "source": [
    "dm.shape"
   ]
  },
  {
   "cell_type": "code",
   "execution_count": null,
   "metadata": {},
   "outputs": [],
   "source": [
    "corr = lk.RegressionCorrector(lc)\n",
    "clc = corr.correct(dm)"
   ]
  },
  {
   "cell_type": "code",
   "execution_count": null,
   "metadata": {},
   "outputs": [],
   "source": [
    "clc.plot()"
   ]
  },
  {
   "cell_type": "code",
   "execution_count": null,
   "metadata": {},
   "outputs": [],
   "source": [
    "corr.diagnose()"
   ]
  },
  {
   "cell_type": "code",
   "execution_count": null,
   "metadata": {},
   "outputs": [],
   "source": [
    "lk.designmatrix.create_spline_matrix(lc.time, n_knots=5, degree=2).plot()"
   ]
  },
  {
   "cell_type": "code",
   "execution_count": null,
   "metadata": {},
   "outputs": [],
   "source": [
    "lk.designmatrix.create_spline_matrix()"
   ]
  },
  {
   "cell_type": "code",
   "execution_count": null,
   "metadata": {},
   "outputs": [],
   "source": [
    "clc.plot()"
   ]
  },
  {
   "cell_type": "code",
   "execution_count": null,
   "metadata": {},
   "outputs": [],
   "source": [
    "clc.estimate_cdpp()"
   ]
  },
  {
   "cell_type": "code",
   "execution_count": null,
   "metadata": {},
   "outputs": [],
   "source": [
    "n_clc = clc.normalize()"
   ]
  },
  {
   "cell_type": "code",
   "execution_count": null,
   "metadata": {},
   "outputs": [],
   "source": [
    "n_clc.plot()"
   ]
  },
  {
   "cell_type": "code",
   "execution_count": null,
   "metadata": {},
   "outputs": [],
   "source": [
    "n_clc.estimate_cdpp()"
   ]
  },
  {
   "cell_type": "code",
   "execution_count": null,
   "metadata": {},
   "outputs": [],
   "source": []
  },
  {
   "cell_type": "code",
   "execution_count": null,
   "metadata": {},
   "outputs": [],
   "source": [
    "pg = n_clc.to_periodogram()"
   ]
  },
  {
   "cell_type": "code",
   "execution_count": null,
   "metadata": {},
   "outputs": [],
   "source": [
    "pg.plot(scale=\"log\")"
   ]
  },
  {
   "cell_type": "code",
   "execution_count": null,
   "metadata": {},
   "outputs": [],
   "source": [
    "S3 instead of MASTlc.normalize().interact_bls()"
   ]
  },
  {
   "cell_type": "code",
   "execution_count": null,
   "metadata": {},
   "outputs": [],
   "source": [
    "tpf.interact_sky()"
   ]
  },
  {
   "cell_type": "markdown",
   "metadata": {},
   "source": [
    "# Parenago 1925 (Eclipsing Binary)"
   ]
  },
  {
   "cell_type": "code",
   "execution_count": null,
   "metadata": {},
   "outputs": [],
   "source": [
    "parenago = tess_cpm.Source(parenago_file)"
   ]
  },
  {
   "cell_type": "code",
   "execution_count": null,
   "metadata": {},
   "outputs": [],
   "source": [
    "fig = parenago.plot_cutout();\n",
    "# fig.savefig(\"parenago_cutout.png\", dpi=200)"
   ]
  },
  {
   "cell_type": "code",
   "execution_count": null,
   "metadata": {},
   "outputs": [],
   "source": [
    "parenago.set_aperture(rowlims=[51, 57], collims=[47, 50])\n",
    "# parenago.set_aperture(rowlims=[45, 60], collims=[40, 55])\n",
    "\n",
    "parenago.plot_cutout(show_aperture=True)"
   ]
  },
  {
   "cell_type": "code",
   "execution_count": null,
   "metadata": {},
   "outputs": [],
   "source": [
    "parenago.plot_pix_by_pix();"
   ]
  },
  {
   "cell_type": "code",
   "execution_count": null,
   "metadata": {},
   "outputs": [],
   "source": [
    "parenago.add_cpm_model(exclusion_size=30)"
   ]
  },
  {
   "cell_type": "code",
   "execution_count": null,
   "metadata": {},
   "outputs": [],
   "source": [
    "parenago.models[2][1].plot_model()\n",
    "parenago.plot_pix_by_pix();"
   ]
  },
  {
   "cell_type": "code",
   "execution_count": null,
   "metadata": {},
   "outputs": [],
   "source": [
    "parenago.set_regs([0.1])"
   ]
  },
  {
   "cell_type": "code",
   "execution_count": null,
   "metadata": {},
   "outputs": [],
   "source": [
    "parenago.holdout_fit_predict();"
   ]
  },
  {
   "cell_type": "code",
   "execution_count": null,
   "metadata": {},
   "outputs": [],
   "source": [
    "parenago.plot_pix_by_pix(data_type=\"cpm_subtracted_flux\");"
   ]
  },
  {
   "cell_type": "code",
   "execution_count": null,
   "metadata": {},
   "outputs": [],
   "source": [
    "lc = parenago.get_aperture_lc(data_type=\"cpm_subtracted_flux\")"
   ]
  },
  {
   "cell_type": "code",
   "execution_count": null,
   "metadata": {},
   "outputs": [],
   "source": [
    "plt.plot(parenago.time, lc, \".\",c=\"k\")\n",
    "plt.xlabel(\"Time - 2457000 [Days]\", fontsize=30)\n",
    "plt.ylabel(\"CPM Flux\", fontsize=30)\n",
    "# plt.tick_params(fontsize=20)\n",
    "plt.tick_params(labelsize=20)\n",
    "# plt.savefig(\"parenago.png\", dpi=200)"
   ]
  },
  {
   "cell_type": "code",
   "execution_count": null,
   "metadata": {},
   "outputs": [],
   "source": [
    "outliers = parenago.get_outliers(sigma_lower=0.5)\n",
    "plt.plot(parenago.time[outliers], lc[outliers])\n",
    "plt.plot(parenago.time[~outliers], lc[~outliers])"
   ]
  },
  {
   "cell_type": "code",
   "execution_count": null,
   "metadata": {},
   "outputs": [],
   "source": [
    "parenago.holdout_fit_predict(mask=~outliers);"
   ]
  },
  {
   "cell_type": "code",
   "execution_count": null,
   "metadata": {},
   "outputs": [],
   "source": [
    "parenago.plot_pix_by_pix(data_type=\"cpm_subtracted_flux\");\n",
    "lc = parenago.get_aperture_lc(data_type=\"cpm_subtracted_flux\")\n",
    "plt.plot(parenago.time, lc, \".\",c=\"k\")\n",
    "plt.xlabel(\"Time - 2457000 [Days]\", fontsize=30)\n",
    "plt.ylabel(\"CPM Flux\", fontsize=30)\n",
    "# plt.tick_params(fontsize=20)\n",
    "plt.tick_params(labelsize=20)\n",
    "# plt.savefig(\"parenago.png\", dpi=200)"
   ]
  },
  {
   "cell_type": "code",
   "execution_count": null,
   "metadata": {},
   "outputs": [],
   "source": [
    "l = lk.TessLightCurve(time=parenago.time, flux=lc)"
   ]
  },
  {
   "cell_type": "code",
   "execution_count": null,
   "metadata": {},
   "outputs": [],
   "source": [
    "l.plot()"
   ]
  },
  {
   "cell_type": "code",
   "execution_count": null,
   "metadata": {},
   "outputs": [],
   "source": [
    "pg = l.to_periodogram(method=\"bls\", period=np.arange(0.3, 10, 0.001))\n",
    "fig, axs = plt.subplots(2, 1, figsize=(16, 16))\n",
    "pg.plot(ax=axs[0], c='k')\n",
    "pg.plot(ax=axs[1], c='k', view='period')\n",
    "# fig.suptitle(\"Periodogram\", fontsize=20, y=0.95)\n",
    "period = pg.period_at_max_power\n",
    "print(f\"Max Power Period: {period}\")\n",
    "l.fold(period.value, t0=1480+period.value/4).scatter()\n",
    "plt.title(f\"Folded Lightcurve with Period: {period:.4f}\", fontsize=20)"
   ]
  },
  {
   "cell_type": "markdown",
   "metadata": {},
   "source": [
    "# Asteroid Detection"
   ]
  },
  {
   "cell_type": "code",
   "execution_count": null,
   "metadata": {},
   "outputs": [],
   "source": [
    "# sd = tess_cpm.Source(\"provided_sources/tess-s0005-1-4_57.079430_7.641400_100x100_astrocut.fits\", remove_bad=True)\n",
    "sd = tess_cpm.Source(\"provided_sources/tess-s0005-1-4_57.079430_7.641400_100x100_astrocut.fits\", remove_bad=True)"
   ]
  },
  {
   "cell_type": "code",
   "execution_count": null,
   "metadata": {},
   "outputs": [],
   "source": [
    "sd.plot_cutout();"
   ]
  },
  {
   "cell_type": "code",
   "execution_count": null,
   "metadata": {},
   "outputs": [],
   "source": [
    "# sd.set_aperture(rowlims=[30, 70], collims=[30, 70])\n",
    "# sd.set_aperture(rowlims=[40, 55], collims=[35, 50])\n",
    "sd.set_aperture(rowlims=[40, 55], collims=[40, 60])\n",
    "# sd.set_aperture(rowlims=[30, 70], collims=[30, 70])\n",
    "\n",
    "\n",
    "sd.plot_cutout(show_aperture=True)"
   ]
  },
  {
   "cell_type": "code",
   "execution_count": null,
   "metadata": {},
   "outputs": [],
   "source": [
    "sd.add_cpm_model()\n",
    "sd.set_regs([0.001])\n",
    "sd.holdout_fit_predict(k=2);"
   ]
  },
  {
   "cell_type": "code",
   "execution_count": null,
   "metadata": {},
   "outputs": [],
   "source": [
    "# sd.plot_pix_by_pix(data_type=\"cpm_subtracted_flux\");"
   ]
  },
  {
   "cell_type": "code",
   "execution_count": null,
   "metadata": {},
   "outputs": [],
   "source": [
    "ani = sd.make_animation(l=70, h=99, thin=10)"
   ]
  },
  {
   "cell_type": "code",
   "execution_count": null,
   "metadata": {},
   "outputs": [],
   "source": [
    "HTML(ani.to_jshtml())"
   ]
  },
  {
   "cell_type": "code",
   "execution_count": null,
   "metadata": {},
   "outputs": [],
   "source": [
    "# ani.save(\"asteroid.mp4\")"
   ]
  },
  {
   "cell_type": "code",
   "execution_count": null,
   "metadata": {},
   "outputs": [],
   "source": [
    "# from astropy.io import fits\n",
    "# with fits.open(\"provided_sources/tess-s0005-1-4_57.079430_7.641400_100x100_astrocut.fits\", mode=\"readonly\") as hdu:\n",
    "#     print(hdu[1].header)"
   ]
  },
  {
   "cell_type": "code",
   "execution_count": null,
   "metadata": {},
   "outputs": [],
   "source": [
    "# tic 468"
   ]
  }
 ],
 "metadata": {
  "kernelspec": {
   "display_name": "Python 3",
   "language": "python",
   "name": "python3"
  },
  "language_info": {
   "codemirror_mode": {
    "name": "ipython",
    "version": 3
   },
   "file_extension": ".py",
   "mimetype": "text/x-python",
   "name": "python",
   "nbconvert_exporter": "python",
   "pygments_lexer": "ipython3",
   "version": "3.7.9"
  }
 },
 "nbformat": 4,
 "nbformat_minor": 4
}
