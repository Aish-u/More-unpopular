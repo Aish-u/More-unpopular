{
 "cells": [
  {
   "cell_type": "code",
   "execution_count": null,
   "metadata": {},
   "outputs": [],
   "source": [
    "import tess_cpm\n",
    "import numpy as np\n",
    "import matplotlib.pyplot as plt\n",
    "from astropy.io import fits\n",
    "from astropy.wcs import WCS\n",
    "from astroquery.mast import Tesscut\n",
    "from astropy.coordinates import SkyCoord\n",
    "import lightkurve as lk"
   ]
  },
  {
   "cell_type": "code",
   "execution_count": null,
   "metadata": {},
   "outputs": [],
   "source": [
    "plt.rcParams['figure.figsize'] = (14, 8)"
   ]
  },
  {
   "cell_type": "code",
   "execution_count": null,
   "metadata": {},
   "outputs": [],
   "source": [
    "# fits_file = \"tpf/tess-s0001-4-1_64.525833_-63.615669_64x64_astrocut.fits\"\n",
    "fits_file = \"provided_sources/tess-s0015-1-1_322.878520_47.920650_64x64_astrocut.fits\"\n",
    "# fits_file = \"tess-s0002-4-2_83.272000_-69.508733_64x64_astrocut.fits\"\n",
    "# tabby14_file = \"ffi/tabby/tess-s0014-2-4_301.564386_44.456886_100x100_astrocut.fits\"\n",
    "tabby15_file = \"ffi/tabby/tess-s0015-2-3_301.564386_44.456886_100x100_astrocut.fits\"\n",
    "# tau_ceti_file = \"ffi/tau_ceti/tess-s0003-1-2_26.017048_-15.937482_100x100_astrocut.fits\"\n",
    "sn_file = \"supernovae/tess-s0001-4-1_64.525833_-63.615669_100x100_astrocut.fits\"\n",
    "fits_file = \"provided_sources/tess-s0015-1-1_322.878520_47.920650_64x64_astrocut.fits\""
   ]
  },
  {
   "cell_type": "code",
   "execution_count": null,
   "metadata": {},
   "outputs": [],
   "source": [
    "tabby15 = tess_cpm.Source(tabby15_file)\n",
    "tabby15.plot_cutout()"
   ]
  },
  {
   "cell_type": "code",
   "execution_count": null,
   "metadata": {},
   "outputs": [],
   "source": [
    "tabby15.plot_cutout(rowrange=[48, 53], colrange=[48, 53])"
   ]
  },
  {
   "cell_type": "code",
   "execution_count": null,
   "metadata": {},
   "outputs": [],
   "source": [
    "tabby15.set_aperture(rowrange=[49, 52], colrange=[49, 52])\n",
    "tabby15.plot_cutout(rowrange=[47, 53], colrange=[48, 53], show_aperture=True)"
   ]
  },
  {
   "cell_type": "code",
   "execution_count": null,
   "metadata": {},
   "outputs": [],
   "source": [
    "tabby15.plot_pix_by_pix()"
   ]
  },
  {
   "cell_type": "code",
   "execution_count": null,
   "metadata": {},
   "outputs": [],
   "source": [
    "tabby15.add_cpm_model(predictor_method=\"similar_brightness\")\n",
    "tabby15.set_regs([0.01])\n",
    "times, fluxes, predictions = tabby15.holdout_fit_predict(k=10)"
   ]
  },
  {
   "cell_type": "code",
   "execution_count": null,
   "metadata": {},
   "outputs": [],
   "source": [
    "# tabby15.plot_pix_by_pix(data_type=\"raw\")"
   ]
  },
  {
   "cell_type": "code",
   "execution_count": null,
   "metadata": {},
   "outputs": [],
   "source": [
    "tabby15.plot_pix_by_pix(data_type=\"cpm_subtracted_lc\", split=True)"
   ]
  },
  {
   "cell_type": "code",
   "execution_count": null,
   "metadata": {},
   "outputs": [],
   "source": [
    "detrended_aperture_lc = tabby15.get_aperture_lc(data_type=\"cpm_subtracted_lc\")"
   ]
  },
  {
   "cell_type": "code",
   "execution_count": null,
   "metadata": {},
   "outputs": [],
   "source": [
    "plt.plot(tabby15.time, detrended_aperture_lc, \"-\", c=\"k\")"
   ]
  },
  {
   "cell_type": "code",
   "execution_count": null,
   "metadata": {},
   "outputs": [],
   "source": [
    "tabby15.set_aperture(rowrange=[49, 51], colrange=[50, 52])\n",
    "tabby15.plot_cutout(rowrange=[47, 53], colrange=[48, 54], show_aperture=True)"
   ]
  },
  {
   "cell_type": "code",
   "execution_count": null,
   "metadata": {},
   "outputs": [],
   "source": [
    "tabby15.add_cpm_model()\n",
    "tabby15.set_regs([0.01])\n",
    "times, fluxes, predictions = tabby15.holdout_fit_predict(k=2)"
   ]
  },
  {
   "cell_type": "code",
   "execution_count": null,
   "metadata": {},
   "outputs": [],
   "source": [
    "tabby15.plot_pix_by_pix(data_type=\"cpm_subtracted_lc\")"
   ]
  },
  {
   "cell_type": "code",
   "execution_count": null,
   "metadata": {},
   "outputs": [],
   "source": [
    "detrended_apt_lc = tabby15.get_aperture_lc(data_type=\"cpm_subtracted_lc\")\n",
    "plt.plot(tabby15.time, detrended_apt_lc, \"-\", c=\"k\")\n",
    "lc = lk.TessLightCurve(time=tabby15.time, flux=detrended_apt_lc+1)\n",
    "# lc.plot()\n",
    "plt.plot(tabby15.time, lc.flatten().flux)"
   ]
  },
  {
   "cell_type": "code",
   "execution_count": null,
   "metadata": {},
   "outputs": [],
   "source": [
    "cpm_regs = 10.0 ** np.arange(-12, 10)\n",
    "min_reg, cdpps = tabby15.calc_min_cpm_reg(cpm_regs, k=10)\n",
    "print(f\"Min CDPP Reg: {min_reg}\")"
   ]
  },
  {
   "cell_type": "code",
   "execution_count": null,
   "metadata": {},
   "outputs": [],
   "source": [
    "tabby15.set_regs([0.00])\n",
    "tabby15.holdout_fit_predict(k=tabby15.time.size);\n",
    "flux_splits = tabby15.get_aperture_lc(data_type=\"raw\", split=True)\n",
    "splits = tabby15.get_aperture_lc(data_type=\"cpm_subtracted_lc\", split=True)\n",
    "f, axs = plt.subplots(2, 1, sharex=True, figsize=(12, 8))\n",
    "for time, split, f_split in zip(tabby15.split_times, splits, flux_splits):\n",
    "    axs[0].plot(time, split, \".\")\n",
    "    axs[1].plot(time, f_split, \".\")"
   ]
  },
  {
   "cell_type": "code",
   "execution_count": null,
   "metadata": {},
   "outputs": [],
   "source": [
    "f, axs = plt.subplots(2, 1, figsize=(12, 8))\n",
    "for t, s, f_split in zip(tabby15.split_times, splits, flux_splits):\n",
    "    axs[0].plot(t, s, \".\")\n",
    "    axs[1].plot(t, f_split, \".\")"
   ]
  },
  {
   "cell_type": "code",
   "execution_count": null,
   "metadata": {},
   "outputs": [],
   "source": [
    "for t, p, f in zip(tabby15.split_times, splits, flux_splits):\n",
    "#     plt.plot(t, f, \".\")\n",
    "    plt.plot(t, p, \".\")"
   ]
  },
  {
   "cell_type": "code",
   "execution_count": null,
   "metadata": {},
   "outputs": [],
   "source": [
    "# tabby15.rescale()\n",
    "tabby15.plot_pix_by_pix(data_type=\"cpm_subtracted_lc\")\n",
    "loo_lc = tabby15.get_aperture_lc(data_type=\"cpm_subtracted_lc\")\n",
    "plt.plot(tabby15.time, loo_lc, \"-\", c=\"k\")"
   ]
  },
  {
   "cell_type": "code",
   "execution_count": null,
   "metadata": {},
   "outputs": [],
   "source": [
    "n = tess_cpm.Source(fits_file)\n",
    "n.plot_cutout()"
   ]
  },
  {
   "cell_type": "code",
   "execution_count": null,
   "metadata": {},
   "outputs": [],
   "source": [
    "n.set_aperture(rowrange=[29, 32],colrange=[31, 32])\n",
    "n.plot_cutout(rowrange=[29, 36], colrange=[29, 36], show_aperture=True)"
   ]
  },
  {
   "cell_type": "code",
   "execution_count": null,
   "metadata": {},
   "outputs": [],
   "source": [
    "n.plot_pix_by_pix()"
   ]
  },
  {
   "cell_type": "code",
   "execution_count": null,
   "metadata": {},
   "outputs": [],
   "source": [
    "n.add_cpm_model()\n",
    "n.set_regs([0.5])\n",
    "n.holdout_fit_predict(k=10);"
   ]
  },
  {
   "cell_type": "code",
   "execution_count": null,
   "metadata": {},
   "outputs": [],
   "source": [
    "n.plot_pix_by_pix(data_type=\"cpm_subtracted_lc\", split=True)"
   ]
  },
  {
   "cell_type": "code",
   "execution_count": null,
   "metadata": {},
   "outputs": [],
   "source": [
    "detrended_lc = n.get_aperture_lc(data_type=\"cpm_subtracted_lc\")"
   ]
  },
  {
   "cell_type": "code",
   "execution_count": null,
   "metadata": {},
   "outputs": [],
   "source": [
    "plt.plot(n.time, detrended_lc, \"-\", c=\"k\")"
   ]
  },
  {
   "cell_type": "code",
   "execution_count": null,
   "metadata": {},
   "outputs": [],
   "source": [
    "lc = lk.TessLightCurve(time=n.time, flux=detrended_lc)\n",
    "lc.plot()"
   ]
  },
  {
   "cell_type": "code",
   "execution_count": null,
   "metadata": {},
   "outputs": [],
   "source": [
    "pg = lc.to_periodogram(oversample_factor=100)"
   ]
  },
  {
   "cell_type": "code",
   "execution_count": null,
   "metadata": {},
   "outputs": [],
   "source": [
    "fig, axs = plt.subplots(2, 1, figsize=(15, 8))\n",
    "pg.plot(ax=axs[0], c='k')\n",
    "pg.plot(ax=axs[1], c='k', view='period')\n",
    "fig.suptitle(\"Periodogram\", fontsize=20, y=0.95)\n",
    "period = pg.period_at_max_power\n",
    "print(f\"Max Power Period: {period}\")\n",
    "lc.fold(period.value*2).scatter()\n",
    "plt.title(f\"Folded Lightcurve with Period: {period:.4f}\", fontsize=20);"
   ]
  },
  {
   "cell_type": "code",
   "execution_count": null,
   "metadata": {},
   "outputs": [],
   "source": []
  }
 ],
 "metadata": {
  "kernelspec": {
   "display_name": "Python 3",
   "language": "python",
   "name": "python3"
  },
  "language_info": {
   "codemirror_mode": {
    "name": "ipython",
    "version": 3
   },
   "file_extension": ".py",
   "mimetype": "text/x-python",
   "name": "python",
   "nbconvert_exporter": "python",
   "pygments_lexer": "ipython3",
   "version": "3.7.2"
  }
 },
 "nbformat": 4,
 "nbformat_minor": 4
}
