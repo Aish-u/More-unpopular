{
 "cells": [
  {
   "cell_type": "code",
   "execution_count": null,
   "metadata": {},
   "outputs": [],
   "source": [
    "import tess_cpm\n",
    "import numpy as np\n",
    "import matplotlib.pyplot as plt\n",
    "import lightkurve as lk\n",
    "from astropy.io import fits\n",
    "from astropy.wcs import WCS"
   ]
  },
  {
   "cell_type": "code",
   "execution_count": null,
   "metadata": {},
   "outputs": [],
   "source": [
    "plt.rcParams['figure.figsize'] = (14, 8)"
   ]
  },
  {
   "cell_type": "code",
   "execution_count": null,
   "metadata": {},
   "outputs": [],
   "source": [
    "fits_file = \"eclipsing_binaries/tess-s0005-1-1_65.170600_-1.740100_100x100_astrocut.fits\"\n",
    "# fits_file = \"tess-s0002-4-2_83.272000_-69.508733_64x64_astrocut.fits\""
   ]
  },
  {
   "cell_type": "code",
   "execution_count": null,
   "metadata": {},
   "outputs": [],
   "source": [
    "eb = tess_cpm.Source(fits_file, remove_bad=True)"
   ]
  },
  {
   "cell_type": "code",
   "execution_count": null,
   "metadata": {},
   "outputs": [],
   "source": [
    "eb.set_aperture(rowrange=[49, 53], colrange=[49, 53])\n",
    "eb.plot_cutout(rowrange=[40, 60], colrange=[40, 60], show_aperture=True)"
   ]
  },
  {
   "cell_type": "code",
   "execution_count": null,
   "metadata": {},
   "outputs": [],
   "source": [
    "eb.plot_pix_by_pix(\"normalized_flux\")"
   ]
  },
  {
   "cell_type": "code",
   "execution_count": null,
   "metadata": {},
   "outputs": [],
   "source": [
    "eb.add_cpm_model()\n",
    "eb.set_regs([0.01])\n",
    "eb.holdout_fit_predict(k=10);"
   ]
  },
  {
   "cell_type": "code",
   "execution_count": null,
   "metadata": {},
   "outputs": [],
   "source": [
    "eb.plot_pix_by_pix(\"normalized_flux\", split=True)"
   ]
  },
  {
   "cell_type": "code",
   "execution_count": null,
   "metadata": {},
   "outputs": [],
   "source": [
    "lc = eb.get_aperture_lc(\"cpm_subtracted_flux\")\n",
    "plt.plot(eb.time, lc)\n",
    "\n",
    "# outliers = np.full(eb.time.shape, False)\n",
    "# while True:\n",
    "#     sigma = np.std(lc[~outliers])\n",
    "#     out = np.abs(lc) > 4.0*sigma\n",
    "#     print(np.sum(out))\n",
    "#     if np.sum(out) == np.sum(outliers):\n",
    "#         break\n",
    "#     outliers += out\n",
    "\n",
    "# print(outliers)\n",
    "sigma = np.std(lc)\n",
    "outliers = np.abs(lc) > 0.8*sigma\n",
    "plt.plot(eb.time[outliers], lc[outliers], \"x\", c=\"red\")"
   ]
  },
  {
   "cell_type": "code",
   "execution_count": null,
   "metadata": {},
   "outputs": [],
   "source": [
    "outliers = tess_cpm.utils.get_outliers(lc, 1)\n",
    "plt.plot(eb.time, lc)\n",
    "plt.plot(eb.time[outliers], lc[outliers], \"x\", c=\"red\")"
   ]
  },
  {
   "cell_type": "code",
   "execution_count": null,
   "metadata": {},
   "outputs": [],
   "source": [
    "eb.holdout_fit_predict(k=10, mask=~outliers);"
   ]
  },
  {
   "cell_type": "code",
   "execution_count": null,
   "metadata": {},
   "outputs": [],
   "source": [
    "eb.plot_pix_by_pix(\"cpm_subtracted_flux\")"
   ]
  },
  {
   "cell_type": "code",
   "execution_count": null,
   "metadata": {},
   "outputs": [],
   "source": [
    "a = eb.get_aperture_lc(\"rescaled_cpm_subtracted_flux\")\n",
    "plt.plot(eb.time, a)"
   ]
  },
  {
   "cell_type": "code",
   "execution_count": null,
   "metadata": {},
   "outputs": [],
   "source": [
    "l = lk.TessLightCurve(eb.time, a)\n",
    "l.plot()\n",
    "pg = l.to_periodogram(oversample_factor=1000)\n",
    "fig, axs = plt.subplots(2, 1, figsize=(15, 8))\n",
    "pg.plot(ax=axs[0], c='k')\n",
    "pg.plot(ax=axs[1], c='k', view='period')\n",
    "fig.suptitle(\"Periodogram\", fontsize=20, y=0.95)\n",
    "period = pg.period_at_max_power\n",
    "print(f\"Max Power Period: {period}\")\n",
    "l.fold(period.value*2).scatter()\n",
    "plt.title(f\"Folded Lightcurve with Period: {period:.4f}\", fontsize=20);"
   ]
  },
  {
   "cell_type": "code",
   "execution_count": null,
   "metadata": {},
   "outputs": [],
   "source": [
    "lc = lk.LightCurve(time=eb.time, flux=a)\n",
    "pg = lc.to_periodogram(oversample_factor=1000)\n",
    "fig, axs = plt.subplots(2, 1, figsize=(15, 8))\n",
    "pg.plot(ax=axs[0], c='k')\n",
    "pg.plot(ax=axs[1], c='k', view='period')\n",
    "fig.suptitle(\"Periodogram\", fontsize=20, y=0.95)\n",
    "period = pg.period_at_max_power\n",
    "print(f\"Max Power Period: {period}\")\n",
    "lc.fold(period.value*2).scatter()\n",
    "plt.title(f\"Folded Lightcurve with Period: {period:.4f}\", fontsize=20);"
   ]
  },
  {
   "cell_type": "code",
   "execution_count": null,
   "metadata": {},
   "outputs": [],
   "source": [
    "cpm_periodogram(fits_file)"
   ]
  },
  {
   "cell_type": "code",
   "execution_count": null,
   "metadata": {},
   "outputs": [],
   "source": [
    "cpm = tess_cpm.CPM(fits_file, remove_bad=True)"
   ]
  },
  {
   "cell_type": "code",
   "execution_count": null,
   "metadata": {},
   "outputs": [],
   "source": [
    "cpm.set_poly_model(1, 4, 2)\n",
    "cpm.set_target(50, 50)\n",
    "# cpm.set_target(16, 29)\n",
    "# cpm.set_target(34, 71)  # Bright region bottom-right\n",
    "# cpm.set_target(36, 11)\n",
    "cpm.set_exclusion(10)\n",
    "cpm.set_predictor_pixels(256, method='cosine_similarity')"
   ]
  },
  {
   "cell_type": "code",
   "execution_count": null,
   "metadata": {},
   "outputs": [],
   "source": []
  },
  {
   "cell_type": "code",
   "execution_count": null,
   "metadata": {},
   "outputs": [],
   "source": [
    "plt.figure(figsize=(12, 8))\n",
    "n = 10\n",
    "# locs, mask = c.get_contributing_pixels(n)\n",
    "# print(c.rescaled_predictor_pixels_fluxes.shape)\n",
    "# print(locs[2])\n",
    "# plt.plot(c.time, c.rescaled_im_fluxes[:, locs[0][0], locs[0][1]], '-')\n",
    "# plt.plot(c.time, c.rescaled_predictor_pixels_fluxes[:, 4])\n",
    "for i in range(n):\n",
    "    plt.figure(figsize=(12, 8))\n",
    "    t = cpm.rescaled_target_fluxes\n",
    "    p = cpm.rescaled_predictor_pixels_fluxes[:, i]\n",
    "    plt.plot(cpm.time, t, '.')\n",
    "    plt.plot(cpm.time, p, '-', alpha=0.4)\n",
    "    plt.title(np.dot(p, t)/(np.linalg.norm(p)*np.linalg.norm(t)), fontsize=25)\n",
    "    plt.show();"
   ]
  },
  {
   "cell_type": "code",
   "execution_count": null,
   "metadata": {},
   "outputs": [],
   "source": [
    "from IPython.display import HTML\n",
    "import matplotlib.animation as animation\n",
    "cpm.entire_image(0.5, rescale=True, polynomials=True)\n",
    "diff = cpm.im_diff\n",
    "upscaled_diff = cpm.pixel_medians*cpm.im_diff\n",
    "\n",
    "fig, axes = plt.subplots(1, 3, figsize=(18, 18))\n",
    "\n",
    "ims = []\n",
    "for i in range(0, diff.shape[0], 10):\n",
    "    im1 = axes[0].imshow(cpm.im_fluxes[i], origin=\"lower\", animated=True,\n",
    "                        vmin=np.percentile(cpm.im_fluxes[0], 10), vmax=np.percentile(cpm.im_fluxes[0], 90))\n",
    "    im2 = axes[1].imshow(diff[i], origin=\"lower\", animated=True,\n",
    "                   vmin=np.percentile(diff, 1), vmax=np.percentile(diff, 99));\n",
    "    im3 = axes[2].imshow(upscaled_diff[i], origin=\"lower\", animated=True,\n",
    "                   vmin=np.percentile(upscaled_diff, 1), vmax=np.percentile(upscaled_diff, 99));\n",
    "    ims.append([im1, im2, im3]);\n",
    "fig.colorbar(im1, ax=axes[0], fraction=0.046)\n",
    "fig.colorbar(im2, ax=axes[1], fraction=0.046)\n",
    "fig.colorbar(im3, ax=axes[2], fraction=0.046)\n",
    "    \n",
    "ani = animation.ArtistAnimation(fig, ims, interval=50, blit=True,\n",
    "                                repeat_delay=1000);\n",
    "\n",
    "HTML(ani.to_jshtml())\n"
   ]
  },
  {
   "cell_type": "code",
   "execution_count": null,
   "metadata": {},
   "outputs": [],
   "source": [
    "plt.rcParams['figure.figsize'] = (12, 8)\n",
    "cpm = tess_cpm.CPM(fits_file, remove_bad=True)\n",
    "cpm.set_poly_model(1, 4, 2)\n",
    "cpm.set_target(50, 50)\n",
    "# cpm.set_target(16, 29)\n",
    "# cpm.set_target(34, 71)  # Bright region bottom-right\n",
    "# cpm.set_target(36, 11)\n",
    "cpm.set_exclusion(10)\n",
    "cpm.set_predictor_pixels(256, method='cosine_similarity')\n",
    "cpm.xval(0.5)"
   ]
  },
  {
   "cell_type": "code",
   "execution_count": null,
   "metadata": {},
   "outputs": [],
   "source": [
    "# fits_file = \"tess-s0002-4-2_83.272000_-69.508733_64x64_astrocut.fits\""
   ]
  }
 ],
 "metadata": {
  "kernelspec": {
   "display_name": "Python 3",
   "language": "python",
   "name": "python3"
  },
  "language_info": {
   "codemirror_mode": {
    "name": "ipython",
    "version": 3
   },
   "file_extension": ".py",
   "mimetype": "text/x-python",
   "name": "python",
   "nbconvert_exporter": "python",
   "pygments_lexer": "ipython3",
   "version": "3.7.2"
  }
 },
 "nbformat": 4,
 "nbformat_minor": 4
}
