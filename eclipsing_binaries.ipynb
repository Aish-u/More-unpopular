{
 "cells": [
  {
   "cell_type": "code",
   "execution_count": null,
   "metadata": {},
   "outputs": [],
   "source": [
    "import tess_cpm\n",
    "import numpy as np\n",
    "import matplotlib.pyplot as plt\n",
    "import lightkurve as lk\n",
    "from astropy.io import fits\n",
    "from astropy.wcs import WCS"
   ]
  },
  {
   "cell_type": "code",
   "execution_count": null,
   "metadata": {},
   "outputs": [],
   "source": [
    "def cpm_periodogram(fits_file, t_row=50, t_col=50):\n",
    "    cpm = tess_cpm.CPM(fits_file, remove_bad=True)\n",
    "    cpm.set_target(t_row, t_col)\n",
    "    cpm.set_exclusion(10)\n",
    "    cpm.set_predictor_pixels(256, method='cosine_similarity')\n",
    "    cpm.lsq(0.1, rescale=True, polynomials=False)\n",
    "    tess_cpm.summary_plot(cpm, 10)\n",
    "    aperture_lc, lc_matrix = cpm.get_aperture_lc(box=2, show_pixel_lc=True, show_aperture_lc=True)\n",
    "    lc = lk.LightCurve(time=cpm.time, flux=aperture_lc)\n",
    "    pg = lc.to_periodogram(oversample_factor=500)\n",
    "    fig, axs = plt.subplots(2, 1, figsize=(15, 8))\n",
    "    pg.plot(ax=axs[0], c='k')\n",
    "    pg.plot(ax=axs[1], c='k', view='period')\n",
    "    fig.suptitle(\"Periodogram\", fontsize=20, y=0.95)\n",
    "    period = pg.period_at_max_power\n",
    "    print(f\"Max Power Period: {period}\")\n",
    "    lc.fold(period.value*4).scatter()\n",
    "    plt.title(f\"Folded Lightcurve with Period: {period:.4f}\", fontsize=20)\n",
    "    return cpm"
   ]
  },
  {
   "cell_type": "code",
   "execution_count": null,
   "metadata": {},
   "outputs": [],
   "source": [
    "fits_file = \"eclipsing_binaries/tess-s0005-1-1_65.170600_-1.740100_100x100_astrocut.fits\"\n",
    "# fits_file = \"tess-s0002-4-2_83.272000_-69.508733_64x64_astrocut.fits\""
   ]
  },
  {
   "cell_type": "code",
   "execution_count": null,
   "metadata": {
    "scrolled": false
   },
   "outputs": [],
   "source": [
    "cpm_periodogram(fits_file)"
   ]
  },
  {
   "cell_type": "code",
   "execution_count": null,
   "metadata": {},
   "outputs": [],
   "source": [
    "cpm = tess_cpm.CPM(fits_file, remove_bad=True)"
   ]
  },
  {
   "cell_type": "code",
   "execution_count": null,
   "metadata": {},
   "outputs": [],
   "source": [
    "cpm.set_poly_model(1, 4, 2)\n",
    "cpm.set_target(50, 50)\n",
    "# cpm.set_target(16, 29)\n",
    "# cpm.set_target(34, 71)  # Bright region bottom-right\n",
    "# cpm.set_target(36, 11)\n",
    "cpm.set_exclusion(10)\n",
    "cpm.set_predictor_pixels(256, method='cosine_similarity')"
   ]
  },
  {
   "cell_type": "code",
   "execution_count": null,
   "metadata": {},
   "outputs": [],
   "source": []
  },
  {
   "cell_type": "code",
   "execution_count": null,
   "metadata": {
    "scrolled": false
   },
   "outputs": [],
   "source": [
    "plt.figure(figsize=(12, 8))\n",
    "n = 10\n",
    "# locs, mask = c.get_contributing_pixels(n)\n",
    "# print(c.rescaled_predictor_pixels_fluxes.shape)\n",
    "# print(locs[2])\n",
    "# plt.plot(c.time, c.rescaled_im_fluxes[:, locs[0][0], locs[0][1]], '-')\n",
    "# plt.plot(c.time, c.rescaled_predictor_pixels_fluxes[:, 4])\n",
    "for i in range(n):\n",
    "    plt.figure(figsize=(12, 8))\n",
    "    t = cpm.rescaled_target_fluxes\n",
    "    p = cpm.rescaled_predictor_pixels_fluxes[:, i]\n",
    "    plt.plot(cpm.time, t, '.')\n",
    "    plt.plot(cpm.time, p, '-', alpha=0.4)\n",
    "    plt.title(np.dot(p, t)/(np.linalg.norm(p)*np.linalg.norm(t)), fontsize=25)\n",
    "    plt.show();"
   ]
  },
  {
   "cell_type": "code",
   "execution_count": null,
   "metadata": {},
   "outputs": [],
   "source": [
    "cpm.lsq(0.1, rescale=True, polynomials=True)"
   ]
  },
  {
   "cell_type": "code",
   "execution_count": null,
   "metadata": {},
   "outputs": [],
   "source": [
    "tess_cpm.summary_plot(cpm, 20, subtract_polynomials=True, save=True)"
   ]
  },
  {
   "cell_type": "code",
   "execution_count": null,
   "metadata": {
    "scrolled": false
   },
   "outputs": [],
   "source": [
    "cpm.sigma_clip_process(sigma=3)"
   ]
  },
  {
   "cell_type": "code",
   "execution_count": null,
   "metadata": {},
   "outputs": [],
   "source": [
    "tess_cpm.summary_plot(cpm, 20, subtract_polynomials=True)"
   ]
  },
  {
   "cell_type": "code",
   "execution_count": null,
   "metadata": {},
   "outputs": [],
   "source": [
    "plt.figure(figsize=(15, 8))\n",
    "\n",
    "bgd_subtracted = cpm.rescaled_target_fluxes - cpm.lsq_prediction\n",
    "plt.plot(cpm.time[cpm.valid], bgd_subtracted[cpm.valid], \".\", color=\"black\", label=\"Data\")\n",
    "# plt.plot(cpm.time, bgd_subtracted, \".-\", color=\"C2\", label=\"Raw\")\n",
    "\n",
    "for dump in cpm.dump_times:\n",
    "    plt.axvline(dump, color=\"red\", alpha=0.5)\n",
    "plt.legend();"
   ]
  },
  {
   "cell_type": "code",
   "execution_count": null,
   "metadata": {},
   "outputs": [],
   "source": [
    "plt.figure(figsize=(15, 8))\n",
    "\n",
    "plt.plot(cpm.time, cpm.rescaled_target_fluxes - cpm.lsq_prediction, \n",
    "         \"-o\", color=\"C0\", label=\"Corrected\", alpha=0.5)\n",
    "plt.plot(cpm.time, cpm.rescaled_target_fluxes, \".-\", color=\"black\", label=\"Data\")\n",
    "for dump in cpm.dump_times:\n",
    "    plt.axvline(dump, color=\"red\", alpha=0.5)\n",
    "plt.legend();"
   ]
  },
  {
   "cell_type": "code",
   "execution_count": null,
   "metadata": {},
   "outputs": [],
   "source": [
    "tess_cpm.summary_plot(cpm, 20, subtract_polynomials=True)"
   ]
  },
  {
   "cell_type": "code",
   "execution_count": null,
   "metadata": {},
   "outputs": [],
   "source": [
    "cpm.sigma_clip(5.0, 6)\n",
    "tess_cpm.summary_plot(cpm, 20, subtract_polynomials=True)"
   ]
  },
  {
   "cell_type": "code",
   "execution_count": null,
   "metadata": {},
   "outputs": [],
   "source": [
    "plt.figure(figsize=(15, 6))\n",
    "orig_model = np.dot(cpm.orig_m, cpm.lsq_params)\n",
    "# model = np.dot(cpm.m, cpm.lsq_params)\n",
    "plt.plot(cpm.orig_time, cpm.rescaled_target_fluxes - orig_model, \".-\")\n",
    "for dump in cpm.dump_times:\n",
    "    plt.axvline(dump, color=\"red\", alpha=0.5)\n",
    "# plt.plot(cpm.time, cpm.rescaled_im_fluxes[:, cpm.target_row, cpm.target_col] - model)\n",
    "# plt.plot(c.orig_time, model)"
   ]
  },
  {
   "cell_type": "code",
   "execution_count": null,
   "metadata": {},
   "outputs": [],
   "source": [
    "cpm.sigma_clip(3.0, 3)\n",
    "tess_cpm.summary_plot(cpm, 20, subtract_polynomials=False)"
   ]
  },
  {
   "cell_type": "code",
   "execution_count": null,
   "metadata": {},
   "outputs": [],
   "source": [
    "plt.figure(figsize=(15, 6))\n",
    "orig_model = np.dot(cpm.orig_m, cpm.lsq_params)\n",
    "model = np.dot(cpm.m, cpm.lsq_params)\n",
    "plt.plot(cpm.orig_time, cpm.orig_rescaled_im_fluxes[:, cpm.target_row, cpm.target_col] - orig_model, \".-\")\n",
    "for dump in cpm.dump_times:\n",
    "    plt.axvline(dump, color=\"red\", alpha=0.5)\n",
    "# plt.plot(cpm.time, cpm.rescaled_im_fluxes[:, cpm.target_row, cpm.target_col] - model)\n",
    "# plt.plot(c.orig_time, model)"
   ]
  },
  {
   "cell_type": "code",
   "execution_count": null,
   "metadata": {},
   "outputs": [],
   "source": [
    "plt.plot(cpm.sigma_clipped_time, cpm.sigma_clipped_fluxes, \".-\")"
   ]
  },
  {
   "cell_type": "code",
   "execution_count": null,
   "metadata": {},
   "outputs": [],
   "source": [
    "plt.figure(figsize=(15, 10))\n",
    "plt.plot(cpm.time, cpm.target_fluxes, \".-\", color=\"k\")\n",
    "for dump in cpm.dump_times:\n",
    "    plt.axvline(dump, color=\"red\", alpha=0.5)"
   ]
  },
  {
   "cell_type": "code",
   "execution_count": null,
   "metadata": {},
   "outputs": [],
   "source": []
  },
  {
   "cell_type": "code",
   "execution_count": null,
   "metadata": {},
   "outputs": [],
   "source": [
    "from IPython.display import HTML\n",
    "import matplotlib.animation as animation\n",
    "cpm.entire_image(0.5, rescale=True, polynomials=True)\n",
    "diff = cpm.im_diff\n",
    "upscaled_diff = cpm.pixel_medians*cpm.im_diff\n",
    "\n",
    "fig, axes = plt.subplots(1, 3, figsize=(18, 18))\n",
    "\n",
    "ims = []\n",
    "for i in range(0, diff.shape[0], 10):\n",
    "    im1 = axes[0].imshow(cpm.im_fluxes[i], origin=\"lower\", animated=True,\n",
    "                        vmin=np.percentile(cpm.im_fluxes[0], 10), vmax=np.percentile(cpm.im_fluxes[0], 90))\n",
    "    im2 = axes[1].imshow(diff[i], origin=\"lower\", animated=True,\n",
    "                   vmin=np.percentile(diff, 1), vmax=np.percentile(diff, 99));\n",
    "    im3 = axes[2].imshow(upscaled_diff[i], origin=\"lower\", animated=True,\n",
    "                   vmin=np.percentile(upscaled_diff, 1), vmax=np.percentile(upscaled_diff, 99));\n",
    "    ims.append([im1, im2, im3]);\n",
    "fig.colorbar(im1, ax=axes[0], fraction=0.046)\n",
    "fig.colorbar(im2, ax=axes[1], fraction=0.046)\n",
    "fig.colorbar(im3, ax=axes[2], fraction=0.046)\n",
    "    \n",
    "ani = animation.ArtistAnimation(fig, ims, interval=50, blit=True,\n",
    "                                repeat_delay=1000);\n",
    "\n",
    "HTML(ani.to_jshtml())\n"
   ]
  },
  {
   "cell_type": "code",
   "execution_count": null,
   "metadata": {},
   "outputs": [],
   "source": [
    "plt.rcParams['figure.figsize'] = (12, 8)\n",
    "cpm = tess_cpm.CPM(fits_file, remove_bad=True)\n",
    "cpm.set_poly_model(1, 4, 2)\n",
    "cpm.set_target(50, 50)\n",
    "# cpm.set_target(16, 29)\n",
    "# cpm.set_target(34, 71)  # Bright region bottom-right\n",
    "# cpm.set_target(36, 11)\n",
    "cpm.set_exclusion(10)\n",
    "cpm.set_predictor_pixels(256, method='cosine_similarity')\n",
    "cpm.xval(0.5)"
   ]
  },
  {
   "cell_type": "code",
   "execution_count": null,
   "metadata": {},
   "outputs": [],
   "source": []
  }
 ],
 "metadata": {
  "kernelspec": {
   "display_name": "Python 3",
   "language": "python",
   "name": "python3"
  },
  "language_info": {
   "codemirror_mode": {
    "name": "ipython",
    "version": 3
   },
   "file_extension": ".py",
   "mimetype": "text/x-python",
   "name": "python",
   "nbconvert_exporter": "python",
   "pygments_lexer": "ipython3",
   "version": "3.7.2"
  }
 },
 "nbformat": 4,
 "nbformat_minor": 2
}
