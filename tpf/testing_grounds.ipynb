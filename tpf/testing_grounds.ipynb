{
 "cells": [
  {
   "cell_type": "code",
   "execution_count": null,
   "metadata": {},
   "outputs": [],
   "source": [
    "%matplotlib inline\n",
    "import numpy as np\n",
    "import matplotlib.pyplot as plt\n",
    "import matplotlib.animation as animation\n",
    "from sklearn.decomposition import PCA\n",
    "from astropy.io import fits"
   ]
  },
  {
   "cell_type": "code",
   "execution_count": null,
   "metadata": {},
   "outputs": [],
   "source": [
    "fits_file = \"tess-s0001-3-3_36.820737_-82.019560_64x64_astrocut.fits\""
   ]
  },
  {
   "cell_type": "code",
   "execution_count": null,
   "metadata": {},
   "outputs": [],
   "source": [
    "with fits.open(fits_file, mode=\"readonly\") as hdulist:\n",
    "    time = hdulist[1].data[\"TIME\"]\n",
    "    flux = hdulist[1].data[\"FLUX\"]"
   ]
  },
  {
   "cell_type": "code",
   "execution_count": null,
   "metadata": {},
   "outputs": [],
   "source": [
    "first_image = flux[0]\n",
    "pixel_side = first_image.shape[0]\n",
    "plt.plot(first_image.reshape(pixel_side*pixel_side))"
   ]
  },
  {
   "cell_type": "code",
   "execution_count": null,
   "metadata": {},
   "outputs": [],
   "source": [
    "fig, axs = plt.subplots(1, 2, figsize=(15,10), subplot_kw={\"projection\":wcs_info})\n",
    "\n",
    "axs[0].imshow(first_image, origin=\"lower\", \n",
    "           vmin=np.percentile(first_image, 0), vmax=np.percentile(first_image, 100))\n",
    "# plt.title(\"TIC299779198 (Center) \")\n",
    "axs[1].imshow(first_image, origin=\"lower\", \n",
    "           vmin=np.percentile(first_image, 0), vmax=np.percentile(first_image, 90))\n",
    "axs[0].set_title(\"Colormap set with 0,100 % values of data\")\n",
    "axs[1].set_title(\"Colormap set with 0,90 % values of data\")\n",
    "fig.suptitle(\"100 X 100 Pixel Cutout (Center)\", x=0.5, y=0.83, fontsize=20)\n",
    "# plt.savefig(\"64x64_cutout_TIC299779198.png\", dpi=200)"
   ]
  },
  {
   "cell_type": "code",
   "execution_count": null,
   "metadata": {
    "scrolled": false
   },
   "outputs": [],
   "source": [
    "plt.figure(figsize=(12, 12))\n",
    "lc_stack = flux.T.reshape(pixel_side*pixel_side, flux.shape[0])\n",
    "plt.imshow(lc_stack, aspect=\"auto\",\n",
    "           vmin=np.percentile(lc_stack, 0), vmax=np.percentile(lc_stack, 90),\n",
    "           origin=\"lower\", extent=[time[0], time[-1], 0, pixel_side**2])\n",
    "plt.xlabel(\"Time(BJD - 2457000)[Days]\", fontsize=15);\n",
    "plt.ylabel(\"Pixel Index\", fontsize=15);"
   ]
  },
  {
   "cell_type": "code",
   "execution_count": null,
   "metadata": {
    "scrolled": false
   },
   "outputs": [],
   "source": [
    "k = 7\n",
    "pca = PCA(n_components=k)\n",
    "pca.fit(lc_stack)\n",
    "lc_stack_pca = pca.transform(lc_stack)\n",
    "projected_lc_stack = pca.inverse_transform(lc_stack_pca)"
   ]
  },
  {
   "cell_type": "code",
   "execution_count": null,
   "metadata": {},
   "outputs": [],
   "source": [
    "lc_stack.shape\n",
    "lc_stack.mean(0).shape"
   ]
  },
  {
   "cell_type": "code",
   "execution_count": null,
   "metadata": {},
   "outputs": [],
   "source": [
    "exp_var_ratio = pca.explained_variance_ratio_\n",
    "\n",
    "n_row = 4\n",
    "n_col = 2\n",
    "fig, axs = plt.subplots(n_row, n_col, figsize=(15, 20))\n",
    "\n",
    "axs[0, 0].plot(time, pca.mean_, \".\", markersize=2)\n",
    "# axs[0, 0].set_xlabel(\"Time(BJD - 2457000)[Days]\", fontsize=10)\n",
    "axs[0, 0].set_ylabel(\"Flux [e-/s]\", fontsize=10)\n",
    "axs[0, 0].set_title(\"Mean value across pixels\")\n",
    "\n",
    "for i in range(1, k+1):\n",
    "    axs[i // n_col, i % n_col].plot(time, pca.components_[i-1], \".\", markersize=2)\n",
    "#     axs[i // n_col, i % n_col].set_xlabel(\"Time(BJD - 2457000)[Days]\", fontsize=10)\n",
    "    axs[i // n_col, i % n_col].set_ylabel(\"PCA\", fontsize=10)\n",
    "    axs[i // n_col, i % n_col].set_title(\"k={} Explained Variance Ratio: {:.2e}\".format(i, exp_var_ratio[i-1]), \n",
    "                                         fontsize=10)\n",
    "    \n",
    "fig.suptitle(\"Mean & First k={} Principal Components (Eigenlightcurves)\".format(k), y=0.91, fontsize=15);\n",
    "# plt.savefig(\"eigenlightcurves_TIC299779198.png\", dpi=200)"
   ]
  },
  {
   "cell_type": "code",
   "execution_count": null,
   "metadata": {},
   "outputs": [],
   "source": [
    "plt.figure(figsize=(12, 12))\n",
    "plt.imshow(lc_stack, aspect=\"auto\",\n",
    "           vmin=np.percentile(lc_stack, 0), vmax=np.percentile(lc_stack, 90),\n",
    "           origin=\"lower\", extent=[time[0], time[-1], 0, pixel_side**2])\n",
    "plt.xlabel(\"Time(BJD - 2457000)[Days]\", fontsize=15);\n",
    "plt.ylabel(\"Pixel Index\", fontsize=15);\n",
    "plt.title(\"Data\")"
   ]
  },
  {
   "cell_type": "code",
   "execution_count": null,
   "metadata": {},
   "outputs": [],
   "source": [
    "plt.figure(figsize=(12, 12))\n",
    "plt.imshow(projected_lc_stack, aspect=\"auto\",\n",
    "           vmin=np.percentile(lc_stack, 0), vmax=np.percentile(lc_stack, 90),\n",
    "           origin=\"lower\", extent=[time[0], time[-1], 0, pixel_side**2])\n",
    "plt.xlabel(\"Time(BJD - 2457000)[Days]\", fontsize=15);\n",
    "plt.ylabel(\"Pixel Index\", fontsize=15);\n",
    "plt.title(\"Model\");"
   ]
  },
  {
   "cell_type": "code",
   "execution_count": null,
   "metadata": {},
   "outputs": [],
   "source": [
    "fig, axs = plt.subplots(1, 3, figsize=(21, 6))\n",
    "\n",
    "diff = lc_stack-projected_lc_stack\n",
    "cmap_ref = lc_stack[:, 0]\n",
    "\n",
    "axs[0].imshow(lc_stack, aspect=\"auto\",\n",
    "           vmin=np.percentile(cmap_ref, 0), vmax=np.percentile(cmap_ref, 90),\n",
    "           origin=\"lower\", extent=[time[0], time[-1], 0, pixel_side**2])\n",
    "axs[1].imshow(projected_lc_stack, aspect=\"auto\",\n",
    "           vmin=np.percentile(cmap_ref, 0), vmax=np.percentile(cmap_ref, 90),\n",
    "           origin=\"lower\", extent=[time[0], time[-1], 0, pixel_side**2])\n",
    "c = axs[2].imshow(diff, aspect=\"auto\",\n",
    "           vmin=np.percentile(cmap_ref, 0), vmax=np.percentile(cmap_ref, 90),\n",
    "           origin=\"lower\", extent=[time[0], time[-1], 0, pixel_side**2])\n",
    "cbaxes = fig.add_axes([0.92, 0.12, 0.03, 0.76])\n",
    "fig.colorbar(c, cax = cbaxes)\n",
    "\n",
    "axs[0].set_xlabel(\"Time(BJD - 2457000)[Days]\", fontsize=12)\n",
    "axs[0].set_ylabel(\"Pixel Index\", fontsize=12);\n",
    "axs[0].set_title(\"Data\")\n",
    "axs[1].set_title(\"Model reconstructed using k={} eigenlightcurves\".format(k))\n",
    "axs[2].set_title(\"Difference (Data - Model)\")\n",
    "fig.suptitle(\"Pixel-level Lightcurves (Cmap set with 0, 90 % values of Data)\", fontsize=15)"
   ]
  },
  {
   "cell_type": "code",
   "execution_count": null,
   "metadata": {},
   "outputs": [],
   "source": [
    "fig, axs = plt.subplots(1, 3, figsize=(21, 6))\n",
    "\n",
    "cmap_ref = diff[:, 0]\n",
    "cmap_low = 5\n",
    "cmap_high = 95\n",
    "\n",
    "axs[0].imshow(lc_stack, aspect=\"auto\",\n",
    "           vmin=np.percentile(cmap_ref, cmap_low), vmax=np.percentile(cmap_ref, cmap_high),\n",
    "           origin=\"lower\", extent=[time[0], time[-1], 0, pixel_side**2])\n",
    "axs[1].imshow(projected_lc_stack, aspect=\"auto\",\n",
    "           vmin=np.percentile(cmap_ref, cmap_low), vmax=np.percentile(cmap_ref, cmap_high),\n",
    "           origin=\"lower\", extent=[time[0], time[-1], 0, pixel_side**2])\n",
    "c = axs[2].imshow(diff, aspect=\"auto\",\n",
    "           vmin=np.percentile(cmap_ref, cmap_low), vmax=np.percentile(cmap_ref, cmap_high),\n",
    "           origin=\"lower\", extent=[time[0], time[-1], 0, pixel_side**2])\n",
    "cbaxes = fig.add_axes([0.92, 0.12, 0.03, 0.76])\n",
    "fig.colorbar(c, cax = cbaxes)\n",
    "\n",
    "\n",
    "axs[0].set_ylabel(\"Pixel Index\", fontsize=12);\n",
    "axs[0].set_title(\"Data\")\n",
    "axs[1].set_title(\"Model reconstructed using k={} eigenlightcurves\".format(k))\n",
    "axs[2].set_title(\"Difference (Data - Model)\")\n",
    "fig.suptitle(\"Pixel-level Lightcurves (Cmap set with {}, {} % values of Difference)\".format(cmap_low, cmap_high),\n",
    "             fontsize=15)"
   ]
  },
  {
   "cell_type": "code",
   "execution_count": null,
   "metadata": {},
   "outputs": [],
   "source": []
  },
  {
   "cell_type": "code",
   "execution_count": null,
   "metadata": {
    "scrolled": false
   },
   "outputs": [],
   "source": []
  },
  {
   "cell_type": "code",
   "execution_count": null,
   "metadata": {},
   "outputs": [],
   "source": [
    "fig, axs = plt.subplots(1, 3, figsize=(21, 6))\n",
    "\n",
    "cmap_ref = diff\n",
    "cmap_low = 10\n",
    "cmap_high = 90\n",
    "\n",
    "axs[0].imshow(lc_stack, aspect=\"auto\",\n",
    "           vmin=np.percentile(cmap_ref, cmap_low), vmax=np.percentile(cmap_ref, cmap_high),\n",
    "           origin=\"lower\", extent=[time[0], time[-1], 0, pixel_side**2])\n",
    "axs[1].imshow(projected_lc_stack, aspect=\"auto\",\n",
    "           vmin=np.percentile(cmap_ref, cmap_low), vmax=np.percentile(cmap_ref, cmap_high),\n",
    "           origin=\"lower\", extent=[time[0], time[-1], 0, pixel_side**2])\n",
    "c = axs[2].imshow(diff, aspect=\"auto\",\n",
    "           vmin=np.percentile(cmap_ref, cmap_low), vmax=np.percentile(cmap_ref, cmap_high),\n",
    "           origin=\"lower\", extent=[time[0], time[-1], 0, pixel_side**2])\n",
    "cbaxes = fig.add_axes([0.92, 0.12, 0.03, 0.76])\n",
    "fig.colorbar(c, cax = cbaxes)\n",
    "\n",
    "\n",
    "axs[0].set_ylabel(\"Pixel Index\", fontsize=12);\n",
    "axs[0].set_title(\"Data\")\n",
    "axs[1].set_title(\"Model reconstructed using k={} eigenlightcurves\".format(k))\n",
    "axs[2].set_title(\"Difference (Data - Model)\")\n",
    "fig.suptitle(\"Pixel-level Lightcurves (Cmap set with {}, {} % values of Difference)\", fontsize=15)"
   ]
  },
  {
   "cell_type": "code",
   "execution_count": null,
   "metadata": {},
   "outputs": [],
   "source": []
  },
  {
   "cell_type": "code",
   "execution_count": null,
   "metadata": {},
   "outputs": [],
   "source": []
  },
  {
   "cell_type": "code",
   "execution_count": null,
   "metadata": {},
   "outputs": [],
   "source": [
    "diff_images = diff.reshape(64, 64, diff.shape[-1]).T\n",
    "\n",
    "fig = plt.figure(figsize=(12, 12))\n",
    "\n",
    "cmap_low = 5\n",
    "cmap_high = 90\n",
    "\n",
    "plt.imshow(diff_images[0],\n",
    "           vmin=np.percentile(diff_images[0], cmap_low), vmax=np.percentile(diff_images[0], cmap_high),\n",
    "           origin=\"lower\")"
   ]
  },
  {
   "cell_type": "code",
   "execution_count": null,
   "metadata": {
    "scrolled": false
   },
   "outputs": [],
   "source": [
    "from IPython.display import HTML\n",
    "\n",
    "fig, axs = plt.subplots(1, 2, figsize=(15, 12));\n",
    "\n",
    "ims = []\n",
    "for i in range(0, diff_images.shape[0], 100):\n",
    "    im1 = axs[0].imshow(diff_images[i], origin=\"lower\", animated=True,\n",
    "                   vmin=np.percentile(diff_images[0], cmap_low), vmax=np.percentile(diff_images[0], cmap_high))\n",
    "    im2 = axs[1].imshow(diff, origin=\"lower\",\n",
    "                   vmin=np.percentile(diff[0], cmap_low), vmax=np.percentile(diff[0], cmap_high))\n",
    "    ims.append([im1, im2]);\n",
    "# fig.colorbar(im)\n",
    "    \n",
    "ani = animation.ArtistAnimation(fig, ims, interval=50, blit=True,\n",
    "                                repeat_delay=1000);\n",
    "\n",
    "HTML(ani.to_jshtml())"
   ]
  },
  {
   "cell_type": "code",
   "execution_count": null,
   "metadata": {},
   "outputs": [],
   "source": [
    "fig = plt.figure(figsize=(12, 12));\n",
    "\n",
    "image_stack = lc_stack.reshape(64, 64, lc_stack.shape[-1]).T\n",
    "\n",
    "ims = []\n",
    "for i in range(0, image_stack.shape[0], 4):\n",
    "    im = plt.imshow(image_stack[i], origin=\"lower\", animated=True,\n",
    "                   vmin=np.percentile(image_stack[0], 0), vmax=np.percentile(image_stack[0], 20));\n",
    "    ims.append([im]);\n",
    "fig.colorbar(im)\n",
    "    \n",
    "ani = animation.ArtistAnimation(fig, ims, interval=50, blit=True,\n",
    "                                repeat_delay=1000);\n",
    "\n",
    "HTML(ani.to_jshtml())"
   ]
  },
  {
   "cell_type": "code",
   "execution_count": null,
   "metadata": {},
   "outputs": [],
   "source": [
    "fig = plt.figure(figsize=(12, 12));\n",
    "\n",
    "proj_image_stack = projected_lc_stack.reshape(64, 64, lc_stack.shape[-1]).T\n",
    "\n",
    "ims = []\n",
    "for i in range(0, image_stack.shape[0], 10):\n",
    "    im = plt.imshow(proj_image_stack[i], origin=\"lower\", animated=True,\n",
    "                   vmin=np.percentile(proj_image_stack[0], 0), \n",
    "                   vmax=np.percentile(proj_image_stack[0], 20));\n",
    "    ims.append([im]);\n",
    "fig.colorbar(im)\n",
    "    \n",
    "ani = animation.ArtistAnimation(fig, ims, interval=50, blit=True,\n",
    "                                repeat_delay=1000);\n",
    "\n",
    "HTML(ani.to_jshtml())"
   ]
  },
  {
   "cell_type": "code",
   "execution_count": null,
   "metadata": {},
   "outputs": [],
   "source": [
    "flux[0]"
   ]
  },
  {
   "cell_type": "code",
   "execution_count": null,
   "metadata": {},
   "outputs": [],
   "source": [
    "flux.reshape(64*64, flux.shape[0])[:,0]"
   ]
  },
  {
   "cell_type": "code",
   "execution_count": null,
   "metadata": {},
   "outputs": [],
   "source": [
    "2000 // 64"
   ]
  },
  {
   "cell_type": "code",
   "execution_count": null,
   "metadata": {},
   "outputs": [],
   "source": [
    "2000 % 64"
   ]
  },
  {
   "cell_type": "code",
   "execution_count": null,
   "metadata": {},
   "outputs": [],
   "source": [
    "x = np.array([[[1, 2, 3], [4, 5, 6], [7, 8, 9]], [[1, 2, 3], [4, 5, 6], [7, 8, 9]]])\n",
    "x.shape\n",
    "plt.imshow(x[0], origin=\"lower\")"
   ]
  },
  {
   "cell_type": "code",
   "execution_count": null,
   "metadata": {},
   "outputs": [],
   "source": [
    "y = x.T.reshape(3*3, 2)\n",
    "y"
   ]
  },
  {
   "cell_type": "code",
   "execution_count": null,
   "metadata": {},
   "outputs": [],
   "source": [
    "im = plt.imshow(y, origin=\"lower\")\n",
    "plt.colorbar(im)"
   ]
  },
  {
   "cell_type": "code",
   "execution_count": null,
   "metadata": {},
   "outputs": [],
   "source": []
  }
 ],
 "metadata": {
  "kernelspec": {
   "display_name": "Python 3",
   "language": "python",
   "name": "python3"
  },
  "language_info": {
   "codemirror_mode": {
    "name": "ipython",
    "version": 3
   },
   "file_extension": ".py",
   "mimetype": "text/x-python",
   "name": "python",
   "nbconvert_exporter": "python",
   "pygments_lexer": "ipython3",
   "version": "3.7.2"
  }
 },
 "nbformat": 4,
 "nbformat_minor": 2
}
