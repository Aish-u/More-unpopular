{
 "cells": [
  {
   "cell_type": "code",
   "execution_count": null,
   "metadata": {},
   "outputs": [],
   "source": [
    "import tess_cpm\n",
    "import numpy as np\n",
    "import matplotlib.pyplot as plt\n",
    "from astropy.io import fits\n",
    "from astropy.wcs import WCS"
   ]
  },
  {
   "cell_type": "code",
   "execution_count": null,
   "metadata": {},
   "outputs": [],
   "source": [
    "f = \"exoplanets/tess-s0010-1-1_173.957400_-29.156000_100x100_astrocut.fits\""
   ]
  },
  {
   "cell_type": "code",
   "execution_count": null,
   "metadata": {},
   "outputs": [],
   "source": [
    "exo = tess_cpm.CPM(tess_cpm.TargetData(f))"
   ]
  },
  {
   "cell_type": "code",
   "execution_count": null,
   "metadata": {},
   "outputs": [],
   "source": [
    "exo.set_target_exclusion_predictors(50, 50)"
   ]
  },
  {
   "cell_type": "code",
   "execution_count": null,
   "metadata": {},
   "outputs": [],
   "source": [
    "exo.get_hyperparameters(transit_duration=100)"
   ]
  },
  {
   "cell_type": "code",
   "execution_count": null,
   "metadata": {},
   "outputs": [],
   "source": [
    "exo = tess_cpm.CPM(f, remove_bad=True)"
   ]
  },
  {
   "cell_type": "code",
   "execution_count": null,
   "metadata": {},
   "outputs": [],
   "source": [
    "exo.set_poly_model(1, 4, 0.5)\n",
    "exo.set_target(50, 50)\n",
    "exo.set_exclusion(10)\n",
    "exo.set_predictor_pixels(256)"
   ]
  },
  {
   "cell_type": "code",
   "execution_count": null,
   "metadata": {},
   "outputs": [],
   "source": [
    "exo.lsq(1.0, rescale=True, polynomials=False)"
   ]
  },
  {
   "cell_type": "code",
   "execution_count": null,
   "metadata": {},
   "outputs": [],
   "source": [
    "tess_cpm.summary_plot(exo, 20, save=True)"
   ]
  },
  {
   "cell_type": "code",
   "execution_count": null,
   "metadata": {},
   "outputs": [],
   "source": [
    "exo.sigma_clip_process(2.3)"
   ]
  },
  {
   "cell_type": "code",
   "execution_count": null,
   "metadata": {},
   "outputs": [],
   "source": [
    "tess_cpm.summary_plot(exo, 20, subtract_polynomials=False)"
   ]
  },
  {
   "cell_type": "code",
   "execution_count": null,
   "metadata": {},
   "outputs": [],
   "source": [
    "plt.figure(figsize=(15, 6))\n",
    "# plt.plot(exo.time, exo.rescaled_target_fluxes, \".-\", color=\"black\")\n",
    "diff = exo.rescaled_target_fluxes - exo.lsq_prediction\n",
    "plt.plot(exo.time[exo.valid], diff[exo.valid], \".-\", color=\"C0\");\n",
    "# plt.plot(exo.time, diff, \".-\", color=\"C3\")\n",
    "plt.plot(exo.time[~exo.valid], diff[~exo.valid], \"x\", color=\"gray\")"
   ]
  },
  {
   "cell_type": "code",
   "execution_count": null,
   "metadata": {},
   "outputs": [],
   "source": [
    "plt.figure(figsize=(15, 6))\n",
    "# plt.plot(exo.time, exo.rescaled_target_fluxes, \".-\", color=\"black\")\n",
    "diff = exo.rescaled_target_fluxes - exo.lsq_prediction\n",
    "# plt.plot(exo.time[exo.valid], diff[exo.valid], \".-\", color=\"C0\");\n",
    "plt.plot(exo.time, diff, \".-\", color=\"C0\")\n",
    "# plt.plot(exo.time[~exo.valid], diff[~exo.valid], \"x\", color=\"gray\")"
   ]
  },
  {
   "cell_type": "code",
   "execution_count": null,
   "metadata": {},
   "outputs": [],
   "source": [
    "from IPython.display import HTML\n",
    "import matplotlib.animation as animation\n",
    "exo.entire_image(0.5, rescale=True, polynomials=True)\n",
    "diff = exo.im_diff\n",
    "upscaled_diff = exo.pixel_medians*exo.im_diff\n",
    "\n",
    "fig, axes = plt.subplots(1, 3, figsize=(18, 18))\n",
    "\n",
    "ims = []\n",
    "for i in range(0, diff.shape[0], 10):\n",
    "    im1 = axes[0].imshow(exo.im_fluxes[i], origin=\"lower\", animated=True,\n",
    "                        vmin=np.percentile(exo.im_fluxes[0], 10), vmax=np.percentile(exo.im_fluxes[0], 90))\n",
    "    im2 = axes[1].imshow(diff[i], origin=\"lower\", animated=True,\n",
    "                   vmin=np.percentile(diff, 1), vmax=np.percentile(diff, 99));\n",
    "    im3 = axes[2].imshow(upscaled_diff[i], origin=\"lower\", animated=True,\n",
    "                   vmin=np.percentile(upscaled_diff, 1), vmax=np.percentile(upscaled_diff, 99));\n",
    "    ims.append([im1, im2, im3]);\n",
    "fig.colorbar(im1, ax=axes[0], fraction=0.046)\n",
    "fig.colorbar(im2, ax=axes[1], fraction=0.046)\n",
    "fig.colorbar(im3, ax=axes[2], fraction=0.046)\n",
    "    \n",
    "ani = animation.ArtistAnimation(fig, ims, interval=50, blit=True,\n",
    "                                repeat_delay=1000);\n",
    "\n",
    "HTML(ani.to_jshtml())\n"
   ]
  },
  {
   "cell_type": "code",
   "execution_count": null,
   "metadata": {},
   "outputs": [],
   "source": []
  }
 ],
 "metadata": {
  "kernelspec": {
   "display_name": "Python 3",
   "language": "python",
   "name": "python3"
  },
  "language_info": {
   "codemirror_mode": {
    "name": "ipython",
    "version": 3
   },
   "file_extension": ".py",
   "mimetype": "text/x-python",
   "name": "python",
   "nbconvert_exporter": "python",
   "pygments_lexer": "ipython3",
   "version": "3.7.2"
  }
 },
 "nbformat": 4,
 "nbformat_minor": 4
}
