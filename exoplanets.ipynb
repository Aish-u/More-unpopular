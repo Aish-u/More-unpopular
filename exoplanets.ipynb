{
 "cells": [
  {
   "cell_type": "code",
   "execution_count": null,
   "metadata": {},
   "outputs": [],
   "source": [
    "import tess_cpm\n",
    "import numpy as np\n",
    "import matplotlib.pyplot as plt\n",
    "from astropy.io import fits\n",
    "from astropy.wcs import WCS\n",
    "import lightkurve as lc"
   ]
  },
  {
   "cell_type": "code",
   "execution_count": null,
   "metadata": {},
   "outputs": [],
   "source": [
    "plt.rcParams[\"figure.figsize\"] = (12, 8)"
   ]
  },
  {
   "cell_type": "code",
   "execution_count": null,
   "metadata": {},
   "outputs": [],
   "source": [
    "f = \"exoplanets/tess-s0010-1-1_173.957400_-29.156000_100x100_astrocut.fits\""
   ]
  },
  {
   "cell_type": "code",
   "execution_count": null,
   "metadata": {},
   "outputs": [],
   "source": [
    "exo = tess_cpm.Source(f)"
   ]
  },
  {
   "cell_type": "code",
   "execution_count": null,
   "metadata": {},
   "outputs": [],
   "source": [
    "exo.plot_cutout()"
   ]
  },
  {
   "cell_type": "code",
   "execution_count": null,
   "metadata": {},
   "outputs": [],
   "source": [
    "exo.set_aperture(rowrange=[49, 50], colrange=[50, 51])\n",
    "exo.plot_cutout(rowrange=[45, 55], colrange=[45, 55], show_aperture=True)"
   ]
  },
  {
   "cell_type": "code",
   "execution_count": null,
   "metadata": {},
   "outputs": [],
   "source": [
    "exo.plot_pix_by_pix()"
   ]
  },
  {
   "cell_type": "code",
   "execution_count": null,
   "metadata": {},
   "outputs": [],
   "source": [
    "exo.add_cpm_model()\n",
    "exo.set_regs([0.162])\n",
    "exo.holdout_fit_predict(k=10);"
   ]
  },
  {
   "cell_type": "code",
   "execution_count": null,
   "metadata": {},
   "outputs": [],
   "source": [
    "# exo.plot_pix_by_pix(split=True, data_type=\"raw\")\n",
    "# exo.plot_pix_by_pix(split=True, data_type=\"prediction\")\n",
    "# exo.plot_pix_by_pix(split=True, data_type=\"cpm_prediction\")\n",
    "# exo.plot_pix_by_pix(split=True, data_type=\"poly_model_prediction\")\n",
    "exo.plot_pix_by_pix(split=False, data_type=\"cpm_subtracted_lc\")"
   ]
  },
  {
   "cell_type": "code",
   "execution_count": null,
   "metadata": {},
   "outputs": [],
   "source": [
    "apt_cpm = exo.get_aperture_lc(data_type=\"cpm_prediction\")\n",
    "apt_lc = exo.get_aperture_lc(data_type=\"cpm_subtracted_lc\")\n",
    "# exo.get_aperture_lc(split=False, data_type=\"cpm_subtracted_lc\")"
   ]
  },
  {
   "cell_type": "code",
   "execution_count": null,
   "metadata": {},
   "outputs": [],
   "source": [
    "# plt.plot(exo.time, apt_cpm, \".\")\n",
    "plt.plot(exo.time, apt_lc, \".\")\n",
    "# outliers = np.abs(apt_lc) > 1.5*np.std(apt_lc)\n",
    "# print(np.sum(outliers))\n",
    "# plt.plot(exo.time[outliers], apt_lc[outliers], \"x\", c=\"k\")\n",
    "# plt.plot(exo.time[~outliers], apt_lc[~outliers], \"x\", c=\"k\")\n",
    "\n",
    "# apt_lc[pre_clip] = np.nan\n",
    "# clip = np.abs(apt_lc) > 1*np.std(apt_lc[pre_clip])\n",
    "# plt.plot(exo.time[clip], apt_lc[clip], \"x\", c=\"r\")\n",
    "# np.any(clip)"
   ]
  },
  {
   "cell_type": "code",
   "execution_count": null,
   "metadata": {},
   "outputs": [],
   "source": [
    "exo.holdout_fit_predict(k=20, mask=~outliers);"
   ]
  },
  {
   "cell_type": "code",
   "execution_count": null,
   "metadata": {},
   "outputs": [],
   "source": [
    "clipped_apt_lc = exo.get_aperture_lc(data_type=\"cpm_subtracted_lc\")\n",
    "plt.plot(exo.time, clipped_apt_lc, \".\", label='Clipped Prediction')\n",
    "plt.plot(exo.time, apt_lc, \"-\", label='no clipping')\n",
    "plt.legend()"
   ]
  },
  {
   "cell_type": "code",
   "execution_count": null,
   "metadata": {},
   "outputs": [],
   "source": [
    "cpm_regs = 10.0 ** np.arange(-5, 10)"
   ]
  },
  {
   "cell_type": "code",
   "execution_count": null,
   "metadata": {},
   "outputs": [],
   "source": [
    "min_cpm_reg, cdpps = exo.calc_min_cpm_reg(cpm_regs, k=2)"
   ]
  },
  {
   "cell_type": "code",
   "execution_count": null,
   "metadata": {},
   "outputs": [],
   "source": [
    "print(min_cpm_reg)"
   ]
  },
  {
   "cell_type": "code",
   "execution_count": null,
   "metadata": {},
   "outputs": [],
   "source": [
    "# def calc_cdpp(flux):\n",
    "#     return lc.TessLightCurve(flux=flux).estimate_cdpp()\n",
    "\n",
    "# calc_cdpp(cpm_subtracted_lc)"
   ]
  },
  {
   "cell_type": "code",
   "execution_count": null,
   "metadata": {},
   "outputs": [],
   "source": [
    "split_cpm_subtracted_lc = exo.get_aperture_lc(split=True, data_type=\"cpm_subtracted_lc\")\n",
    "cpm_subtracted_lc = exo.get_aperture_lc(data_type=\"cpm_subtracted_lc\")\n",
    "\n",
    "for t, l in zip(exo.split_times, split_cpm_subtracted_lc):\n",
    "    plt.plot(t, l)"
   ]
  },
  {
   "cell_type": "code",
   "execution_count": null,
   "metadata": {},
   "outputs": [],
   "source": [
    "k = 10\n",
    "cpm_regs = 0.01 * np.arange(1, 100)\n",
    "cdpps = np.zeros((cpm_regs.size, k))\n",
    "for idx, creg in enumerate(cpm_regs):\n",
    "        exo.set_regs([creg])\n",
    "        exo.holdout_fit_predict(k)\n",
    "        split_cpm_subtracted_lc = exo.get_aperture_lc(split=True, data_type=\"cpm_subtracted_lc\", verbose=False)\n",
    "        split_cdpp = [calc_cdpp(lc) for lc in split_cpm_subtracted_lc]\n",
    "        cdpps[idx] = np.array(split_cdpp)\n",
    "#         cdpps.append(lc.TessLightCurve(exo.time, exo.get_aperture_lc(data_type=\"cpm_subtracted_lc\", verbose=False)).estimate_cdpp())\n",
    "cdpps.shape  # (cdpp, k-th section)"
   ]
  },
  {
   "cell_type": "code",
   "execution_count": null,
   "metadata": {},
   "outputs": [],
   "source": [
    "# This shows k-th-section (x-axis) vs cdpp (y-axis)\n",
    "# each line represents the cdpp values for a lightcurve fit with a given reg value.\n",
    "for cpm_reg, cdpp in zip(cpm_regs, cdpps):\n",
    "    plt.plot(np.arange(k)+1, cdpp, label=f\"Reg {cpm_reg}\")\n",
    "cdpps;\n",
    "plt.xlabel(\"k-th section of lightcurve\", fontsize=20)\n",
    "plt.ylabel(\"CDPP\", fontsize=20)\n",
    "# plt.title(\"\");\n",
    "# plt.legend()"
   ]
  },
  {
   "cell_type": "code",
   "execution_count": null,
   "metadata": {},
   "outputs": [],
   "source": [
    "# This shows cpm_reg (x-axis) vs cdpp (y-axis)\n",
    "for idx, cdpp in enumerate(cdpps.T):\n",
    "    plt.plot(cpm_regs, cdpp, label=f\"{idx+1} section\")\n",
    "plt.xlabel(\"CPM Regularization Values\", fontsize=20)\n",
    "plt.ylabel(\"CDPP\", fontsize=20)\n",
    "plt.legend();"
   ]
  },
  {
   "cell_type": "code",
   "execution_count": null,
   "metadata": {},
   "outputs": [],
   "source": [
    "section_averaged_cdpps = np.average(cdpps, axis=1)\n",
    "reg_at_min_cdpp = cpm_regs[np.argmin(section_averaged_cdpps)]\n",
    "print(reg_at_min_cdpp)\n",
    "plt.plot(cpm_regs, section_averaged_cdpps)\n",
    "plt.xlabel(\"CPM Regularization Values\", fontsize=20)\n",
    "plt.ylabel(\"CDPP\", fontsize=20);\n",
    "plt.scatter(0.13, section_averaged_cdpps[np.where(cpm_regs == 0.13)], c=\"r\")"
   ]
  },
  {
   "cell_type": "code",
   "execution_count": null,
   "metadata": {},
   "outputs": [],
   "source": [
    "reg_at_min_cdpp = cpm_regs[np.argmin(section_averaged_cdpps)]\n",
    "print(reg_at_min_cdpp)"
   ]
  },
  {
   "cell_type": "code",
   "execution_count": null,
   "metadata": {},
   "outputs": [],
   "source": [
    "exo.set_regs([reg_at_min_cdpp])\n",
    "exo.holdout_fit_predict()"
   ]
  },
  {
   "cell_type": "code",
   "execution_count": null,
   "metadata": {},
   "outputs": [],
   "source": [
    "plt.plot(cpm_regs, cdpps, \"o\")"
   ]
  },
  {
   "cell_type": "code",
   "execution_count": null,
   "metadata": {},
   "outputs": [],
   "source": [
    "pm = tess_cpm.PixelModel(exo.target_data, row=50, col=50)\n",
    "pm.add_cpm_model()\n",
    "pm.set_regs([0.1])\n",
    "pm.fit()\n",
    "prediction = pm.predict()\n",
    "prediction = (prediction + 1) * pm.median"
   ]
  },
  {
   "cell_type": "code",
   "execution_count": null,
   "metadata": {},
   "outputs": [],
   "source": []
  },
  {
   "cell_type": "code",
   "execution_count": null,
   "metadata": {},
   "outputs": [],
   "source": [
    "exo = tess_cpm.CPM(tess_cpm.TargetData(f))"
   ]
  },
  {
   "cell_type": "code",
   "execution_count": null,
   "metadata": {},
   "outputs": [],
   "source": [
    "exo.set_target_exclusion_predictors(50, 50)"
   ]
  },
  {
   "cell_type": "code",
   "execution_count": null,
   "metadata": {},
   "outputs": [],
   "source": [
    "exo.get_hyperparameters(transit_duration=100)"
   ]
  },
  {
   "cell_type": "code",
   "execution_count": null,
   "metadata": {},
   "outputs": [],
   "source": [
    "exo = tess_cpm.CPM(f, remove_bad=True)"
   ]
  },
  {
   "cell_type": "code",
   "execution_count": null,
   "metadata": {},
   "outputs": [],
   "source": [
    "exo.set_poly_model(1, 4, 0.5)\n",
    "exo.set_target(50, 50)\n",
    "exo.set_exclusion(10)\n",
    "exo.set_predictor_pixels(256)"
   ]
  },
  {
   "cell_type": "code",
   "execution_count": null,
   "metadata": {},
   "outputs": [],
   "source": [
    "exo.lsq(1.0, rescale=True, polynomials=False)"
   ]
  },
  {
   "cell_type": "code",
   "execution_count": null,
   "metadata": {},
   "outputs": [],
   "source": [
    "tess_cpm.summary_plot(exo, 20, save=True)"
   ]
  },
  {
   "cell_type": "code",
   "execution_count": null,
   "metadata": {},
   "outputs": [],
   "source": [
    "exo.sigma_clip_process(2.3)"
   ]
  },
  {
   "cell_type": "code",
   "execution_count": null,
   "metadata": {},
   "outputs": [],
   "source": [
    "tess_cpm.summary_plot(exo, 20, subtract_polynomials=False)"
   ]
  },
  {
   "cell_type": "code",
   "execution_count": null,
   "metadata": {},
   "outputs": [],
   "source": [
    "plt.figure(figsize=(15, 6))\n",
    "# plt.plot(exo.time, exo.rescaled_target_fluxes, \".-\", color=\"black\")\n",
    "diff = exo.rescaled_target_fluxes - exo.lsq_prediction\n",
    "plt.plot(exo.time[exo.valid], diff[exo.valid], \".-\", color=\"C0\");\n",
    "# plt.plot(exo.time, diff, \".-\", color=\"C3\")\n",
    "plt.plot(exo.time[~exo.valid], diff[~exo.valid], \"x\", color=\"gray\")"
   ]
  },
  {
   "cell_type": "code",
   "execution_count": null,
   "metadata": {},
   "outputs": [],
   "source": [
    "plt.figure(figsize=(15, 6))\n",
    "# plt.plot(exo.time, exo.rescaled_target_fluxes, \".-\", color=\"black\")\n",
    "diff = exo.rescaled_target_fluxes - exo.lsq_prediction\n",
    "# plt.plot(exo.time[exo.valid], diff[exo.valid], \".-\", color=\"C0\");\n",
    "plt.plot(exo.time, diff, \".-\", color=\"C0\")\n",
    "# plt.plot(exo.time[~exo.valid], diff[~exo.valid], \"x\", color=\"gray\")"
   ]
  },
  {
   "cell_type": "code",
   "execution_count": null,
   "metadata": {},
   "outputs": [],
   "source": [
    "from IPython.display import HTML\n",
    "import matplotlib.animation as animation\n",
    "exo.entire_image(0.5, rescale=True, polynomials=True)\n",
    "diff = exo.im_diff\n",
    "upscaled_diff = exo.pixel_medians*exo.im_diff\n",
    "\n",
    "fig, axes = plt.subplots(1, 3, figsize=(18, 18))\n",
    "\n",
    "ims = []\n",
    "for i in range(0, diff.shape[0], 10):\n",
    "    im1 = axes[0].imshow(exo.im_fluxes[i], origin=\"lower\", animated=True,\n",
    "                        vmin=np.percentile(exo.im_fluxes[0], 10), vmax=np.percentile(exo.im_fluxes[0], 90))\n",
    "    im2 = axes[1].imshow(diff[i], origin=\"lower\", animated=True,\n",
    "                   vmin=np.percentile(diff, 1), vmax=np.percentile(diff, 99));\n",
    "    im3 = axes[2].imshow(upscaled_diff[i], origin=\"lower\", animated=True,\n",
    "                   vmin=np.percentile(upscaled_diff, 1), vmax=np.percentile(upscaled_diff, 99));\n",
    "    ims.append([im1, im2, im3]);\n",
    "fig.colorbar(im1, ax=axes[0], fraction=0.046)\n",
    "fig.colorbar(im2, ax=axes[1], fraction=0.046)\n",
    "fig.colorbar(im3, ax=axes[2], fraction=0.046)\n",
    "    \n",
    "ani = animation.ArtistAnimation(fig, ims, interval=50, blit=True,\n",
    "                                repeat_delay=1000);\n",
    "\n",
    "HTML(ani.to_jshtml())\n"
   ]
  },
  {
   "cell_type": "code",
   "execution_count": null,
   "metadata": {},
   "outputs": [],
   "source": []
  }
 ],
 "metadata": {
  "kernelspec": {
   "display_name": "Python 3",
   "language": "python",
   "name": "python3"
  },
  "language_info": {
   "codemirror_mode": {
    "name": "ipython",
    "version": 3
   },
   "file_extension": ".py",
   "mimetype": "text/x-python",
   "name": "python",
   "nbconvert_exporter": "python",
   "pygments_lexer": "ipython3",
   "version": "3.7.2"
  }
 },
 "nbformat": 4,
 "nbformat_minor": 4
}
