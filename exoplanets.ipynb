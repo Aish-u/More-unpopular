{
 "cells": [
  {
   "cell_type": "code",
   "execution_count": null,
   "metadata": {},
   "outputs": [],
   "source": [
    "import tess_cpm\n",
    "import numpy as np\n",
    "import matplotlib.pyplot as plt\n",
    "from astropy.io import fits\n",
    "from astropy.wcs import WCS\n",
    "import lightkurve as lk"
   ]
  },
  {
   "cell_type": "code",
   "execution_count": null,
   "metadata": {},
   "outputs": [],
   "source": [
    "plt.rcParams[\"figure.figsize\"] = (12, 8)"
   ]
  },
  {
   "cell_type": "code",
   "execution_count": null,
   "metadata": {},
   "outputs": [],
   "source": [
    "f = \"exoplanets/tess-s0010-1-1_173.957400_-29.156000_100x100_astrocut.fits\""
   ]
  },
  {
   "cell_type": "code",
   "execution_count": null,
   "metadata": {},
   "outputs": [],
   "source": [
    "exo = tess_cpm.Source(f)"
   ]
  },
  {
   "cell_type": "code",
   "execution_count": null,
   "metadata": {},
   "outputs": [],
   "source": [
    "exo.plot_cutout()"
   ]
  },
  {
   "cell_type": "code",
   "execution_count": null,
   "metadata": {},
   "outputs": [],
   "source": [
    "exo.set_aperture(rowrange=[49, 52], colrange=[49, 52])\n",
    "exo.plot_cutout(rowrange=[45, 55], colrange=[45, 55], show_aperture=True)"
   ]
  },
  {
   "cell_type": "code",
   "execution_count": null,
   "metadata": {},
   "outputs": [],
   "source": [
    "exo.plot_pix_by_pix()"
   ]
  },
  {
   "cell_type": "code",
   "execution_count": null,
   "metadata": {},
   "outputs": [],
   "source": [
    "exo.add_cpm_model()\n",
    "exo.set_regs([0.2])\n",
    "exo.holdout_fit_predict(k=20);"
   ]
  },
  {
   "cell_type": "code",
   "execution_count": null,
   "metadata": {},
   "outputs": [],
   "source": [
    "# exo.plot_pix_by_pix(split=True, data_type=\"raw\")\n",
    "# exo.plot_pix_by_pix(split=True, data_type=\"prediction\")\n",
    "# exo.plot_pix_by_pix(split=True, data_type=\"cpm_prediction\")\n",
    "# exo.plot_pix_by_pix(split=True, data_type=\"poly_model_prediction\")\n",
    "exo.plot_pix_by_pix(split=True, data_type=\"cpm_subtracted_flux\")\n",
    "lc = exo.get_aperture_lc(\"cpm_subtracted_flux\")"
   ]
  },
  {
   "cell_type": "code",
   "execution_count": null,
   "metadata": {},
   "outputs": [],
   "source": [
    "level = 1.\n",
    "splits = exo.get_aperture_lc(\"cpm_subtracted_flux\", split=True)\n",
    "clipped_above = np.concatenate([flux > (np.mean(flux) + level*np.std(flux)) for flux in splits])\n",
    "clipped_below = np.concatenate([flux < (np.mean(flux) - level*np.std(flux)) for flux in splits])\n",
    "outliers = clipped_above + clipped_below\n",
    "outliers"
   ]
  },
  {
   "cell_type": "code",
   "execution_count": null,
   "metadata": {},
   "outputs": [],
   "source": [
    "# lc = exo.get_aperture_lc(\"cpm_subtracted_flux\")\n",
    "plt.plot(exo.time, lc)\n",
    "# sigma = np.std(lc)\n",
    "# outliers = np.abs(lc) > 1.*sigma\n",
    "plt.plot(exo.time[outliers], lc[outliers], \"x\", c=\"red\")"
   ]
  },
  {
   "cell_type": "code",
   "execution_count": null,
   "metadata": {},
   "outputs": [],
   "source": [
    "exo.holdout_fit_predict(k=20, mask=~outliers);\n",
    "exo.plot_pix_by_pix(\"cpm_subtracted_flux\")"
   ]
  },
  {
   "cell_type": "code",
   "execution_count": null,
   "metadata": {},
   "outputs": [],
   "source": [
    "masked_lc = exo.get_aperture_lc(\"cpm_subtracted_flux\")\n",
    "plt.plot(exo.time, lc)\n",
    "plt.plot(exo.time, masked_lc, alpha=0.3)"
   ]
  },
  {
   "cell_type": "code",
   "execution_count": null,
   "metadata": {},
   "outputs": [],
   "source": [
    "apt_cpm = exo.get_aperture_lc(data_type=\"cpm_prediction\")\n",
    "apt_lc = exo.get_aperture_lc(data_type=\"cpm_subtracted_lc\")\n",
    "# exo.get_aperture_lc(split=False, data_type=\"cpm_subtracted_lc\")"
   ]
  },
  {
   "cell_type": "code",
   "execution_count": null,
   "metadata": {},
   "outputs": [],
   "source": [
    "# plt.plot(exo.time, apt_cpm, \".\")\n",
    "plt.plot(exo.time, apt_lc, \".\")\n",
    "# outliers = np.abs(apt_lc) > 1.5*np.std(apt_lc)\n",
    "# print(np.sum(outliers))\n",
    "# plt.plot(exo.time[outliers], apt_lc[outliers], \"x\", c=\"k\")\n",
    "# plt.plot(exo.time[~outliers], apt_lc[~outliers], \"x\", c=\"k\")\n",
    "\n",
    "# apt_lc[pre_clip] = np.nan\n",
    "# clip = np.abs(apt_lc) > 1*np.std(apt_lc[pre_clip])\n",
    "# plt.plot(exo.time[clip], apt_lc[clip], \"x\", c=\"r\")\n",
    "# np.any(clip)"
   ]
  },
  {
   "cell_type": "code",
   "execution_count": null,
   "metadata": {},
   "outputs": [],
   "source": [
    "# exo.holdout_fit_predict(k=20, mask=~outliers);"
   ]
  },
  {
   "cell_type": "code",
   "execution_count": null,
   "metadata": {},
   "outputs": [],
   "source": [
    "clipped_apt_lc = exo.get_aperture_lc(data_type=\"cpm_subtracted_lc\")\n",
    "plt.plot(exo.time, clipped_apt_lc, \".\", label='Clipped Prediction')\n",
    "plt.plot(exo.time, apt_lc, \"-\", label='no clipping')\n",
    "plt.legend()"
   ]
  },
  {
   "cell_type": "code",
   "execution_count": null,
   "metadata": {},
   "outputs": [],
   "source": [
    "cpm_regs = 10.0 ** np.arange(-10, 10)"
   ]
  },
  {
   "cell_type": "code",
   "execution_count": null,
   "metadata": {},
   "outputs": [],
   "source": [
    "min_cpm_reg, cdpps = exo.calc_min_cpm_reg(cpm_regs, k=10)\n",
    "plt.savefig(\"Exoplanet_CDPPS.png\", dpi=200)"
   ]
  },
  {
   "cell_type": "code",
   "execution_count": null,
   "metadata": {},
   "outputs": [],
   "source": []
  },
  {
   "cell_type": "code",
   "execution_count": null,
   "metadata": {},
   "outputs": [],
   "source": [
    "cpm_regs"
   ]
  },
  {
   "cell_type": "code",
   "execution_count": null,
   "metadata": {},
   "outputs": [],
   "source": [
    "print(min_cpm_reg)\n",
    "exo.set_regs([min_cpm_reg])\n",
    "exo.holdout_fit_predict(k=10);\n",
    "flux_splits = exo.get_aperture_lc(data_type=\"raw\", split=True)\n",
    "splits = exo.get_aperture_lc(data_type=\"cpm_subtracted_lc\", split=True)\n",
    "f, axs = plt.subplots(2, 1, sharex=True, figsize=(18, 8))\n",
    "for time, split, f_split in zip(exo.split_times, splits, flux_splits):\n",
    "    axs[0].plot(time, f_split, \".\")\n",
    "    axs[0].set_ylabel(\"Original Flux\", fontsize=15)\n",
    "    axs[1].plot(time, split)\n",
    "    axs[1].set_ylabel(\"Detrended Flux\", fontsize=15)\n",
    "    axs[1].set_xlabel( \"Time [BTJD]\", fontsize=15)\n",
    "plt.savefig(\"Exoplanet_LC.png\", dpi=200)"
   ]
  },
  {
   "cell_type": "code",
   "execution_count": null,
   "metadata": {},
   "outputs": [],
   "source": [
    "print(min_cpm_reg)\n",
    "exo.set_regs([min_cpm_reg])\n",
    "exo.holdout_fit_predict(k=10);\n",
    "flux_splits = exo.get_aperture_lc(data_type=\"raw\", split=True)\n",
    "splits = exo.get_aperture_lc(data_type=\"cpm_subtracted_lc\", split=True)\n",
    "f, axs = plt.subplots(2, 1, sharex=True, figsize=(18, 8))\n",
    "for time, split, f_split in zip(exo.split_times, splits, flux_splits):\n",
    "    axs[0].plot(time, f_split, \".\")\n",
    "    axs[0].set_ylabel(\"Original Flux\", fontsize=15)\n",
    "    axs[1].plot(time, split)\n",
    "    axs[1].set_ylabel(\"Detrended Flux\", fontsize=15)\n",
    "    axs[1].set_xlabel( \"Time [BTJD]\", fontsize=15)\n",
    "# plt.savefig(\"Exoplanet_LC.png\", dpi=200)"
   ]
  },
  {
   "cell_type": "code",
   "execution_count": null,
   "metadata": {},
   "outputs": [],
   "source": [
    "lc = lk.TessLightCurve(time=exo.time, flux=exo.get_aperture_lc(data_type=\"cpm_subtracted_lc\")+1)\n",
    "# lc.plot(normalize=False)\n",
    "# lc.normalize()\n",
    "# np.nanmedian(lc.flux)\n",
    "# np.nanstd(lc.flux)\n",
    "# np.abs(np.nanmedian(lc.flux)) < 0.5*np.nanstd(lc.flux)\n",
    "plt.plot(lc.time, -1*lc.flatten().flux)\n",
    "# a = lc.flatten()\n",
    "# a"
   ]
  },
  {
   "cell_type": "code",
   "execution_count": null,
   "metadata": {},
   "outputs": [],
   "source": [
    "split_cpm_subtracted_lc = exo.get_aperture_lc(split=True, data_type=\"cpm_subtracted_lc\")\n",
    "cpm_subtracted_lc = exo.get_aperture_lc(data_type=\"cpm_subtracted_lc\")\n",
    "\n",
    "for t, l in zip(exo.split_times, split_cpm_subtracted_lc):\n",
    "    plt.plot(t, l)"
   ]
  }
 ],
 "metadata": {
  "kernelspec": {
   "display_name": "Python 3",
   "language": "python",
   "name": "python3"
  },
  "language_info": {
   "codemirror_mode": {
    "name": "ipython",
    "version": 3
   },
   "file_extension": ".py",
   "mimetype": "text/x-python",
   "name": "python",
   "nbconvert_exporter": "python",
   "pygments_lexer": "ipython3",
   "version": "3.7.2"
  }
 },
 "nbformat": 4,
 "nbformat_minor": 4
}
