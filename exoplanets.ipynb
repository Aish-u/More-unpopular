{
 "cells": [
  {
   "cell_type": "code",
   "execution_count": null,
   "metadata": {},
   "outputs": [],
   "source": [
    "import tess_cpm\n",
    "import numpy as np\n",
    "import matplotlib.pyplot as plt\n",
    "from astropy.io import fits\n",
    "from astropy.wcs import WCS\n",
    "import lightkurve as lk"
   ]
  },
  {
   "cell_type": "code",
   "execution_count": null,
   "metadata": {},
   "outputs": [],
   "source": [
    "plt.rcParams[\"figure.figsize\"] = (12, 8)"
   ]
  },
  {
   "cell_type": "code",
   "execution_count": null,
   "metadata": {},
   "outputs": [],
   "source": [
    "f = \"exoplanets/tess-s0010-1-1_173.957400_-29.156000_100x100_astrocut.fits\"\n",
    "f2 = \"exoplanets/tess-s0001-1-4_316.631902_-26.692632_64x64_astrocut.fits\""
   ]
  },
  {
   "cell_type": "code",
   "execution_count": null,
   "metadata": {},
   "outputs": [],
   "source": [
    "exo = tess_cpm.Source(f)"
   ]
  },
  {
   "cell_type": "code",
   "execution_count": null,
   "metadata": {},
   "outputs": [],
   "source": [
    "exo.plot_cutout();"
   ]
  },
  {
   "cell_type": "code",
   "execution_count": null,
   "metadata": {},
   "outputs": [],
   "source": [
    "exo.set_aperture(rowrange=[49, 50], colrange=[49, 52])\n",
    "exo.plot_cutout(rowrange=[45, 55], colrange=[45, 55], show_aperture=True);"
   ]
  },
  {
   "cell_type": "code",
   "execution_count": null,
   "metadata": {},
   "outputs": [],
   "source": [
    "exo.plot_pix_by_pix();"
   ]
  },
  {
   "cell_type": "code",
   "execution_count": null,
   "metadata": {},
   "outputs": [],
   "source": [
    "exo.add_cpm_model()\n",
    "exo.set_regs([0.1])\n",
    "exo.holdout_fit_predict(k=10);"
   ]
  },
  {
   "cell_type": "code",
   "execution_count": null,
   "metadata": {},
   "outputs": [],
   "source": [
    "# exo.plot_pix_by_pix(split=True, data_type=\"raw\")\n",
    "# exo.plot_pix_by_pix(split=True, data_type=\"prediction\")\n",
    "# exo.plot_pix_by_pix(split=True, data_type=\"cpm_prediction\")\n",
    "# exo.plot_pix_by_pix(split=True, data_type=\"poly_model_prediction\")\n",
    "exo.plot_pix_by_pix(split=True, data_type=\"cpm_subtracted_flux\")\n",
    "lc = exo.get_aperture_lc(\"cpm_subtracted_flux\")"
   ]
  },
  {
   "cell_type": "code",
   "execution_count": null,
   "metadata": {},
   "outputs": [],
   "source": [
    "# lc.shape\n",
    "outliers = exo.get_outliers(window=10, sigma_upper=5, sigma_lower=0.8)"
   ]
  },
  {
   "cell_type": "code",
   "execution_count": null,
   "metadata": {},
   "outputs": [],
   "source": [
    "plt.plot(exo.time, lc)\n",
    "plt.plot(exo.time[outliers], lc[outliers], \"x\", c=\"red\")\n",
    "# plt.plot(exo.time[~outliers], lc[~outliers], \"-\", c=\"C2\")"
   ]
  },
  {
   "cell_type": "code",
   "execution_count": null,
   "metadata": {},
   "outputs": [],
   "source": [
    "exo.holdout_fit_predict(k=50, mask=~outliers);\n",
    "exo.plot_pix_by_pix(\"cpm_prediction\");\n",
    "exo.plot_pix_by_pix(\"cpm_subtracted_flux\");"
   ]
  },
  {
   "cell_type": "code",
   "execution_count": null,
   "metadata": {},
   "outputs": [],
   "source": [
    "masked_lc = exo.get_aperture_lc(\"cpm_subtracted_flux\")\n",
    "# plt.plot(exo.time, lc)\n",
    "plt.plot(exo.time, masked_lc, alpha=0.3)"
   ]
  },
  {
   "cell_type": "code",
   "execution_count": null,
   "metadata": {},
   "outputs": [],
   "source": [
    "apt_cpm = exo.get_aperture_lc(data_type=\"cpm_prediction\")\n",
    "apt_lc = exo.get_aperture_lc(data_type=\"rescaled_cpm_subtracted_flux\")\n",
    "# exo.get_aperture_lc(split=False, data_type=\"cpm_subtracted_lc\")"
   ]
  },
  {
   "cell_type": "code",
   "execution_count": null,
   "metadata": {},
   "outputs": [],
   "source": [
    "# plt.plot(exo.time, apt_cpm, \".\")\n",
    "plt.plot(exo.time, apt_lc, \".\")\n",
    "# outliers = np.abs(apt_lc) > 1.5*np.std(apt_lc)\n",
    "# print(np.sum(outliers))\n",
    "# plt.plot(exo.time[outliers], apt_lc[outliers], \"x\", c=\"k\")\n",
    "# plt.plot(exo.time[~outliers], apt_lc[~outliers], \"x\", c=\"k\")\n",
    "\n",
    "# apt_lc[pre_clip] = np.nan\n",
    "# clip = np.abs(apt_lc) > 1*np.std(apt_lc[pre_clip])\n",
    "# plt.plot(exo.time[clip], apt_lc[clip], \"x\", c=\"r\")\n",
    "# np.any(clip)"
   ]
  },
  {
   "cell_type": "code",
   "execution_count": null,
   "metadata": {},
   "outputs": [],
   "source": [
    "cpm_regs = 10.0 ** np.arange(-10, 10)"
   ]
  },
  {
   "cell_type": "code",
   "execution_count": null,
   "metadata": {},
   "outputs": [],
   "source": [
    "min_cpm_reg, cdpps = exo.calc_min_cpm_reg(cpm_regs, k=10)\n",
    "plt.savefig(\"Exoplanet_CDPPS.png\", dpi=200)"
   ]
  },
  {
   "cell_type": "code",
   "execution_count": null,
   "metadata": {},
   "outputs": [],
   "source": [
    "cpm_regs"
   ]
  },
  {
   "cell_type": "code",
   "execution_count": null,
   "metadata": {},
   "outputs": [],
   "source": [
    "print(min_cpm_reg)\n",
    "exo.set_regs([min_cpm_reg])\n",
    "exo.holdout_fit_predict(k=10);\n",
    "flux_splits = exo.get_aperture_lc(data_type=\"raw\", split=True)\n",
    "splits = exo.get_aperture_lc(data_type=\"cpm_subtracted_flux\", split=True)\n",
    "f, axs = plt.subplots(2, 1, sharex=True, figsize=(18, 8))\n",
    "for time, split, f_split in zip(exo.split_times, splits, flux_splits):\n",
    "    axs[0].plot(time, f_split, \".\")\n",
    "    axs[0].set_ylabel(\"Original Flux\", fontsize=15)\n",
    "    axs[1].plot(time, split)\n",
    "    axs[1].set_ylabel(\"Detrended Flux\", fontsize=15)\n",
    "    axs[1].set_xlabel( \"Time [BTJD]\", fontsize=15)\n",
    "plt.savefig(\"Exoplanet_LC.png\", dpi=200)"
   ]
  },
  {
   "cell_type": "code",
   "execution_count": null,
   "metadata": {},
   "outputs": [],
   "source": [
    "print(min_cpm_reg)\n",
    "exo.set_regs([min_cpm_reg])\n",
    "exo.holdout_fit_predict(k=10);\n",
    "flux_splits = exo.get_aperture_lc(data_type=\"raw\", split=True)\n",
    "splits = exo.get_aperture_lc(data_type=\"cpm_subtracted_flux\", split=True)\n",
    "f, axs = plt.subplots(2, 1, sharex=True, figsize=(18, 8))\n",
    "for time, split, f_split in zip(exo.split_times, splits, flux_splits):\n",
    "    axs[0].plot(time, f_split, \".\")\n",
    "    axs[0].set_ylabel(\"Original Flux\", fontsize=15)\n",
    "    axs[1].plot(time, split)\n",
    "    axs[1].set_ylabel(\"Detrended Flux\", fontsize=15)\n",
    "    axs[1].set_xlabel( \"Time [BTJD]\", fontsize=15)\n",
    "# plt.savefig(\"Exoplanet_LC.png\", dpi=200)"
   ]
  },
  {
   "cell_type": "code",
   "execution_count": null,
   "metadata": {},
   "outputs": [],
   "source": [
    "lc = lk.TessLightCurve(time=exo.time[~outliers], flux=apt_lc[~outliers])\n",
    "# lc.plot(normalize=False)\n",
    "# lc.normalize()\n",
    "# np.nanmedian(lc.flux)\n",
    "# np.nanstd(lc.flux)\n",
    "# np.abs(np.nanmedian(lc.flux)) < 0.5*np.nanstd(lc.flux)\n",
    "lc.plot()\n",
    "lc.estimate_cdpp()\n",
    "# a = lc.flatten()\n",
    "# a"
   ]
  },
  {
   "cell_type": "code",
   "execution_count": null,
   "metadata": {},
   "outputs": [],
   "source": [
    "split_cpm_subtracted_lc = exo.get_aperture_lc(split=True, data_type=\"cpm_subtracted_lc\")\n",
    "cpm_subtracted_lc = exo.get_aperture_lc(data_type=\"cpm_subtracted_lc\")\n",
    "\n",
    "for t, l in zip(exo.split_times, split_cpm_subtracted_lc):\n",
    "    plt.plot(t, l)"
   ]
  },
  {
   "cell_type": "code",
   "execution_count": null,
   "metadata": {},
   "outputs": [],
   "source": []
  },
  {
   "cell_type": "code",
   "execution_count": null,
   "metadata": {},
   "outputs": [],
   "source": [
    "# TIC 29857954\n",
    "tic = tess_cpm.Source(f2, remove_bad=True)\n",
    "tic.set_aperture(rowrange=[28, 36], colrange=[28, 36])  # full aperture\n",
    "tic.set_aperture(rowrange=[28, 36], colrange=[28, 36])  # full aperture\n",
    "\n",
    "tic.plot_cutout(show_aperture=True);\n",
    "tic.add_cpm_model()\n",
    "# tic.add_poly_model()\n",
    "tic.set_regs([0.001])\n",
    "tic.holdout_fit_predict(k=10);\n",
    "tic.plot_pix_by_pix(\"cpm_subtracted_flux\", split=True);\n",
    "tic_lc = tic.get_aperture_lc(\"cpm_subtracted_flux\")\n",
    "plt.plot(tic.time, tic_lc)\n",
    "\n",
    "# There's already one known asteroid crossing in the aperture for this source around 1338.\n",
    "# Is there another one around the top left corner at 1347?"
   ]
  },
  {
   "cell_type": "code",
   "execution_count": null,
   "metadata": {},
   "outputs": [],
   "source": [
    "tic_lc.shape\n",
    "\n",
    "outliers = tic.get_outliers(sigma_upper=100, sigma_lower=1)\n",
    "# plt.plot(tic.time, tic_lc)\n",
    "# s = (tic.time > 1347) * (tic.time < 1350) + (tic.time > 1353)\n",
    "# 338<Time<1339 and 1346.8<Time<1348.6\n",
    "# s = ((tic.time > 1338) * (tic.time < 1339)) + ((tic.time > 1346.8) * (tic.time < 1348.6))\n",
    "asteroid = ((tic.time > 1338)) * (tic.time < 1339)\n",
    "outliers[asteroid] = True\n",
    "# plt.plot(tic.time[outliers], tic_lc[outliers], \"x\", c=\"red\")\n",
    "plt.plot(tic.time[~outliers], tic_lc[~outliers], c=\"green\")"
   ]
  },
  {
   "cell_type": "code",
   "execution_count": null,
   "metadata": {},
   "outputs": [],
   "source": [
    "tic.holdout_fit_predict(k=50, mask=~outliers);\n",
    "# tic.plot_pix_by_pix(\"rescaled_cpm_subtracted_flux\", split=True)\n",
    "\n",
    "tic_lc = tic.get_aperture_lc(\"rescaled_cpm_subtracted_flux\")\n",
    "# plt.plot(tic.time[~s], tic_lc[~s])\n",
    "plt.plot(tic.time, tic_lc)"
   ]
  },
  {
   "cell_type": "code",
   "execution_count": null,
   "metadata": {},
   "outputs": [],
   "source": [
    "plt.figure(figsize=(16, 10))\n",
    "\n",
    "plt.plot(tic.time, tic_lc / np.nanmedian(tic_lc), c=\"k\")\n",
    "plt.xlabel(\"Time - 2457000 [Days]\", fontsize=30)\n",
    "plt.ylabel(\"Renormalized CPM Flux\", fontsize=30)\n",
    "plt.title(\"TOI-172 (TIC 29857954)\", y=1, fontsize=40)\n",
    "plt.tick_params(labelsize=20)\n",
    "# plt.savefig(\"TOI172.png\", dpi=300)"
   ]
  },
  {
   "cell_type": "code",
   "execution_count": null,
   "metadata": {},
   "outputs": [],
   "source": [
    "# plt.plot(tic.time, tic_lc+1)"
   ]
  },
  {
   "cell_type": "code",
   "execution_count": null,
   "metadata": {},
   "outputs": [],
   "source": [
    "# lc = lk.TessLightCurve(time=tic.time[~s], flux=(tic_lc)[~s] / np.nanmedian(tic_lc[~s]))\n",
    "lc = lk.TessLightCurve(time=tic.time[~asteroid], flux=(tic_lc[~asteroid] / np.nanmedian(tic_lc[~asteroid])))\n",
    "\n",
    "# lc = lk.TessLightCurve(time=tic.time[~outliers], flux=(tic_lc+1)[~outliers])"
   ]
  },
  {
   "cell_type": "code",
   "execution_count": null,
   "metadata": {},
   "outputs": [],
   "source": [
    "lc.plot()\n",
    "cleaned_lc = lc.remove_outliers(sigma=5)\n",
    "cleaned_lc.plot()"
   ]
  },
  {
   "cell_type": "code",
   "execution_count": null,
   "metadata": {},
   "outputs": [],
   "source": [
    "cleaned_lc.estimate_cdpp(transit_duration=2)"
   ]
  },
  {
   "cell_type": "code",
   "execution_count": null,
   "metadata": {},
   "outputs": [],
   "source": [
    "f_lc = lc.flatten()"
   ]
  },
  {
   "cell_type": "code",
   "execution_count": null,
   "metadata": {},
   "outputs": [],
   "source": [
    "f_lc.plot()"
   ]
  },
  {
   "cell_type": "code",
   "execution_count": null,
   "metadata": {},
   "outputs": [],
   "source": [
    "f_lc.estimate_cdpp(transit_duration=2)"
   ]
  },
  {
   "cell_type": "code",
   "execution_count": null,
   "metadata": {},
   "outputs": [],
   "source": []
  }
 ],
 "metadata": {
  "kernelspec": {
   "display_name": "Python 3",
   "language": "python",
   "name": "python3"
  },
  "language_info": {
   "codemirror_mode": {
    "name": "ipython",
    "version": 3
   },
   "file_extension": ".py",
   "mimetype": "text/x-python",
   "name": "python",
   "nbconvert_exporter": "python",
   "pygments_lexer": "ipython3",
   "version": "3.7.6"
  }
 },
 "nbformat": 4,
 "nbformat_minor": 4
}
