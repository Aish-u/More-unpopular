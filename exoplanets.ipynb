{
 "cells": [
  {
   "cell_type": "code",
   "execution_count": null,
   "metadata": {},
   "outputs": [],
   "source": [
    "import tess_cpm\n",
    "import numpy as np\n",
    "import matplotlib.pyplot as plt\n",
    "from astropy.io import fits\n",
    "from astropy.wcs import WCS\n",
    "import lightkurve as lk"
   ]
  },
  {
   "cell_type": "code",
   "execution_count": null,
   "metadata": {},
   "outputs": [],
   "source": [
    "plt.rcParams[\"figure.figsize\"] = (8, 5)\n",
    "plt.rcParams[\"figure.dpi\"] = 400"
   ]
  },
  {
   "cell_type": "code",
   "execution_count": null,
   "metadata": {},
   "outputs": [],
   "source": [
    "f = \"exoplanets/tess-s0010-1-1_173.957400_-29.156000_100x100_astrocut.fits\"\n",
    "f2 = \"exoplanets/tess-s0001-1-4_316.631902_-26.692632_64x64_astrocut.fits\""
   ]
  },
  {
   "cell_type": "code",
   "execution_count": null,
   "metadata": {},
   "outputs": [],
   "source": [
    "exo = tess_cpm.Source(f)"
   ]
  },
  {
   "cell_type": "code",
   "execution_count": null,
   "metadata": {},
   "outputs": [],
   "source": [
    "exo.plot_cutout();"
   ]
  },
  {
   "cell_type": "code",
   "execution_count": null,
   "metadata": {},
   "outputs": [],
   "source": [
    "exo.set_aperture(rowlims=[49, 50], collims=[49, 52])\n",
    "exo.plot_cutout(rowlims=[45, 55], collims=[45, 55], show_aperture=True);"
   ]
  },
  {
   "cell_type": "code",
   "execution_count": null,
   "metadata": {},
   "outputs": [],
   "source": [
    "exo.plot_pix_by_pix();"
   ]
  },
  {
   "cell_type": "code",
   "execution_count": null,
   "metadata": {},
   "outputs": [],
   "source": [
    "# exo.remove_poly_model()\n",
    "# exo.add_cpm_model()\n",
    "# exo.set_regs([0.1])\n",
    "# exo.holdout_fit_predict(k=100);\n",
    "\n",
    "exo.add_cpm_model()\n",
    "exo.add_poly_model()\n",
    "exo.set_regs([0.1, 0.1])\n",
    "exo.holdout_fit_predict(k=100);"
   ]
  },
  {
   "cell_type": "code",
   "execution_count": null,
   "metadata": {},
   "outputs": [],
   "source": [
    "# exo.plot_pix_by_pix(split=True, data_type=\"raw\")\n",
    "# exo.plot_pix_by_pix(split=True, data_type=\"prediction\")\n",
    "# exo.plot_pix_by_pix(split=True, data_type=\"cpm_prediction\")\n",
    "# exo.plot_pix_by_pix(split=True, data_type=\"poly_model_prediction\")\n",
    "exo.plot_pix_by_pix(split=True, data_type=\"cpm_subtracted_flux\")\n",
    "# no_poly_dt_lc = exo.get_aperture_lc(\"cpm_subtracted_flux\")\n",
    "# with_poly_dt_lc = exo.get_aperture_lc(\"cpm_subtracted_flux\") - exo.get_aperture_lc(\"poly_model_prediction\")\n",
    "with_poly_dt_lc = exo.get_aperture_lc(\"cpm_subtracted_flux\")"
   ]
  },
  {
   "cell_type": "code",
   "execution_count": null,
   "metadata": {},
   "outputs": [],
   "source": [
    "plt.plot(exo.time, no_poly_dt_lc)\n",
    "plt.plot(exo.time, with_poly_dt_lc)"
   ]
  },
  {
   "cell_type": "code",
   "execution_count": null,
   "metadata": {},
   "outputs": [],
   "source": [
    "# lc.shape\n",
    "outliers = exo.get_outliers(window=10, sigma_upper=5, sigma_lower=0.8)"
   ]
  },
  {
   "cell_type": "code",
   "execution_count": null,
   "metadata": {},
   "outputs": [],
   "source": [
    "plt.plot(exo.time, lc)\n",
    "plt.plot(exo.time[outliers], lc[outliers], \"x\", c=\"red\")\n",
    "plt.plot(exo.time[~outliers], lc[~outliers], \"-\", c=\"C2\")"
   ]
  },
  {
   "cell_type": "code",
   "execution_count": null,
   "metadata": {},
   "outputs": [],
   "source": [
    "exo.holdout_fit_predict(k=100, mask=~outliers);\n",
    "exo.plot_pix_by_pix(\"cpm_prediction\");\n",
    "exo.plot_pix_by_pix(\"cpm_subtracted_flux\");"
   ]
  },
  {
   "cell_type": "code",
   "execution_count": null,
   "metadata": {},
   "outputs": [],
   "source": [
    "masked_lc = exo.get_aperture_lc(\"cpm_subtracted_flux\")\n",
    "# plt.plot(exo.time, lc)\n",
    "plt.plot(exo.time, masked_lc, alpha=0.7)\n",
    "plt.plot(exo.time, lc, alpha=0.5)"
   ]
  },
  {
   "cell_type": "code",
   "execution_count": null,
   "metadata": {},
   "outputs": [],
   "source": [
    "apt_cpm = exo.get_aperture_lc(data_type=\"cpm_prediction\")\n",
    "apt_lc = exo.get_aperture_lc(data_type=\"rescaled_cpm_subtracted_flux\")\n",
    "# exo.get_aperture_lc(split=False, data_type=\"cpm_subtracted_lc\")"
   ]
  },
  {
   "cell_type": "code",
   "execution_count": null,
   "metadata": {},
   "outputs": [],
   "source": [
    "# plt.plot(exo.time, apt_cpm, \".\")\n",
    "plt.plot(exo.time, apt_lc, \".\")\n",
    "# outliers = np.abs(apt_lc) > 1.5*np.std(apt_lc)\n",
    "# print(np.sum(outliers))\n",
    "# plt.plot(exo.time[outliers], apt_lc[outliers], \"x\", c=\"k\")\n",
    "# plt.plot(exo.time[~outliers], apt_lc[~outliers], \"x\", c=\"k\")\n",
    "\n",
    "# apt_lc[pre_clip] = np.nan\n",
    "# clip = np.abs(apt_lc) > 1*np.std(apt_lc[pre_clip])\n",
    "# plt.plot(exo.time[clip], apt_lc[clip], \"x\", c=\"r\")\n",
    "# np.any(clip)"
   ]
  },
  {
   "cell_type": "code",
   "execution_count": null,
   "metadata": {},
   "outputs": [],
   "source": [
    "cpm_regs = 10.0 ** np.arange(-10, 10)"
   ]
  },
  {
   "cell_type": "code",
   "execution_count": null,
   "metadata": {},
   "outputs": [],
   "source": [
    "min_cpm_reg, cdpps = exo.calc_min_cpm_reg(cpm_regs, k=10)\n",
    "# plt.savefig(\"Exoplanet_CDPPS.png\", dpi=200)"
   ]
  },
  {
   "cell_type": "code",
   "execution_count": null,
   "metadata": {},
   "outputs": [],
   "source": [
    "cpm_regs"
   ]
  },
  {
   "cell_type": "code",
   "execution_count": null,
   "metadata": {},
   "outputs": [],
   "source": [
    "print(min_cpm_reg)\n",
    "exo.set_regs([min_cpm_reg])\n",
    "exo.holdout_fit_predict(k=10);\n",
    "flux_splits = exo.get_aperture_lc(data_type=\"raw\", split=True)\n",
    "splits = exo.get_aperture_lc(data_type=\"cpm_subtracted_flux\", split=True)\n",
    "f, axs = plt.subplots(2, 1, sharex=True, figsize=(18, 8))\n",
    "for time, split, f_split in zip(exo.split_times, splits, flux_splits):\n",
    "    axs[0].plot(time, f_split, \".\")\n",
    "    axs[0].set_ylabel(\"Original Flux\", fontsize=15)\n",
    "    axs[1].plot(time, split)\n",
    "    axs[1].set_ylabel(\"Detrended Flux\", fontsize=15)\n",
    "    axs[1].set_xlabel( \"Time [BTJD]\", fontsize=15)\n",
    "# plt.savefig(\"Exoplanet_LC.png\", dpi=200)"
   ]
  },
  {
   "cell_type": "code",
   "execution_count": null,
   "metadata": {},
   "outputs": [],
   "source": [
    "print(min_cpm_reg)\n",
    "exo.set_regs([min_cpm_reg])\n",
    "exo.holdout_fit_predict(k=10);\n",
    "flux_splits = exo.get_aperture_lc(data_type=\"raw\", split=True)\n",
    "splits = exo.get_aperture_lc(data_type=\"cpm_subtracted_flux\", split=True)\n",
    "f, axs = plt.subplots(2, 1, sharex=True, figsize=(18, 8))\n",
    "for time, split, f_split in zip(exo.split_times, splits, flux_splits):\n",
    "    axs[0].plot(time, f_split, \".\")\n",
    "    axs[0].set_ylabel(\"Original Flux\", fontsize=15)\n",
    "    axs[1].plot(time, split)\n",
    "    axs[1].set_ylabel(\"Detrended Flux\", fontsize=15)\n",
    "    axs[1].set_xlabel( \"Time [BTJD]\", fontsize=15)\n",
    "# plt.savefig(\"Exoplanet_LC.png\", dpi=200)"
   ]
  },
  {
   "cell_type": "code",
   "execution_count": null,
   "metadata": {},
   "outputs": [],
   "source": [
    "lc = lk.TessLightCurve(time=exo.time[~outliers], flux=apt_lc[~outliers])\n",
    "# lc.plot(normalize=False)\n",
    "# lc.normalize()\n",
    "# np.nanmedian(lc.flux)\n",
    "# np.nanstd(lc.flux)\n",
    "# np.abs(np.nanmedian(lc.flux)) < 0.5*np.nanstd(lc.flux)\n",
    "lc.plot()\n",
    "lc.estimate_cdpp()\n",
    "# a = lc.flatten()\n",
    "# a"
   ]
  },
  {
   "cell_type": "code",
   "execution_count": null,
   "metadata": {},
   "outputs": [],
   "source": [
    "# split_cpm_subtracted_lc = exo.get_aperture_lc(split=True, data_type=\"cpm_subtracted_lc\")\n",
    "# cpm_subtracted_lc = exo.get_aperture_lc(data_type=\"cpm_subtracted_lc\")\n",
    "\n",
    "# for t, l in zip(exo.split_times, split_cpm_subtracted_lc):\n",
    "#     plt.plot(t, l)"
   ]
  },
  {
   "cell_type": "code",
   "execution_count": null,
   "metadata": {},
   "outputs": [],
   "source": [
    "# TIC 29857954\n",
    "tic = tess_cpm.Source(f2, remove_bad=True)\n",
    "# tic.set_aperture(rowlims=[28, 36], collims=[28, 36])  # full aperture\n",
    "tic.set_aperture(rowlims=[32, 33], collims=[31, 33])  # not full aperture\n",
    "# tic.set_aperture(rowlims=[33, 33], collims=[32, 32])  # central pixel\n",
    "\n",
    "\n",
    "tic.plot_cutout(show_aperture=True);\n",
    "tic.add_cpm_model(n=256)\n",
    "# tic.add_poly_model()\n",
    "tic.set_regs([0.01])\n",
    "tic.holdout_fit_predict(k=100);\n",
    "tic.plot_pix_by_pix();\n",
    "# tic.plot_pix_by_pix(\"normalized_flux\");\n",
    "# tic.plot_pix_by_pix(\"cpm_prediction\", split=True);\n",
    "\n",
    "# tic.plot_pix_by_pix(\"cpm_subtracted_flux\", split=True);\n",
    "# tic.plot_pix_by_pix(\"poly_model_prediction\", split=True);\n",
    "\n",
    "# no_mask_tic_lc = tic.get_aperture_lc(\"cpm_subtracted_flux\")\n",
    "no_mask_tic_lc = tic.get_aperture_lc(\"rescaled_cpm_subtracted_flux\")\n",
    "\n",
    "plt.plot(tic.time, no_mask_tic_lc)\n",
    "\n",
    "# There's already one known asteroid crossing in the aperture for this source around 1338.\n",
    "# Is there another one around the top left corner at 1347?"
   ]
  },
  {
   "cell_type": "code",
   "execution_count": null,
   "metadata": {},
   "outputs": [],
   "source": [
    "# TIC 29857954\n",
    "# With Polynomial\n",
    "with_poly = tess_cpm.Source(f2, remove_bad=True)\n",
    "# with_poly.set_aperture(rowlims=[28, 36], collims=[28, 36])  # full aperture\n",
    "with_poly.set_aperture(rowlims=[32, 33], collims=[31, 33])  # not full aperture\n",
    "# with_poly.set_aperture(rowlims=[33, 33], collims=[32, 32])  # central pixel\n",
    "\n",
    "# with_poly.plot_cutout(show_aperture=True);\n",
    "with_poly.add_cpm_model(n=256)\n",
    "with_poly.add_poly_model()\n",
    "with_poly.set_regs([0.01, 0.01])\n",
    "with_poly.holdout_fit_predict(k=100);\n",
    "# with_poly.plot_pix_by_pix();\n",
    "# with_poly.plot_pix_by_pix(\"normalized_flux\");\n",
    "# with_poly.plot_pix_by_pix(\"cpm_prediction\", split=True);\n",
    "\n",
    "# with_poly.plot_pix_by_pix(\"cpm_subtracted_flux\", split=True);\n",
    "# with_poly.plot_pix_by_pix(\"poly_model_prediction\", split=True);\n",
    "\n",
    "\n",
    "detrended_lc_with_poly = with_poly.get_aperture_lc(\"cpm_subtracted_flux\")\n",
    "poly_pred = with_poly.get_aperture_lc(\"poly_model_prediction\")\n",
    "intercept_pred = with_poly.get_aperture_lc(\"intercept_prediction\")\n",
    "plt.plot(with_poly.time, detrended_lc_with_poly)\n",
    "plt.plot(with_poly.time, detrended_lc_with_poly-poly_pred)\n",
    "\n",
    "# There's already one known asteroid crossing in the aperture for this source around 1338.\n",
    "# Is there another one around the top left corner at 1347?"
   ]
  },
  {
   "cell_type": "code",
   "execution_count": null,
   "metadata": {},
   "outputs": [],
   "source": [
    "plt.plot(with_poly.time, detrended_lc_with_poly, alpha=0.9, lw=1, label=\"CPM Subtracted Flux (Simultaneous Fit with Poly Model)\")\n",
    "plt.plot(with_poly.time, detrended_lc_with_poly-poly_pred, alpha=0.9, lw=1, label=\"CPM&Poly Subtracted Flux (Simultanesous Fit with Poly Model)\")\n",
    "# plt.plot(tic.time, no_mask_tic_lc, alpha=0.6, lw=1, label=\"CPM Subtracted Flux (No Poly Model)\")\n",
    "plt.legend(fontsize=10, markerscale=2)\n",
    "# plt.savefig(\"TIC29857954_different_model_lcs.pdf\", bbox_inches=\"tight\")"
   ]
  },
  {
   "cell_type": "code",
   "execution_count": null,
   "metadata": {},
   "outputs": [],
   "source": [
    "plt.plot(with_poly.time, detrended_lc_with_poly-poly_pred-no_mask_tic_lc, \"k.\", ms=1, alpha=0.9, lw=1, label=\"Orange - Green\")\n",
    "plt.legend(fontsize=10, markerscale=2)\n",
    "# plt.savefig(\"TIC29857954_difference_in_detrended_lcs.pdf\", bbox_inches=\"tight\")"
   ]
  },
  {
   "cell_type": "code",
   "execution_count": null,
   "metadata": {},
   "outputs": [],
   "source": [
    "poly_pred = tic.get_aperture_lc(\"poly_model_prediction\")\n",
    "plt.plot(tic.time, no_mask_tic_lc, \"-\")\n",
    "plt.plot(tic.time, no_mask_tic_lc-poly_pred, \"-\")"
   ]
  },
  {
   "cell_type": "code",
   "execution_count": null,
   "metadata": {},
   "outputs": [],
   "source": [
    "no_mask_tic_lc.shape\n",
    "\n",
    "outliers = tic.get_outliers(sigma_upper=1.5, sigma_lower=1.5, window=30)\n",
    "plt.plot(tic.time, no_mask_tic_lc)\n",
    "# s = (tic.time > 1347) * (tic.time < 1350) + (tic.time > 1353)\n",
    "# 338<Time<1339 and 1346.8<Time<1348.6\n",
    "# s = ((tic.time > 1338) * (tic.time < 1339)) + ((tic.time > 1346.8) * (tic.time < 1348.6))\n",
    "# asteroid = ((tic.time > 1338)) * (tic.time < 1339)\n",
    "# outliers[asteroid] = True\n",
    "\n",
    "# not_outliers = tic.time > 1347.\n",
    "# outliers[not_outliers] = False\n",
    "\n",
    "plt.plot(tic.time[outliers], no_mask_tic_lc[outliers], \"x\", c=\"red\")\n",
    "plt.plot(tic.time[~outliers], no_mask_tic_lc[~outliers], c=\"green\")"
   ]
  },
  {
   "cell_type": "code",
   "execution_count": null,
   "metadata": {},
   "outputs": [],
   "source": [
    "tic.holdout_fit_predict(k=100, mask=~outliers);\n",
    "# tic.plot_pix_by_pix(\"rescaled_cpm_subtracted_flux\", split=True)"
   ]
  },
  {
   "cell_type": "code",
   "execution_count": null,
   "metadata": {},
   "outputs": [],
   "source": [
    "# tic_lc = tic.get_aperture_lc(\"rescaled_cpm_subtracted_flux\")\n",
    "mask_tic_lc = tic.get_aperture_lc(\"cpm_subtracted_flux\")\n",
    "# plt.plot(tic.time[~s], tic_lc[~s])\n",
    "plt.plot(tic.time, mask_tic_lc+1, alpha=0.3)\n",
    "plt.plot(tic.time, no_mask_tic_lc+1, alpha=0.3)\n",
    "\n",
    "plt.ylim([0.995, 1.005])"
   ]
  },
  {
   "cell_type": "code",
   "execution_count": null,
   "metadata": {},
   "outputs": [],
   "source": [
    "plt.figure(figsize=(16, 10))\n",
    "\n",
    "plt.plot(tic.time, mask_tic_lc+1, c=\"k\")\n",
    "plt.xlabel(\"Time - 2457000 [Days]\", fontsize=30)\n",
    "plt.ylabel(\"Renormalized CPM Flux\", fontsize=30)\n",
    "plt.title(\"TOI-172 (TIC 29857954)\", y=1, fontsize=40)\n",
    "plt.tick_params(labelsize=20)\n",
    "plt.ylim([0.995, 1.005])\n",
    "# plt.savefig(\"TOI172.png\", dpi=300)"
   ]
  },
  {
   "cell_type": "code",
   "execution_count": null,
   "metadata": {},
   "outputs": [],
   "source": []
  },
  {
   "cell_type": "code",
   "execution_count": null,
   "metadata": {},
   "outputs": [],
   "source": [
    "# lc.to_csv(\"/home/soichiro/code/tessninja3/cpm_lc.csv\")"
   ]
  },
  {
   "cell_type": "code",
   "execution_count": null,
   "metadata": {},
   "outputs": [],
   "source": [
    "# transits = tic.get_outliers(sigma_lower=1.5, sigma_upper=10, window=20)\n",
    "# # tic.get_outliers?\n",
    "# plt.plot(tic.time, tic_lc, \"k\")\n",
    "# plt.plot(tic.time[transits], tic_lc[transits], \"x\", c=\"r\")"
   ]
  },
  {
   "cell_type": "code",
   "execution_count": null,
   "metadata": {},
   "outputs": [],
   "source": [
    "coarse1 = (tic.time > 1338) & (tic.time < 1339)\n",
    "coarse2 = (tic.time > 1346.8) & (tic.time < 1348.6) \n",
    "coarse = coarse1 + coarse2\n",
    "\n",
    "half_duration = 0.2\n",
    "period = 9.47\n",
    "transit1 = (tic.time > (1326.9-half_duration)) & (tic.time < (1326.9+half_duration))\n",
    "transit2 = (tic.time > (1326.9+period-half_duration)) & (tic.time < (1326.9+period+half_duration))\n",
    "transit3 = (tic.time > (1326.9+2*period-half_duration)) & (tic.time < (1326.9+2*period+half_duration))\n",
    "transits = transit1 + transit2 + transit3\n",
    "\n",
    "flag = coarse + transits"
   ]
  },
  {
   "cell_type": "code",
   "execution_count": null,
   "metadata": {},
   "outputs": [],
   "source": [
    "plt.plot(tic.time, tic_lc, \"k.\")\n",
    "# plt.plot(tic.time[coarse], tic_lc[coarse], \"x\", c=\"r\")\n",
    "# plt.plot(tic.time[transits], tic_lc[transits], \"x\", c=\"r\")\n",
    "plt.plot(tic.time[flag], tic_lc[flag], \"x\", c=\"r\")"
   ]
  },
  {
   "cell_type": "code",
   "execution_count": null,
   "metadata": {},
   "outputs": [],
   "source": [
    "lc = lk.TessLightCurve(time=tic.time, flux=tic_lc / np.nanmedian(tic_lc))\n",
    "lc.plot()"
   ]
  },
  {
   "cell_type": "code",
   "execution_count": null,
   "metadata": {},
   "outputs": [],
   "source": [
    "lc = lk.TessLightCurve(time=tic.time[~flag], flux=tic_lc[~flag] / np.nanmedian(tic_lc[~flag]))\n",
    "lc.plot()\n",
    "lc.estimate_cdpp(transit_duration=12)"
   ]
  },
  {
   "cell_type": "code",
   "execution_count": null,
   "metadata": {},
   "outputs": [],
   "source": [
    "# plt.plot(tic.time, tic_lc+1)"
   ]
  },
  {
   "cell_type": "code",
   "execution_count": null,
   "metadata": {},
   "outputs": [],
   "source": [
    "# lc = lk.TessLightCurve(time=tic.time[~s], flux=(tic_lc)[~s] / np.nanmedian(tic_lc[~s]))\n",
    "# lc = lk.TessLightCurve(time=tic.time[~asteroid], flux=(tic_lc[~asteroid] / np.nanmedian(tic_lc[~asteroid])))\n",
    "\n",
    "# lc = lk.TessLightCurve(time=tic.time[~outliers], flux=(tic_lc+1)[~outliers])"
   ]
  },
  {
   "cell_type": "code",
   "execution_count": null,
   "metadata": {},
   "outputs": [],
   "source": [
    "lc.plot()\n",
    "cleaned_lc = lc.remove_outliers(sigma=5)\n",
    "cleaned_lc.plot()"
   ]
  },
  {
   "cell_type": "code",
   "execution_count": null,
   "metadata": {},
   "outputs": [],
   "source": [
    "cleaned_lc.estimate_cdpp(transit_duration=12)"
   ]
  },
  {
   "cell_type": "code",
   "execution_count": null,
   "metadata": {},
   "outputs": [],
   "source": [
    "f_lc = lc.flatten()"
   ]
  },
  {
   "cell_type": "code",
   "execution_count": null,
   "metadata": {},
   "outputs": [],
   "source": [
    "f_lc.plot()"
   ]
  },
  {
   "cell_type": "code",
   "execution_count": null,
   "metadata": {},
   "outputs": [],
   "source": [
    "f_lc.estimate_cdpp(transit_duration=12)"
   ]
  },
  {
   "cell_type": "code",
   "execution_count": null,
   "metadata": {},
   "outputs": [],
   "source": []
  }
 ],
 "metadata": {
  "kernelspec": {
   "display_name": "Python 3",
   "language": "python",
   "name": "python3"
  },
  "language_info": {
   "codemirror_mode": {
    "name": "ipython",
    "version": 3
   },
   "file_extension": ".py",
   "mimetype": "text/x-python",
   "name": "python",
   "nbconvert_exporter": "python",
   "pygments_lexer": "ipython3",
   "version": "3.7.8"
  }
 },
 "nbformat": 4,
 "nbformat_minor": 4
}
