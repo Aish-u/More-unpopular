{
 "cells": [
  {
   "cell_type": "code",
   "execution_count": null,
   "metadata": {},
   "outputs": [],
   "source": [
    "%matplotlib inline\n",
    "import tess_cpm\n",
    "import numpy as np\n",
    "import matplotlib.pyplot as plt\n",
    "import lightkurve as lk\n",
    "from astropy.io import fits\n",
    "from astropy.wcs import WCS"
   ]
  },
  {
   "cell_type": "code",
   "execution_count": null,
   "metadata": {},
   "outputs": [],
   "source": [
    "def cpm_periodogram(fits_file, t_row=50, t_col=50):\n",
    "    cpm = tess_cpm.CPM(fits_file, remove_bad=True)\n",
    "    cpm.set_target(t_row, t_col)\n",
    "    cpm.set_exclusion(10)\n",
    "    cpm.set_predictor_pixels(256, method='cosine_similarity')\n",
    "    cpm.lsq(0.1, rescale=True, polynomials=False)\n",
    "    tess_cpm.summary_plot(cpm, 10)\n",
    "    aperture_lc, lc_matrix = cpm.get_aperture_lc(box=1, show_pixel_lc=True, show_aperture_lc=True)\n",
    "    lc = lk.LightCurve(time=cpm.time, flux=aperture_lc)\n",
    "    pg = lc.to_periodogram(oversample_factor=10)\n",
    "    fig, axs = plt.subplots(2, 1, figsize=(15, 8))\n",
    "    pg.plot(ax=axs[0], c='k')\n",
    "    pg.plot(ax=axs[1], c='k', view='period')\n",
    "    fig.suptitle(\"Periodogram\", fontsize=20, y=0.95)\n",
    "    period = pg.period_at_max_power\n",
    "    print(f\"Max Power Period: {period}\")\n",
    "    lc.fold(period.value*4).scatter()\n",
    "    plt.title(f\"Folded Lightcurve with Period: {period:.4f}\", fontsize=20)\n",
    "    return cpm"
   ]
  },
  {
   "cell_type": "code",
   "execution_count": null,
   "metadata": {},
   "outputs": [],
   "source": [
    "f = \"variable_stars/tess-s0011-2-1_187.917900_-59.423900_100x100_astrocut.fits\"  # * 35 Cru -- Classical Cepheid (delta Cep type)"
   ]
  },
  {
   "cell_type": "code",
   "execution_count": null,
   "metadata": {},
   "outputs": [],
   "source": [
    "# cpm = tess_cpm.CPM(f, remove_bad=True)\n",
    "# cpm.set_target_exclusion_predictors(50, 50)\n",
    "# cpm.xval(0.5);"
   ]
  },
  {
   "cell_type": "code",
   "execution_count": null,
   "metadata": {},
   "outputs": [],
   "source": [
    "# v = tess_cpm.CPM(f, remove_bad=True)\n",
    "cpm_periodogram(f, t_row=50, t_col=48)"
   ]
  },
  {
   "cell_type": "code",
   "execution_count": null,
   "metadata": {},
   "outputs": [],
   "source": [
    "v.set_poly_model(1, 4, 0.5)\n",
    "v.set_target(51, 49)\n",
    "v.set_exclusion(10)\n",
    "v.set_predictor_pixels(256)"
   ]
  },
  {
   "cell_type": "code",
   "execution_count": null,
   "metadata": {},
   "outputs": [],
   "source": [
    "v.lsq(0.5, rescale=True, polynomials=True)"
   ]
  },
  {
   "cell_type": "code",
   "execution_count": null,
   "metadata": {},
   "outputs": [],
   "source": [
    "tess_cpm.summary_plot(v, 20, subtract_polynomials=True)"
   ]
  },
  {
   "cell_type": "code",
   "execution_count": null,
   "metadata": {},
   "outputs": [],
   "source": [
    "v.get_aperture_lc(show_pixel_lc=True, show_aperture_lc=True)\n",
    "\n",
    "type(None)"
   ]
  },
  {
   "cell_type": "code",
   "execution_count": null,
   "metadata": {},
   "outputs": [],
   "source": [
    "v.sigma_clip_process(3)\n",
    "tess_cpm.summary_plot(v, 20, subtract_polynomials=True)"
   ]
  },
  {
   "cell_type": "code",
   "execution_count": null,
   "metadata": {},
   "outputs": [],
   "source": []
  }
 ],
 "metadata": {
  "kernelspec": {
   "display_name": "Python 3",
   "language": "python",
   "name": "python3"
  },
  "language_info": {
   "codemirror_mode": {
    "name": "ipython",
    "version": 3
   },
   "file_extension": ".py",
   "mimetype": "text/x-python",
   "name": "python",
   "nbconvert_exporter": "python",
   "pygments_lexer": "ipython3",
   "version": "3.7.2"
  }
 },
 "nbformat": 4,
 "nbformat_minor": 4
}
