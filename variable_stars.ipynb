{
 "cells": [
  {
   "cell_type": "code",
   "execution_count": null,
   "metadata": {},
   "outputs": [],
   "source": [
    "%matplotlib inline\n",
    "import tess_cpm\n",
    "import numpy as np\n",
    "import matplotlib.pyplot as plt\n",
    "import lightkurve as lk\n",
    "from astropy.io import fits\n",
    "from astropy.wcs import WCS"
   ]
  },
  {
   "cell_type": "code",
   "execution_count": null,
   "metadata": {},
   "outputs": [],
   "source": [
    "plt.rcParams[\"figure.figsize\"] = (12, 8)"
   ]
  },
  {
   "cell_type": "code",
   "execution_count": null,
   "metadata": {},
   "outputs": [],
   "source": [
    "sector3_file = \"variable_stars/tess-s0003-4-4_97.096787_-65.579312_32x32_astrocut.fits\"\n",
    "sector4_file = \"variable_stars/tess-s0004-4-4_97.096787_-65.579312_32x32_astrocut.fits\"\n",
    "sector5_file = \"variable_stars/tess-s0005-4-4_97.096787_-65.579312_32x32_astrocut.fits\"\n",
    "sector6_file = \"variable_stars/tess-s0006-4-1_97.096787_-65.579312_32x32_astrocut.fits\"\n",
    "sector7_file = \"variable_stars/tess-s0007-4-1_97.096787_-65.579312_32x32_astrocut.fits\"\n",
    "sector8_file = \"variable_stars/tess-s0008-4-1_97.096787_-65.579312_32x32_astrocut.fits\"\n",
    "sector9_file = \"variable_stars/tess-s0009-4-2_97.096787_-65.579312_32x32_astrocut.fits\"\n",
    "sector10_file = \"variable_stars/tess-s0010-4-2_97.096787_-65.579312_32x32_astrocut.fits\"\n",
    "sector11_file = \"variable_stars/tess-s0011-4-2_97.096787_-65.579312_32x32_astrocut.fits\"\n",
    "# sector12_file = \"variable_stars/tess-s0012-4-2_97.096787_-65.579312_32x32_astrocut.fits\""
   ]
  },
  {
   "cell_type": "code",
   "execution_count": null,
   "metadata": {},
   "outputs": [],
   "source": [
    "k=100  # number to determine how many chunks to divide each sector into (k-fold X-validation)"
   ]
  },
  {
   "cell_type": "code",
   "execution_count": null,
   "metadata": {},
   "outputs": [],
   "source": [
    "sector3 = tess_cpm.Source(sector3_file, remove_bad=True)\n",
    "sector3.plot_cutout();\n",
    "sector3.set_aperture(rowlims=[15, 17], collims=[15, 17])\n",
    "sector3.plot_cutout(rowlims=[14, 18], collims=[14, 18], show_aperture=True);\n",
    "sector3.plot_pix_by_pix();\n",
    "sector3.add_cpm_model();\n",
    "sector3.add_poly_model();\n",
    "sector3.set_regs([0.01, 0.1])"
   ]
  },
  {
   "cell_type": "code",
   "execution_count": null,
   "metadata": {},
   "outputs": [],
   "source": [
    "sector3.holdout_fit_predict(k=k);\n",
    "sector3.plot_pix_by_pix(data_type=\"cpm_subtracted_flux\");"
   ]
  },
  {
   "cell_type": "code",
   "execution_count": null,
   "metadata": {},
   "outputs": [],
   "source": [
    "sector3_lc = sector3.get_aperture_lc(data_type=\"cpm_subtracted_flux\")\n",
    "plt.plot(sector3.time, sector3_lc)"
   ]
  },
  {
   "cell_type": "code",
   "execution_count": null,
   "metadata": {},
   "outputs": [],
   "source": [
    "sector4 = tess_cpm.Source(sector4_file, remove_bad=True)\n",
    "sector4.plot_cutout();\n",
    "sector4.set_aperture(rowlims=[16, 17], collims=[15, 17])\n",
    "sector4.plot_cutout(rowlims=[14, 18], collims=[14, 18], show_aperture=True);\n",
    "sector4.plot_pix_by_pix();\n",
    "sector4.add_cpm_model();\n",
    "sector4.add_poly_model();\n",
    "sector4.set_regs([0.01, 0.1])"
   ]
  },
  {
   "cell_type": "code",
   "execution_count": null,
   "metadata": {},
   "outputs": [],
   "source": [
    "sector4.holdout_fit_predict(k=k);\n",
    "sector4.plot_pix_by_pix(data_type=\"cpm_prediction\");\n",
    "sector4.plot_pix_by_pix(data_type=\"cpm_subtracted_flux\");"
   ]
  },
  {
   "cell_type": "code",
   "execution_count": null,
   "metadata": {},
   "outputs": [],
   "source": [
    "sector4_lc = sector4.get_aperture_lc(data_type=\"cpm_subtracted_flux\")\n",
    "plt.plot(sector4.time, sector4_lc)"
   ]
  },
  {
   "cell_type": "code",
   "execution_count": null,
   "metadata": {},
   "outputs": [],
   "source": [
    "sector5 = tess_cpm.Source(sector5_file, remove_bad=True)\n",
    "sector5.plot_cutout();\n",
    "sector5.set_aperture(rowlims=[16, 16], collims=[16, 16])\n",
    "sector5.plot_cutout(rowlims=[14, 18], collims=[14, 18], show_aperture=True)\n",
    "sector5.plot_pix_by_pix();\n",
    "sector5.add_cpm_model();\n",
    "sector5.add_poly_model();\n",
    "sector5.set_regs([0.01, 0.01])"
   ]
  },
  {
   "cell_type": "code",
   "execution_count": null,
   "metadata": {},
   "outputs": [],
   "source": [
    "sector5.holdout_fit_predict(k=k);\n",
    "sector5.plot_pix_by_pix(data_type=\"cpm_subtracted_flux\");"
   ]
  },
  {
   "cell_type": "code",
   "execution_count": null,
   "metadata": {},
   "outputs": [],
   "source": [
    "sector5_lc = sector5.get_aperture_lc(data_type=\"cpm_subtracted_flux\")\n",
    "plt.plot(sector5.time, sector5_lc)"
   ]
  },
  {
   "cell_type": "code",
   "execution_count": null,
   "metadata": {},
   "outputs": [],
   "source": [
    "sector5.models[0][0].plot_model()"
   ]
  },
  {
   "cell_type": "code",
   "execution_count": null,
   "metadata": {},
   "outputs": [],
   "source": []
  },
  {
   "cell_type": "code",
   "execution_count": null,
   "metadata": {},
   "outputs": [],
   "source": []
  },
  {
   "cell_type": "code",
   "execution_count": null,
   "metadata": {},
   "outputs": [],
   "source": [
    "sector6 = tess_cpm.Source(sector6_file, remove_bad=True)\n",
    "sector6.plot_cutout();\n",
    "sector6.set_aperture(rowlims=[14, 16], collims=[15, 16])\n",
    "# sector6.set_aperture(rowlims=[14, 17], collims=[15, 17])\n",
    "\n",
    "sector6.plot_cutout(rowlims=[13, 18], collims=[13, 18], show_aperture=True)\n",
    "sector6.plot_pix_by_pix();\n",
    "sector6.add_cpm_model();\n",
    "sector6.add_poly_model();\n",
    "sector6.set_regs([0.0001, 0.1])\n",
    "# sector6.set_regs([0.01])"
   ]
  },
  {
   "cell_type": "code",
   "execution_count": null,
   "metadata": {},
   "outputs": [],
   "source": [
    "sector6.holdout_fit_predict(k=k);\n",
    "sector6.plot_pix_by_pix(data_type=\"cpm_subtracted_flux\");\n",
    "outliers = sector6.get_outliers(window=10, sigma_upper=5, sigma_lower=0.8)\n",
    "sector6.holdout_fit_predict(k=k, mask=~outliers);"
   ]
  },
  {
   "cell_type": "code",
   "execution_count": null,
   "metadata": {},
   "outputs": [],
   "source": [
    "sector6_lc = sector6.get_aperture_lc(data_type=\"cpm_subtracted_flux\")\n",
    "plt.plot(sector6.time, sector6_lc)\n",
    "clip = np.abs(sector6_lc) > 5*np.std(sector6_lc)\n",
    "plt.plot(sector6.time[~clip], sector6_lc[~clip])"
   ]
  },
  {
   "cell_type": "code",
   "execution_count": null,
   "metadata": {},
   "outputs": [],
   "source": [
    "sector7 = tess_cpm.Source(sector7_file, remove_bad=True)\n",
    "sector7.plot_cutout();\n",
    "sector7.set_aperture(rowlims=[15, 17], collims=[16, 17])\n",
    "sector7.plot_cutout(rowlims=[13, 18], collims=[13, 18], show_aperture=True)\n",
    "sector7.plot_pix_by_pix();\n",
    "sector7.add_cpm_model();\n",
    "sector7.add_poly_model();\n",
    "sector7.set_regs([0.01, 0.1])"
   ]
  },
  {
   "cell_type": "code",
   "execution_count": null,
   "metadata": {},
   "outputs": [],
   "source": [
    "sector7.holdout_fit_predict(k=k);\n",
    "sector7.plot_pix_by_pix(data_type=\"cpm_subtracted_flux\");"
   ]
  },
  {
   "cell_type": "code",
   "execution_count": null,
   "metadata": {},
   "outputs": [],
   "source": [
    "sector7_lc = sector7.get_aperture_lc(data_type=\"cpm_subtracted_flux\")\n",
    "plt.plot(sector7.time, sector7_lc)"
   ]
  },
  {
   "cell_type": "code",
   "execution_count": null,
   "metadata": {},
   "outputs": [],
   "source": [
    "sector8 = tess_cpm.Source(sector8_file, remove_bad=True)\n",
    "sector8.plot_cutout();\n",
    "sector8.set_aperture(rowlims=[15, 16], collims=[15, 17])\n",
    "sector8.plot_cutout(rowlims=[13, 18], collims=[13, 18], show_aperture=True)\n",
    "sector8.plot_pix_by_pix();\n",
    "sector8.add_cpm_model();\n",
    "sector8.add_poly_model();\n",
    "sector8.set_regs([0.01, 0.1])"
   ]
  },
  {
   "cell_type": "code",
   "execution_count": null,
   "metadata": {},
   "outputs": [],
   "source": [
    "sector8.holdout_fit_predict(k=k);\n",
    "sector8.plot_pix_by_pix(data_type=\"cpm_subtracted_flux\");"
   ]
  },
  {
   "cell_type": "code",
   "execution_count": null,
   "metadata": {},
   "outputs": [],
   "source": [
    "sector8_lc = sector8.get_aperture_lc(data_type=\"cpm_subtracted_flux\")\n",
    "plt.plot(sector8.time, sector8_lc)"
   ]
  },
  {
   "cell_type": "code",
   "execution_count": null,
   "metadata": {},
   "outputs": [],
   "source": [
    "sector9 = tess_cpm.Source(sector9_file, remove_bad=True)\n",
    "sector9.plot_cutout();\n",
    "sector9.set_aperture(rowlims=[14, 16], collims=[16, 17])\n",
    "sector9.plot_cutout(rowlims=[13, 18], collims=[13, 18], show_aperture=True)\n",
    "sector9.plot_pix_by_pix();\n",
    "sector9.add_cpm_model();\n",
    "sector9.add_poly_model();\n",
    "sector9.set_regs([0.01, 0.1])"
   ]
  },
  {
   "cell_type": "code",
   "execution_count": null,
   "metadata": {},
   "outputs": [],
   "source": [
    "sector9.holdout_fit_predict(k=k);\n",
    "sector9.plot_pix_by_pix(data_type=\"cpm_subtracted_flux\");"
   ]
  },
  {
   "cell_type": "code",
   "execution_count": null,
   "metadata": {},
   "outputs": [],
   "source": [
    "sector9_lc = sector9.get_aperture_lc(data_type=\"cpm_subtracted_flux\")\n",
    "plt.plot(sector9.time, sector9_lc)"
   ]
  },
  {
   "cell_type": "code",
   "execution_count": null,
   "metadata": {},
   "outputs": [],
   "source": [
    "sector10 = tess_cpm.Source(sector10_file, remove_bad=True)\n",
    "sector10.plot_cutout();\n",
    "sector10.set_aperture(rowlims=[15, 16], collims=[16, 17])\n",
    "sector10.plot_cutout(rowlims=[13, 18], collims=[15, 18], show_aperture=True);\n",
    "sector10.plot_pix_by_pix();\n",
    "sector10.add_cpm_model();\n",
    "sector10.add_poly_model();\n",
    "sector10.set_regs([0.01, 0.1])"
   ]
  },
  {
   "cell_type": "code",
   "execution_count": null,
   "metadata": {},
   "outputs": [],
   "source": [
    "sector10.holdout_fit_predict(k=k);\n",
    "sector10.plot_pix_by_pix(data_type=\"cpm_subtracted_flux\");"
   ]
  },
  {
   "cell_type": "code",
   "execution_count": null,
   "metadata": {},
   "outputs": [],
   "source": [
    "sector10_lc = sector10.get_aperture_lc(data_type=\"cpm_subtracted_flux\")\n",
    "plt.plot(sector10.time, sector10_lc)"
   ]
  },
  {
   "cell_type": "code",
   "execution_count": null,
   "metadata": {},
   "outputs": [],
   "source": [
    "sector11 = tess_cpm.Source(sector11_file, remove_bad=True)\n",
    "sector11.plot_cutout();\n",
    "sector11.set_aperture(rowlims=[15, 17], collims=[16, 17])\n",
    "sector11.plot_cutout(rowlims=[13, 18], collims=[15, 18], show_aperture=True)\n",
    "sector11.plot_pix_by_pix();\n",
    "sector11.add_cpm_model();\n",
    "sector11.add_poly_model();\n",
    "sector11.set_regs([0.01, 0.1])"
   ]
  },
  {
   "cell_type": "code",
   "execution_count": null,
   "metadata": {},
   "outputs": [],
   "source": [
    "sector11.holdout_fit_predict(k=k);\n",
    "sector11.plot_pix_by_pix(data_type=\"cpm_subtracted_flux\");"
   ]
  },
  {
   "cell_type": "code",
   "execution_count": null,
   "metadata": {},
   "outputs": [],
   "source": [
    "sector11_lc = sector11.get_aperture_lc(data_type=\"cpm_subtracted_flux\")\n",
    "plt.plot(sector11.time, sector11_lc)"
   ]
  },
  {
   "cell_type": "code",
   "execution_count": null,
   "metadata": {},
   "outputs": [],
   "source": [
    "plt.plot(sector6.time[~clip], sector6_lc[~clip])\n",
    "plt.plot(sector7.time, sector7_lc)\n",
    "plt.plot(sector8.time, sector8_lc)\n",
    "plt.plot(sector9.time, sector9_lc)\n",
    "plt.plot(sector10.time, sector10_lc)\n",
    "plt.plot(sector11.time, sector11_lc)"
   ]
  },
  {
   "cell_type": "code",
   "execution_count": null,
   "metadata": {},
   "outputs": [],
   "source": [
    "# diff1, st1, slc1 = tess_cpm.utils.stitch_sectors(sector6.time[~clip], sector7.time, sector6_lc[~clip], sector7_lc, 2)\n",
    "# diff2, st2, slc2 = tess_cpm.utils.stitch_sectors(st1, sector8.time, slc1, sector8_lc, 100)\n",
    "# diff3, st3, slc3 = tess_cpm.utils.stitch_sectors(st2, sector9.time, slc2, sector9_lc, 100)\n",
    "# diff4, st4, slc4 = tess_cpm.utils.stitch_sectors(st3, sector10.time, slc3, sector10_lc, 100)\n",
    "# diff5, st5, slc5 = tess_cpm.utils.stitch_sectors(st4, sector11.time, slc4, sector11_lc, 100)\n",
    "# # diff, st4, slc4 = tess_cpm.utils.stitch_sectors(st3, sector12.time, slc3, sector12_lc, 100)"
   ]
  },
  {
   "cell_type": "code",
   "execution_count": null,
   "metadata": {},
   "outputs": [],
   "source": [
    "diff1, st1, slc1 = tess_cpm.utils.stitch_sectors(sector7.time, sector8.time, sector7_lc, sector8_lc, 100)\n",
    "diff2, st2, slc2 = tess_cpm.utils.stitch_sectors(st1, sector9.time, slc1, sector9_lc, 100)\n",
    "diff3, st3, slc3 = tess_cpm.utils.stitch_sectors(st2, sector10.time, slc2, sector10_lc, 100)\n",
    "diff4, st4, slc4 = tess_cpm.utils.stitch_sectors(st3, sector11.time, slc3, sector11_lc, 100)\n",
    "# diff5, st5, slc5 = tess_cpm.utils.stitch_sectors(st4, sector11.time, slc4, sector11_lc, 100)"
   ]
  },
  {
   "cell_type": "code",
   "execution_count": null,
   "metadata": {},
   "outputs": [],
   "source": [
    "plt.plot(sector6.time[~clip], sector6_lc[~clip]+0.01, \".\", c=\"k\")\n",
    "plt.plot(st4, slc4, c=\"k\")\n",
    "plt.plot()\n",
    "\n",
    "cheat_stitch_time = np.concatenate((sector6.time[~clip], st4))\n",
    "cheat_stitch_flux = np.concatenate((sector6_lc[~clip]+0.01, slc4))"
   ]
  },
  {
   "cell_type": "code",
   "execution_count": null,
   "metadata": {},
   "outputs": [],
   "source": [
    "plt.plot(cheat_stitch_time, cheat_stitch_flux)"
   ]
  },
  {
   "cell_type": "code",
   "execution_count": null,
   "metadata": {},
   "outputs": [],
   "source": [
    "p = np.polyfit(cheat_stitch_time, cheat_stitch_flux, 2)\n",
    "# plt.plot(cheat_stitch_time, fit)\n",
    "fit = p[0]*cheat_stitch_time**2 + p[1]*cheat_stitch_time + p[2]\n",
    "fit\n",
    "plt.plot(cheat_stitch_time , fit, c=\"C3\")"
   ]
  },
  {
   "cell_type": "code",
   "execution_count": null,
   "metadata": {},
   "outputs": [],
   "source": [
    "plt.plot(cheat_stitch_time, cheat_stitch_flux, c=\"k\")\n",
    "plt.plot(cheat_stitch_time, fit, \"-\",c=\"C3\")"
   ]
  },
  {
   "cell_type": "code",
   "execution_count": null,
   "metadata": {},
   "outputs": [],
   "source": [
    "plt.plot(sector6.time[~clip], sector6_lc[~clip])\n",
    "plt.plot(sector7.time, sector7_lc)\n",
    "# plt.plot(st1, slc1, \".\")"
   ]
  },
  {
   "cell_type": "code",
   "execution_count": null,
   "metadata": {},
   "outputs": [],
   "source": [
    "trend_rm = cheat_stitch_flux - fit\n",
    "plt.plot(cheat_stitch_time, trend_rm)"
   ]
  },
  {
   "cell_type": "code",
   "execution_count": null,
   "metadata": {},
   "outputs": [],
   "source": [
    "l = lk.LightCurve(time=cheat_stitch_time, flux=trend_rm+1)\n",
    "# l = l.bin()\n",
    "l.plot()\n",
    "\n",
    "pg = l.to_periodogram(oversample_factor=10)\n",
    "fig, axs = plt.subplots(2, 1, figsize=(15, 8))\n",
    "pg.plot(ax=axs[0], c='k')\n",
    "pg.plot(ax=axs[1], c='k', view='period')\n",
    "fig.suptitle(\"Periodogram\", fontsize=20, y=0.95)\n",
    "period = pg.period_at_max_power\n",
    "print(f\"Max Power Period: {period}\")\n",
    "f_lc = l.fold(period.value*1, t0=1570)\n",
    "f_lc.scatter()\n",
    "freq = pg.frequency_at_max_power\n",
    "plt.title(f\"Folded Lightcurve with Period: {period:.4f}\", fontsize=20)"
   ]
  },
  {
   "cell_type": "code",
   "execution_count": null,
   "metadata": {},
   "outputs": [],
   "source": [
    "plt.figure(figsize=(16, 10))\n",
    "plt.plot(l.time, l.flux, \".\", ms=4, c=\"k\", label=\"Detrended Light Curve\")\n",
    "# plt.plot(f_lc.phase, 0.01*np.sin(2*np.pi*cheat_stitch_time/50.1881+0.5*np.pi)+1, \".\", c=\"red\", lw=10, label=\"\")\n",
    "print(period.value)\n",
    "phase = (2*np.pi/period.value)*cheat_stitch_time\n",
    "true_phase = (2*np.pi/54)*cheat_stitch_time\n",
    "# plt.plot(phase, 0.01*np.sin(phase)+1, \".\",c=\"red\", lw=10, label=\"\")\n",
    "plt.plot(l.time, 0.015*np.sin(phase+1.4*np.pi)+1, \"-\",c=\"C3\", lw=5, label=\"P=50.1881 [Days]\")\n",
    "plt.plot(l.time, 0.015*np.sin(true_phase+1.6*np.pi)+1, \"--\",c=\"C1\", lw=5, label=\"P=54.0 [Days]\")\n",
    "\n",
    "plt.legend(fontsize=30, markerscale=10);\n",
    "plt.tick_params(labelsize=20);\n",
    "plt.xlabel(\"Time - 2457000 [Days]\", fontsize=30)\n",
    "plt.ylabel(\"Re-centered CPM Flux\", fontsize=30)\n",
    "plt.title(\"TOI 700 (TIC 150428135)\", fontsize=35)\n",
    "# plt.savefig(\"TOI-700.png\", dpi=200)"
   ]
  },
  {
   "cell_type": "code",
   "execution_count": null,
   "metadata": {},
   "outputs": [],
   "source": [
    "f_lc.plot()\n",
    "print(f_lc.flux.size, cheat_stitch_flux.size)"
   ]
  },
  {
   "cell_type": "code",
   "execution_count": null,
   "metadata": {},
   "outputs": [],
   "source": [
    "plt.plot(cheat_stitch_time)"
   ]
  },
  {
   "cell_type": "code",
   "execution_count": null,
   "metadata": {},
   "outputs": [],
   "source": [
    "plt.plot(f_lc.time_original)"
   ]
  },
  {
   "cell_type": "code",
   "execution_count": null,
   "metadata": {},
   "outputs": [],
   "source": [
    "plt.plot(st5, slc5, c=\"k\")\n",
    "plt.plot(sector6.time[~clip], sector6_lc[~clip])\n",
    "plt.plot(sector6.time[~clip], sector6_lc[~clip] + diff1)\n",
    "# plt.plot(sector6.time[~clip], sector6_lc[~clip] - diff1)\n",
    "plt.plot(st5, slc5, c=\"k\")\n"
   ]
  },
  {
   "cell_type": "code",
   "execution_count": null,
   "metadata": {},
   "outputs": [],
   "source": [
    "lc = lk.LightCurve(time=np.concatenate((sector6.time[~clip], st4)), flux=np.concatenate((sector6_lc[~clip]+0.01, slc4)))\n",
    "# lc = lc.flatten()\n",
    "lc.plot()\n",
    "\n",
    "# lc.to_csv(\"cpm_stitched_lc_toi700.csv\")\n",
    "\n",
    "# pg = lc.to_periodogram(oversample_factor=100)\n",
    "# fig, axs = plt.subplots(2, 1, figsize=(15, 8))\n",
    "# pg.plot(ax=axs[0], c='k')\n",
    "# pg.plot(ax=axs[1], c='k', view='period')\n",
    "# fig.suptitle(\"Periodogram\", fontsize=20, y=0.95)\n",
    "# period = pg.period_at_max_power\n",
    "# print(f\"Max Power Period: {period}\")\n",
    "# lc.fold(period.value*1).scatter()\n",
    "# plt.title(f\"Folded Lightcurve with Period: {period:.4f}\", fontsize=20)"
   ]
  },
  {
   "cell_type": "code",
   "execution_count": null,
   "metadata": {},
   "outputs": [],
   "source": []
  },
  {
   "cell_type": "code",
   "execution_count": null,
   "metadata": {},
   "outputs": [],
   "source": [
    "sector10 = tess_cpm.Source(sector10_file, remove_bad=True)\n",
    "sector10.plot_cutout();\n",
    "sector10.set_aperture(rowlims=[15, 17], collims=[16, 18])\n",
    "sector10.plot_cutout(rowlims=[13, 19], collims=[13, 19], show_aperture=True)\n",
    "sector10.plot_pix_by_pix();\n",
    "sector10.add_cpm_model();\n",
    "sector10.add_poly_model();\n",
    "sector10.set_regs([0.01, 0.1])"
   ]
  },
  {
   "cell_type": "code",
   "execution_count": null,
   "metadata": {},
   "outputs": [],
   "source": [
    "sector10.holdout_fit_predict(k=50);\n",
    "sector10.plot_pix_by_pix(data_type=\"cpm_subtracted_flux\");"
   ]
  },
  {
   "cell_type": "code",
   "execution_count": null,
   "metadata": {},
   "outputs": [],
   "source": [
    "sector10_lc = sector10.get_aperture_lc(data_type=\"cpm_subtracted_flux\")"
   ]
  },
  {
   "cell_type": "code",
   "execution_count": null,
   "metadata": {},
   "outputs": [],
   "source": [
    "plt.plot(sector10.time, sector10_lc, c=\"k\")"
   ]
  },
  {
   "cell_type": "code",
   "execution_count": null,
   "metadata": {},
   "outputs": [],
   "source": [
    "sector11 = tess_cpm.Source(sector11_file, remove_bad=True)\n",
    "sector11.plot_cutout();\n",
    "sector11.set_aperture(rowlims=[15, 17], collims=[15, 18])\n",
    "sector11.plot_cutout(rowlims=[13, 19], collims=[13, 19], show_aperture=True)\n",
    "sector11.plot_pix_by_pix();\n",
    "sector11.add_cpm_model();\n",
    "sector11.add_poly_model();\n",
    "sector11.set_regs([0.01, 0.1])"
   ]
  },
  {
   "cell_type": "code",
   "execution_count": null,
   "metadata": {},
   "outputs": [],
   "source": []
  },
  {
   "cell_type": "code",
   "execution_count": null,
   "metadata": {},
   "outputs": [],
   "source": [
    "plt.plot(sector8.time, sector8_lc)\n",
    "plt.plot(sector9.time, sector9_lc)\n",
    "plt.plot(sector10.time, sector10_lc)"
   ]
  },
  {
   "cell_type": "code",
   "execution_count": null,
   "metadata": {},
   "outputs": [],
   "source": []
  },
  {
   "cell_type": "code",
   "execution_count": null,
   "metadata": {},
   "outputs": [],
   "source": []
  },
  {
   "cell_type": "code",
   "execution_count": null,
   "metadata": {},
   "outputs": [],
   "source": []
  },
  {
   "cell_type": "code",
   "execution_count": null,
   "metadata": {},
   "outputs": [],
   "source": [
    "f = \"variable_stars/tess-s0011-2-1_187.917900_-59.423900_100x100_astrocut.fits\"  # * 35 Cru -- Classical Cepheid (delta Cep type)"
   ]
  },
  {
   "cell_type": "code",
   "execution_count": null,
   "metadata": {},
   "outputs": [],
   "source": [
    "# cpm = tess_cpm.CPM(f, remove_bad=True)\n",
    "# cpm.set_target_exclusion_predictors(50, 50)\n",
    "# cpm.xval(0.5);"
   ]
  },
  {
   "cell_type": "code",
   "execution_count": null,
   "metadata": {},
   "outputs": [],
   "source": [
    "# v = tess_cpm.CPM(f, remove_bad=True)\n",
    "cpm_periodogram(f, t_row=50, t_col=48)"
   ]
  },
  {
   "cell_type": "code",
   "execution_count": null,
   "metadata": {},
   "outputs": [],
   "source": [
    "v.set_poly_model(1, 4, 0.5)\n",
    "v.set_target(51, 49)\n",
    "v.set_exclusion(10)\n",
    "v.set_predictor_pixels(256)"
   ]
  },
  {
   "cell_type": "code",
   "execution_count": null,
   "metadata": {},
   "outputs": [],
   "source": [
    "v.lsq(0.5, rescale=True, polynomials=True)"
   ]
  },
  {
   "cell_type": "code",
   "execution_count": null,
   "metadata": {},
   "outputs": [],
   "source": [
    "tess_cpm.summary_plot(v, 20, subtract_polynomials=True)"
   ]
  },
  {
   "cell_type": "code",
   "execution_count": null,
   "metadata": {},
   "outputs": [],
   "source": [
    "v.get_aperture_lc(show_pixel_lc=True, show_aperture_lc=True)\n",
    "\n",
    "type(None)"
   ]
  },
  {
   "cell_type": "code",
   "execution_count": null,
   "metadata": {},
   "outputs": [],
   "source": [
    "v.sigma_clip_process(3)\n",
    "tess_cpm.summary_plot(v, 20, subtract_polynomials=True)"
   ]
  },
  {
   "cell_type": "code",
   "execution_count": null,
   "metadata": {},
   "outputs": [],
   "source": []
  }
 ],
 "metadata": {
  "kernelspec": {
   "display_name": "Python 3",
   "language": "python",
   "name": "python3"
  },
  "language_info": {
   "codemirror_mode": {
    "name": "ipython",
    "version": 3
   },
   "file_extension": ".py",
   "mimetype": "text/x-python",
   "name": "python",
   "nbconvert_exporter": "python",
   "pygments_lexer": "ipython3",
   "version": "3.7.6"
  }
 },
 "nbformat": 4,
 "nbformat_minor": 4
}
